{
 "cells": [
  {
   "cell_type": "markdown",
   "id": "97f72b70-b143-43e0-987f-5c1bde841421",
   "metadata": {},
   "source": [
    "### setup"
   ]
  },
  {
   "cell_type": "code",
   "execution_count": null,
   "id": "916fc468-7417-4cb1-a625-6024d68c15f7",
   "metadata": {
    "scrolled": true,
    "tags": []
   },
   "outputs": [],
   "source": [
    "library(orthogene)\n",
    "library(Seurat)\n",
    "library(dplyr)\n",
    "library(ggplot2)\n",
    "library(ggpubr)\n",
    "library(viridis)\n",
    "\n",
    "fig <- function(width, heigth){\n",
    " options(repr.plot.width = width, repr.plot.height = heigth)\n",
    " }"
   ]
  },
  {
   "cell_type": "code",
   "execution_count": null,
   "id": "86ccf4bd-8ca6-4f29-9308-7f6f001309e6",
   "metadata": {
    "tags": [],
    "vscode": {
     "languageId": "r"
    }
   },
   "outputs": [],
   "source": [
    "wd <- '~/codebases/MacBrainDev/'\n",
    "setwd(wd)\n",
    "\n",
    "dir.create('PCsMarkers', showWarnings = F)\n",
    "\n",
    "data.dir <- 'data/'\n",
    "\n",
    "base.name <- 'All.MNN.v1.org.fct'\n",
    "# Define filename\n",
    "indata.fname <- paste0(data.dir, base.name, '.rds')\n",
    "pc.markers.file <- 'DiseaseGenesMarkersExpression/PCs_1/Disease-risk marker gene expression plot.NotExp.0.1.Exp.0.1.csv'\n",
    "\n",
    "genesets <- readRDS(paste0(data.dir, 'ewce_important_genesets.rds'))"
   ]
  },
  {
   "cell_type": "code",
   "execution_count": null,
   "id": "55d1e306-6a60-423a-ba5c-93b3f7cb57cc",
   "metadata": {},
   "outputs": [],
   "source": [
    "finish_plot_1 <- function(p){\n",
    "    return(p + \n",
    "    geom_point(shape=16) +\n",
    "    facet_grid(cols=vars(subclass),\n",
    "               space='free', scales='free') + \n",
    "    labs(gene = \"Disease\",\n",
    "         x = \"Cell subtype\",  \n",
    "         y= 'Gene',\n",
    "         size='Percentage expressed', \n",
    "         color='Average expression') + \n",
    "\n",
    "    scale_size_continuous(range=c(2,6)) +\n",
    "\n",
    "    theme_pubr(base_family='Arial', legend = 'bottom') + labs_pubr() + \n",
    "\n",
    "    theme(strip.text.x = element_text(angle = 90, vjust = 0.5, hjust=0.5),\n",
    "          axis.text.x = element_text(angle = 90, vjust = 0.5, hjust=1, margin = margin(b=20))) +\n",
    "\n",
    "    ggtitle(label = \"Disease-risk & Patterning Center marker genes' expression\") + \n",
    "\n",
    "    guides(color = guide_colorbar(title.position = \"top\", \n",
    "                                hjust = 0.5,# centres the title horizontally\n",
    "                                title.hjust = 0.5,\n",
    "                                label.position = \"bottom\"),\n",
    "           size = guide_legend(title.position = \"top\", \n",
    "                                hjust = 0.5,# centres the title horizontally\n",
    "                                title.hjust = 0.5,\n",
    "                                label.position = \"bottom\")) +\n",
    "\n",
    "    theme(\n",
    "          panel.background = element_rect(fill = \"#F2F2F2\"),\n",
    "          panel.grid.major = element_line(size = 0.5, linetype = 'solid', colour = \"darkgrey\")) +\n",
    "    \n",
    "    scale_color_gradient(low='lightgrey', high='red')\n",
    "    # scale_color_viridis(direction=-1, option='magma', guide = \"colourbar\")\n",
    ")\n",
    "}\n",
    "    "
   ]
  },
  {
   "cell_type": "code",
   "execution_count": null,
   "id": "9c64103f-a595-437c-a59f-3d28951d6d4a",
   "metadata": {
    "tags": []
   },
   "outputs": [],
   "source": [
    "get_dis_plot <- function(genes){\n",
    "\n",
    "    gene.in.dis <- lapply(genesets$disease_lists.data, function(x) {setNames(genes %in% x, genes)})\n",
    "\n",
    "    gene.in.dis <- gene.in.dis[sapply(gene.in.dis, any)]\n",
    "\n",
    "    exclusive.in.disease <- do.call('rbind', lapply(names(gene.in.dis), function(x){\n",
    "        data.frame(Disease.listname=x, Gene=genes, Risk.gene=gene.in.dis[[x]])\n",
    "    }))\n",
    "\n",
    "    exclusive.in.disease$Disease.group <- factor(disease.groups[exclusive.in.disease$Disease.listname], levels=c('GWAS', 'MAGMA', 'DISGENET'))\n",
    "    exclusive.in.disease$Disease.name <- disease.names[exclusive.in.disease$Disease.listname]\n",
    "    exclusive.in.disease$Disease.name <- factor(exclusive.in.disease$Disease.name, sort(unique(exclusive.in.disease$Disease.name)))\n",
    "    \n",
    "    dis.exc.plot <- ggplot(exclusive.in.disease, \n",
    "           aes(x=Disease.name,\n",
    "               y = factor(Gene, levels=genes),\n",
    "               fill=Risk.gene)) + \n",
    "        facet_grid(cols=vars(Disease.group), scales='free', space='free') + \n",
    "        geom_tile(color='black') +\n",
    "        scale_fill_manual(values=c('TRUE'='black', 'FALSE'='#F2F2F2')) + \n",
    "        labs(x = \"\",\n",
    "             y = \"Gene\",  \n",
    "             fill='Risk gene') + \n",
    "\n",
    "        theme_pubr(base_family='Arial', legend = 'none') + labs_pubr() +\n",
    "\n",
    "        theme(strip.text.x = element_text(angle = 90, vjust = 0.5, hjust=0.5),\n",
    "              axis.text.x = element_text(angle = 90, vjust = 0.5, hjust=1)) +\n",
    "\n",
    "\n",
    "        guides(fill = guide_legend(title.position = \"top\", \n",
    "                                    hjust = 0.5,# centres the title horizontally\n",
    "                                    title.hjust = 0.5,\n",
    "                                    label.position = \"right\", ncol=1)) +\n",
    "        theme(panel.background = element_rect(fill = \"#F2F2F2\"), legend.margin=margin(t=10))\n",
    "\n",
    "    return(list(p=dis.exc.plot, n=length(unique(exclusive.in.disease$Disease.listname))))\n",
    "}"
   ]
  },
  {
   "cell_type": "markdown",
   "id": "d1460701-71eb-46f9-8616-0109edb01b87",
   "metadata": {},
   "source": [
    "### load data"
   ]
  },
  {
   "cell_type": "code",
   "execution_count": null,
   "id": "781e287a-dc10-4fcc-ac41-a77b418dc28f",
   "metadata": {
    "scrolled": true,
    "tags": [],
    "vscode": {
     "languageId": "r"
    }
   },
   "outputs": [],
   "source": [
    "# Load data\n",
    "indata <- readRDS(indata.fname)\n",
    "# Print summary\n",
    "indata\n",
    "# gather info from clusters\n",
    "clusters <- data.frame(unique(indata@meta.data[,c('subclass','subtype')]))\n",
    "rownames(clusters) <- clusters$subtype\n",
    "clusters\n",
    "\n",
    "# convert human genes to macaque (121 orthologs)\n",
    "exp.ort <- convert_orthologs(rownames(indata), input_species = 'mmulatta', output_species = 'hsapiens', verbose=T)\n",
    "head(exp.ort)\n",
    "\n",
    "data.mm.to.hs <- setNames(rownames(exp.ort), exp.ort$input_gene)\n",
    "data.hs.to.mm <- setNames(exp.ort$input_gene, rownames(exp.ort))\n",
    "\n",
    "hsdata <- CreateSeuratObject(counts = indata[['RNA']]@counts[names(data.mm.to.hs),], project = 'hs', assay = 'RNA', meta.data = indata@meta.data, \n",
    "                             row.names = data.mm.to.hs, min.cells = 0, min.features = 0)\n",
    "\n",
    "hsdata <- SetAssayData(object = hsdata, slot = 'data', assay = 'RNA', new.data=indata[['RNA']]@data[names(data.mm.to.hs),])\n",
    "\n",
    "hsdata"
   ]
  },
  {
   "cell_type": "code",
   "execution_count": null,
   "id": "313a5b86-9908-4fc9-9dd6-ad7dadff078c",
   "metadata": {},
   "outputs": [],
   "source": [
    "disease.listnames <- names(genesets$disease_lists.data)\n",
    "\n",
    "disease.names <- setNames(sapply(strsplit(disease.listnames, split='::'), function(x){rev(x)[1]}), disease.listnames)\n",
    "\n",
    "disease.groups <- setNames(sapply(strsplit(disease.listnames, split='::'), \n",
    "                                 function(x){if (length(x)==2) x[1] else 'GWAS'}), disease.listnames)"
   ]
  },
  {
   "cell_type": "markdown",
   "id": "2a7f4859-813f-4b08-ae9f-881a54702db8",
   "metadata": {},
   "source": [
    "### prepare data"
   ]
  },
  {
   "cell_type": "code",
   "execution_count": null,
   "id": "db533ecd-5560-41d4-8088-6213947b040e",
   "metadata": {
    "tags": []
   },
   "outputs": [],
   "source": [
    "bname <- basename(pc.markers.file)\n",
    "\n",
    "name.split <- strsplit(pc.markers.file, split='.', fixed=T)[[1]]\n",
    "not.exp <- grep('NotExp', name.split, fixed=T)\n",
    "min.exp <- as.numeric(paste(name.split[(not.exp+1):(not.exp+2)], collapse='.'))*100\n",
    "\n",
    "print(pc.markers.file)\n",
    "print(min.exp)\n",
    "\n",
    "bname <- basename(pc.markers.file)\n",
    "\n",
    "pc.markers.df <- read.csv(pc.markers.file, row.names=1)\n",
    "risk.markers <- sort(unique(strsplit(paste(pc.markers.df$risk.markers, collapse=','), split=',', fixed=T)[[1]]))\n",
    "risk.markers <- risk.markers[risk.markers!='']\n",
    "print(length(risk.markers))\n",
    "\n",
    "my.hsdata <- ScaleData(hsdata, block.size = 10000, features=risk.markers, vars.to.regress = 'nCount_RNA', verbose=T)\n",
    "\n",
    "\n",
    "\n",
    "\n",
    "\n",
    "dp <- DotPlot(my.hsdata, features=rev(risk.markers), group.by = 'subtype')\n",
    "dpdata <- dp$data\n",
    "\n",
    "dpdata$subclass <- clusters[as.character(dpdata$id), 'subclass']\n",
    "\n",
    "gene.max <- subset(dpdata, subclass == 'Patterning centers' & pct.exp >= min.exp) %>%\n",
    "    group_by(features.plot) %>% \n",
    "    summarize(max.pct = id[order(avg.exp.scaled, decreasing = T)][1])\n",
    "\n",
    "gene.order <- rev(unname(unlist(split(gene.max$features.plot, gene.max$max.pct)[levels(droplevels(subset(clusters, subclass=='Patterning centers' )$subtype))])))\n",
    "\n",
    "dpdata$features.plot <- factor(dpdata$features.plot, levels=gene.order)\n",
    "\n",
    "subclass.dont.count <- c('Mes', 'Patterning centers', 'RB&Vas', 'Immune')\n",
    "if(!all(subclass.dont.count %in% unique(dpdata$subclass))){stop()}\n",
    "\n",
    "gene.per.cluster.exp <- subset(dpdata, \n",
    "                               !subclass %in% subclass.dont.count) %>%\n",
    "    group_by(id, features.plot) %>% \n",
    "    summarise(exp=pct.exp >= 10)\n",
    "\n",
    "gene.exp <- gene.per.cluster.exp %>% \n",
    "    group_by(features.plot) %>% \n",
    "    summarize(exp=sum(exp), exclusive=sum(exp)<=3)\n",
    "\n",
    "genes.exclusive <- subset(gene.exp, exclusive)$features.plot\n",
    "\n",
    "message(bname)\n",
    "print('- Exclusive genes:')\n",
    "print(genes.exclusive)"
   ]
  },
  {
   "cell_type": "markdown",
   "id": "d5b9922d-cf24-4654-b639-c2cfbbb8427e",
   "metadata": {},
   "source": [
    "### plot"
   ]
  },
  {
   "cell_type": "code",
   "execution_count": null,
   "id": "c243df67-8691-424b-b203-5781b434463e",
   "metadata": {
    "tags": []
   },
   "outputs": [],
   "source": [
    "# expression   \n",
    "exp.plot.scaled <- finish_plot_1(ggplot(dpdata, \n",
    "                  aes(x=id,\n",
    "                      y=features.plot,\n",
    "                      size=ifelse(pct.exp < min.exp, NA, pct.exp),\n",
    "                      color=avg.exp.scaled)) ) + ggtitle(label = \"Disease-risk & Patterning Center marker genes' expression\",\n",
    "                                                         subtitle=paste0('Minimum expression shown: ', min.exp, '% of cells')) \n",
    "\n",
    "ggsave(exp.plot.scaled, \n",
    "       filename = paste0('PCsMarkers/', 'MarkersExpression.pdf'),\n",
    "       width = 22, height = 27, limitsize = FALSE, useDingbats=FALSE)\n",
    "\n",
    "# diseases\n",
    "dis.exc.plot.list <- get_dis_plot(gene.order)\n",
    "dis.n <- dis.exc.plot.list$n\n",
    "dis.exc.plot <- dis.exc.plot.list$p\n",
    "\n",
    "\n",
    "combined.plot <- cowplot::plot_grid(\n",
    "    dis.exc.plot + theme(axis.text.y = element_blank()),\n",
    "    exp.plot.scaled + ylab(''),\n",
    "    rel_widths=c(4,13),\n",
    "    align = 'h', axis = 'lbt')\n",
    "\n",
    "cowplot::save_plot(combined.plot, filename='Supp.16.C.pdf',\n",
    "                    base_height = 27, base_width = 30, limitsize = FALSE, useDingbats=FALSE)\n",
    "\n",
    "\n",
    "# expression exclusive\n",
    "exp.plot.scaled.top <- finish_plot_1(ggplot(filter(dpdata, features.plot %in% genes.exclusive), \n",
    "                  aes(x=id,\n",
    "                      y=features.plot,\n",
    "                      size=ifelse(pct.exp < min.exp, NA, pct.exp),\n",
    "                      color=avg.exp.scaled)) ) + ggtitle(label = \"Disease-risk & Patterning Center marker genes' expression\",\n",
    "                                                         subtitle=paste0('Minimum expression shown: ', min.exp, '% of cells')) \n",
    "\n",
    "ggsave(exp.plot.scaled.top, \n",
    "       filename = paste0('PCsMarkers/', 'ExclusiveMarkersExpression.pdf'),\n",
    "       width = 22, height = 10, limitsize = FALSE, useDingbats=FALSE)\n",
    "\n",
    "# diseases\n",
    "dis.exc.plot.list.top <- get_dis_plot(genes.exclusive)\n",
    "dis.n.top <- dis.exc.plot.list.top$n\n",
    "dis.exc.plot.top <- dis.exc.plot.list.top$p\n",
    "\n",
    "\n",
    "combined.plot.top <- cowplot::plot_grid(\n",
    "    dis.exc.plot.top + theme(axis.text.y = element_blank()),\n",
    "    exp.plot.scaled.top + ylab(''),\n",
    "    rel_widths=c(2.7,13),\n",
    "    align = 'h', axis = 'lbt')\n",
    "\n",
    "cowplot::save_plot(combined.plot.top, filename='Fig.7.B.pdf',\n",
    "                    base_height = 10, base_width = 25, limitsize = FALSE, useDingbats=FALSE)"
   ]
  },
  {
   "cell_type": "code",
   "execution_count": null,
   "id": "603d5417-e413-41bc-aa4d-037d9702fbe6",
   "metadata": {},
   "outputs": [],
   "source": [
    "fig(25,10)\n",
    "\n",
    "combined.plot.top"
   ]
  }
 ],
 "metadata": {
  "kernelspec": {
   "display_name": "Portfolio (R)",
   "language": "R",
   "name": "portfolio-r"
  },
  "language_info": {
   "codemirror_mode": "r",
   "file_extension": ".r",
   "mimetype": "text/x-r-source",
   "name": "R",
   "pygments_lexer": "r",
   "version": "4.3.1"
  }
 },
 "nbformat": 4,
 "nbformat_minor": 5
}
