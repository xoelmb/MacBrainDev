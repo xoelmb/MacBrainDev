{
 "cells": [
  {
   "cell_type": "markdown",
   "id": "4e531558-f996-433a-b3c2-df02dd9fb088",
   "metadata": {},
   "source": [
    "### setup"
   ]
  },
  {
   "cell_type": "code",
   "execution_count": null,
   "id": "eb05d447-e0a0-4f30-9931-9c7e2fad8ef0",
   "metadata": {
    "vscode": {
     "languageId": "r"
    }
   },
   "outputs": [],
   "source": [
    "library(EWCE) # Versions prior to 1.5.5 did not compute controlled results properly\n",
    "library(orthogene)\n",
    "library(Seurat)"
   ]
  },
  {
   "cell_type": "code",
   "execution_count": null,
   "id": "c333e9a1-d0cc-4d3e-97dc-88761f0d4ca7",
   "metadata": {
    "scrolled": true,
    "tags": [],
    "vscode": {
     "languageId": "r"
    }
   },
   "outputs": [],
   "source": [
    "wd <- '~/codebases/MacBrainDev/'\n",
    "data.dir <- 'data/'\n",
    "setwd(wd)\n",
    "\n",
    "\n",
    "n.cores <-  as.numeric(Sys.getenv('SLURM_CPUS_PER_TASK'))\n",
    "n.cores <- if (!is.na(n.cores) & n.cores > 1) n.cores else parallel::detectCores()\n",
    "n.cores\n",
    "\n",
    "options(future.globals.maxSize= 5*1024^3)\n",
    "future::plan(strategy = \"multicore\", workers = n.cores)\n",
    "\n",
    "disease_lists <- readRDS(glue::glue('{data.dir}Disease_genes/all_diseases_list.rds'))\n",
    "\n",
    "# For markers only\n",
    "downsample_ncells_per_subtype <- Inf\n",
    "\n",
    "# Define filenames\n",
    "\n",
    "base.name <- 'All.MNN.v1.org.fct'\n",
    "\n",
    "indata.fname <- paste0(data.dir, base.name, '.rds')\n",
    "# ctd object\n",
    "ctd.fname <- paste0(data.dir, 'ewce_ctd.', base.name,\n",
    "                    '.ds', downsample_ncells_per_subtype, '.rds')\n",
    "# markers\n",
    "markers.fname <- paste0(data.dir, 'ewce_downsampled_markers.',\n",
    "                        base.name,  '.ds', \n",
    "                        downsample_ncells_per_subtype,'.rds')\n",
    "# sct object\n",
    "sct.fname <- paste0(data.dir, 'ewce_sct.', base.name, '.rds')\n",
    "# sct normalized object\n",
    "sct.normed.fname <- paste0(data.dir, 'ewce_sct_normed_markers_orthos.', base.name, \n",
    "                           '.ds', downsample_ncells_per_subtype, '.rds')\n",
    "\n",
    "# Define parameters\n",
    "# for ewce\n",
    "reps <- 20000 #  >10000\n",
    "verbose <- T\n",
    "\n",
    "# ewce\n",
    "dis.res.folder <- paste0(data.dir, 'EWCE_diseases.ds', downsample_ncells_per_subtype, '/')\n",
    "dir.create(dis.res.folder, showWarnings = F)\n",
    "EWCE_results.fname <- paste0('EWCE_results.', reps, '_reps.ds', downsample_ncells_per_subtype, '.csv')\n"
   ]
  },
  {
   "cell_type": "code",
   "execution_count": null,
   "id": "d0aa2743-2ef5-4a8e-9d72-e8efbeb1b4ae",
   "metadata": {
    "vscode": {
     "languageId": "r"
    }
   },
   "outputs": [],
   "source": [
    "# Load data\n",
    "indata <- readRDS(indata.fname)\n",
    "# Print summary\n",
    "indata\n",
    "\n",
    "Idents(indata) <- 'subtype'"
   ]
  },
  {
   "cell_type": "markdown",
   "id": "d180c01e-7cd0-4704-b54e-c426b55a7c64",
   "metadata": {
    "tags": []
   },
   "source": [
    "### Find All Marker genes"
   ]
  },
  {
   "cell_type": "code",
   "execution_count": null,
   "id": "772b50f5-8a2e-48f1-82af-f5dae14d43c0",
   "metadata": {},
   "outputs": [],
   "source": [
    "normalizePath(markers.fname)"
   ]
  },
  {
   "cell_type": "code",
   "execution_count": null,
   "id": "57c5d8aa-88fd-4f04-9888-f03779acfeb6",
   "metadata": {
    "tags": []
   },
   "outputs": [],
   "source": [
    "markers.fname\n",
    "\n",
    "# Check if run\n",
    "if (!file.exists(markers.fname) & !file.exists(ctd.fname)){\n",
    "    \n",
    "    print('Computing Markers')\n",
    "    \n",
    "    Idents(indata) <- 'subtype'\n",
    "    \n",
    "    all.markers <- FindAllMarkers(\n",
    "      # ds.seurat,\n",
    "      indata,\n",
    "      assay = 'RNA',\n",
    "      features = NULL,\n",
    "      logfc.threshold = 0.25,\n",
    "      test.use = \"wilcox\",\n",
    "      slot = \"data\",\n",
    "      min.pct = 0.1,\n",
    "      min.diff.pct = -Inf,\n",
    "      node = NULL,\n",
    "      verbose = TRUE,\n",
    "      only.pos = FALSE,\n",
    "      max.cells.per.ident = downsample_ncells_per_subtype,\n",
    "      random.seed = 1,\n",
    "      latent.vars = NULL,\n",
    "      min.cells.feature = 3,\n",
    "      min.cells.group = 3,\n",
    "      pseudocount.use = 1,\n",
    "      mean.fxn = NULL,\n",
    "      fc.name = NULL,\n",
    "      base = 2,\n",
    "      return.thresh = 0.01,\n",
    "      densify = FALSE,\n",
    "    )\n",
    "    \n",
    "    saveRDS(all.markers, markers.fname)\n",
    "    \n",
    "} else {\n",
    "    all.markers <- readRDS(markers.fname)\n",
    "}\n",
    "\n",
    "# ADJUSTED P-VALUE < 0.05\n",
    "length(unique(dplyr::filter(all.markers, p_val_adj < 0.05)$gene))\n",
    "\n",
    "# ADJUSTED P-VALUE < 0.05 & |AVG log2 FC| > 1 \n",
    "length(unique(dplyr::filter(all.markers, p_val_adj < 0.05, abs(avg_log2FC) > 1)$gene)) \n",
    "\n",
    "# ADJUSTED P-VALUE < 0.05 & |AVG log2 FC| > 2\n",
    "length(unique(dplyr::filter(all.markers, p_val_adj < 0.05, abs(avg_log2FC) > 2)$gene)) \n",
    "\n",
    "significant.markers <- unique(dplyr::filter(all.markers, p_val_adj < 0.05)$gene)"
   ]
  },
  {
   "cell_type": "markdown",
   "id": "dfde3693-09e3-4ccc-8971-ef6bba5d2f91",
   "metadata": {},
   "source": [
    "### SCT Normalization"
   ]
  },
  {
   "cell_type": "code",
   "execution_count": null,
   "id": "c7c9fbd4-72f6-49e2-9c68-e40c07e20568",
   "metadata": {
    "vscode": {
     "languageId": "r"
    }
   },
   "outputs": [],
   "source": [
    "# Lower number of cores to reduce memory usagefuture::plan(strategy = \"multicore\", workers = min(40, n.cores))\n",
    "\n",
    "file.exists(sct.normed.fname)\n",
    "ctd.fname\n",
    "file.exists(ctd.fname)\n",
    "# If CTD is already computed, we don't need anything here\n",
    "if (file.exists(sct.normed.fname) & !file.exists(ctd.fname)){\n",
    "    exp.normed <- readRDS(sct.normed.fname)\n",
    "    \n",
    "} else if (!file.exists(ctd.fname)){\n",
    "    \n",
    "    # If we already have the sct-data, we can load it, otherwise we run it\n",
    "    if (file.exists(sct.fname)){\n",
    "        sct <- readRDS(sct.fname)\n",
    "    } else {\n",
    "        requireNamespace(\"sctransform\")\n",
    "\n",
    "        raw.expression <- indata[['RNA']]@counts\n",
    "        # First, perform sctransform of data\n",
    "        sct <- sctransform::vst(umi = raw.expression,\n",
    "                                method=\"glmGamPoi\", \n",
    "                                return_cell_attr = TRUE, \n",
    "                                n_genes = 3000,\n",
    "                                verbosity = 2)\n",
    "        saveRDS(sct, sct.fname)\n",
    "    }\n",
    "    \n",
    "    ## Get orthologues data\n",
    "    # Check number of genes in SCT-data and in significant markers\n",
    "    print(paste('Number of genes before SCT:', nrow(indata)))\n",
    "    sct.genes <- rownames(sct$y)\n",
    "    print(paste('Number of genes after SCT:', length(sct.genes)))\n",
    "    print(paste('Number of marker genes:', length(significant.markers)))\n",
    "    # Intersect lists\n",
    "    markers.sct.genes <- sct.genes[sct.genes %in% significant.markers]\n",
    "    print(paste('Number of genes after SCT in markers:', length(markers.sct.genes)))\n",
    "    # Convert macaque to human genes\n",
    "    orthos <- convert_orthologs(markers.sct.genes,input_species = 'macaque', verbose = F)\n",
    "    print(paste('Number of matching orthologs:', nrow(orthos)))\n",
    "\n",
    "    ## Correct orthologues data\n",
    "    # Get subset of data\n",
    "    ortho.raw <- indata[['RNA']]@counts[orthos$input_gene,]\n",
    "\n",
    "    # Correct subset data using full model\n",
    "    ortho.sct <- sctransform::correct_counts(x = sct, umi = ortho.raw, verbosity = 2)\n",
    "    # Rename genes in object\n",
    "    rownames(ortho.sct) <- rownames(orthos)\n",
    "    # Normalize gene expression\n",
    "    exp.normed <- Matrix::t(Matrix::t(ortho.sct) * (1/Matrix::colSums(ortho.sct)))\n",
    "    \n",
    "    saveRDS(exp.normed, sct.normed.fname)\n",
    "    \n",
    "}"
   ]
  },
  {
   "cell_type": "markdown",
   "id": "1b12d1f4-1d0d-42ea-b89d-eb1f4a314766",
   "metadata": {},
   "source": [
    "### CellTypeData object"
   ]
  },
  {
   "cell_type": "code",
   "execution_count": null,
   "id": "aa651139-633f-4fce-9668-a02f650901b6",
   "metadata": {
    "vscode": {
     "languageId": "r"
    }
   },
   "outputs": [],
   "source": [
    "# increase number of cores for parallel computing\n",
    "future::plan(strategy = \"multicore\", workers = min(80, n.cores))\n",
    "\n",
    "# Define annotation levels\n",
    "annot.levels <- as.list(indata@meta.data[,c('subclass','subtype')])\n",
    "\n",
    "if (file.exists(ctd.fname)){\n",
    "\n",
    "    ctd <- ctd.fname\n",
    "\n",
    "} else {\n",
    "\n",
    "    ctd <- generate_celltype_data(\n",
    "    \n",
    "    exp=exp.normed,\n",
    "    annotLevels=annot.levels,\n",
    "    groupName='MacaqueDev',\n",
    "    \n",
    "    input_species='hsapiens',\n",
    "    output_species='hsapiens',\n",
    "    convert_orths=F,\n",
    "    \n",
    "    specificity_quantiles=T,\n",
    "    dendrograms=T,\n",
    "    \n",
    "    file_prefix=paste0('ewce_ctd.',base.name),\n",
    "    force_new_file=T,\n",
    "    \n",
    "    no_cores=n.cores,\n",
    "    as_sparse = TRUE,\n",
    "    as_DelayedArray = FALSE,\n",
    "    verbose=T)\n",
    "    \n",
    "    file.copy(ctd, ctd.fname)\n",
    "}"
   ]
  },
  {
   "cell_type": "markdown",
   "id": "ef6b1b83-e388-431d-9527-ad853db35340",
   "metadata": {},
   "source": [
    "### Perform analysis"
   ]
  },
  {
   "cell_type": "code",
   "execution_count": null,
   "id": "764460a8-5962-4fad-a1ed-cff82cdb6aab",
   "metadata": {},
   "outputs": [],
   "source": [
    "print(Sys.time())"
   ]
  },
  {
   "cell_type": "code",
   "execution_count": null,
   "id": "f8adb040-596e-4192-90c0-f13078a362cc",
   "metadata": {
    "scrolled": true,
    "tags": [],
    "vscode": {
     "languageId": "r"
    }
   },
   "outputs": [],
   "source": [
    "sapply(disease_lists, length)\n",
    "\n",
    "if (is.character(ctd)){load(ctd)}\n",
    "\n",
    "# Start buffer of results\n",
    "dis_results <- list()\n",
    "\n",
    "max_tries <- 10\n",
    "geneSizeControl <- F\n",
    "\n",
    "# Iterate lists of diseases\n",
    "for (dis in names(disease_lists)){\n",
    "    \n",
    "    # get genset\n",
    "    gset <- disease_lists[[dis]]\n",
    "\n",
    "    # Decide which level of annotation to analyse, we do both\n",
    "    for (level in c(1:2)){\n",
    "\n",
    "        # Start summary\n",
    "print(paste(which(names(disease_lists)==dis), length(disease_lists), sep='/'))\n",
    "        print(paste('### Disease:', dis))\n",
    "        print(paste('### GC&Length control:', geneSizeControl))\n",
    "        print(paste('### Level:', level))\n",
    "        \n",
    "        # define a name of the run and filename\n",
    "        tag <- paste(dis, level, geneSizeControl) \n",
    "        dis_results.fname <- paste0(dis.res.folder, 'EWCE_results.', reps, '_reps.', tag, '.csv')\n",
    "\n",
    "        # If results were computed, load them\n",
    "        if (file.exists(dis_results.fname)){\n",
    "            print('Loading results')\n",
    "            dis_results[[tag]] <- read.csv(dis_results.fname, row.names=1)\n",
    "        # If not, try to compute it upto max.tries\n",
    "        } else {\n",
    "            tries <- 0\n",
    "            while (!tag %in% names(dis_results) & tries < max_tries){\n",
    "                tryCatch(\n",
    "                    {\n",
    "                        tries <- tries +1\n",
    "                        res <- bootstrap_enrichment_test(\n",
    "\n",
    "                            sct_data = ctd,\n",
    "\n",
    "                            hits = gset,\n",
    "                            bg = NULL,\n",
    "\n",
    "                            genelistSpecies = 'human',\n",
    "                            sctSpecies = 'human',\n",
    "                            output_species = \"human\",\n",
    "\n",
    "                            reps = reps,\n",
    "\n",
    "                            annotLevel = level,\n",
    "                            geneSizeControl = geneSizeControl,\n",
    "                            controlledCT = NULL,\n",
    "                            mtc_method = \"BH\",\n",
    "\n",
    "                            no_cores = n.cores,\n",
    "                            sort_results = TRUE,\n",
    "                            verbose = verbose)\n",
    "\n",
    "\n",
    "                        res$results$hit.cells <- res$hit.cells[rownames(res$results)]\n",
    "                        res$results$geneSizeControl <- geneSizeControl\n",
    "                        \n",
    "                        # Save, export and delete\n",
    "                        dis_results[[tag]] <- data.frame(res$results, list=dis)\n",
    "                        write.csv(dis_results[[tag]], dis_results.fname)\n",
    "                        rm(res)\n",
    "                    },\n",
    "                    error=function(cond) {\n",
    "                        print(as.character(cond))\n",
    "\n",
    "                        print(tag)\n",
    "                        if (tries > max_tries){\n",
    "                            print('COULD NOT COMPUTE')\n",
    "                        } else {\n",
    "                            print('Repeating')\n",
    "                        }\n",
    "                        # Choose a return value in case of error\n",
    "                        return()\n",
    "                    })\n",
    "                gc()\n",
    "            }\n",
    "        }\n",
    "        print('next...')\n",
    "    }\n",
    "}\n",
    "\n",
    "# Combine results\n",
    "results <- do.call('rbind', dis_results)\n",
    "rownames(results) <- 1:nrow(results)\n",
    "results\n",
    "\n",
    "# Export results\n",
    "write.csv(results, file=EWCE_results.fname)"
   ]
  },
  {
   "cell_type": "code",
   "execution_count": null,
   "id": "b477933d-a16a-4b0d-90c7-cfeb320a9ef2",
   "metadata": {
    "vscode": {
     "languageId": "r"
    }
   },
   "outputs": [],
   "source": [
    "print(Sys.time())"
   ]
  },
  {
   "cell_type": "code",
   "execution_count": null,
   "id": "b23849d4-3f43-4252-9323-3061035cdfbd",
   "metadata": {
    "scrolled": true,
    "tags": []
   },
   "outputs": [],
   "source": [
    "sessionInfo()"
   ]
  },
  {
   "cell_type": "code",
   "execution_count": null,
   "id": "df7d9593-822d-461e-9427-6e0e8a70bea2",
   "metadata": {},
   "outputs": [],
   "source": []
  }
 ],
 "metadata": {
  "kernelspec": {
   "display_name": "Portfolio (R)",
   "language": "R",
   "name": "portfolio-r"
  },
  "language_info": {
   "codemirror_mode": "r",
   "file_extension": ".r",
   "mimetype": "text/x-r-source",
   "name": "R",
   "pygments_lexer": "r",
   "version": "4.3.1"
  }
 },
 "nbformat": 4,
 "nbformat_minor": 5
}
