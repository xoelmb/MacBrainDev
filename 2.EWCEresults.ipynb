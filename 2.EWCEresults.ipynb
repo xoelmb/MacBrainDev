{
 "cells": [
  {
   "cell_type": "markdown",
   "id": "1043f06d-8e4b-4ab7-9b9e-39beded77a97",
   "metadata": {},
   "source": [
    "### setup"
   ]
  },
  {
   "cell_type": "code",
   "execution_count": null,
   "id": "e3e4bff4-52bb-473e-a4ba-996a81fbda09",
   "metadata": {
    "vscode": {
     "languageId": "r"
    }
   },
   "outputs": [],
   "source": [
    "library(ggplot2)\n",
    "library(viridis)\n",
    "library(ggpubr)\n",
    "\n",
    "fig <- function(width, heigth){\n",
    " options(repr.plot.width = width, repr.plot.height = heigth)\n",
    " }"
   ]
  },
  {
   "cell_type": "code",
   "execution_count": null,
   "id": "9158858e-24e1-4f02-b7d0-1da57f76f336",
   "metadata": {
    "scrolled": true,
    "tags": [],
    "vscode": {
     "languageId": "r"
    }
   },
   "outputs": [],
   "source": [
    "wd <- '~/codebases/MacBrainDev/'\n",
    "setwd(wd)\n",
    "data.dir <- 'data/'\n",
    "dir.create(fig.dir, showWarnings = F)\n",
    "\n",
    "n.cores <- as.numeric(Sys.getenv('SLURM_CPUS_PER_TASK'))\n",
    "n.cores <- if (is.na(n.cores)) parallel::detectCores() else n.cores\n",
    "\n",
    "disease_lists <- readRDS(paste0(data.dir, 'all_diseases_list.rds'))\n",
    "disease_lists\n",
    "\n",
    "\n",
    "base.name <- 'All.MNN.v1.org.fct'\n",
    "\n",
    "clusters <- read.table('raw/all.nhp.cbn.v6.txt', sep='\\t', header=1)\n",
    "clusters$subtype <- factor(clusters$cluster, levels=unique(clusters$cluster))\n",
    "clusters$subclass <- factor(clusters$label, levels=unique(clusters$label))\n",
    "clusters <- data.frame(row.names=clusters$cluster,\n",
    "                       subclass = factor(clusters$label, levels=unique(clusters$label)),\n",
    "                       subtype=factor(clusters$cluster, levels=unique(clusters$cluster)))\n",
    "clusters"
   ]
  },
  {
   "cell_type": "code",
   "execution_count": null,
   "id": "42736fe9-cc55-4bf4-bd98-d909ee5582af",
   "metadata": {
    "tags": []
   },
   "outputs": [],
   "source": [
    "### EWCE Results\n",
    "\n",
    "EWCE_results.fname <- \"EWCE_results.20000_reps.dsInf.csv\"\n",
    "#paste0(data.dir, 'EWCE_results.20000_reps.dsInf.csv')\n",
    "normalizePath(EWCE_results.fname)\n",
    "results <- read.csv(EWCE_results.fname, row.names=1)\n",
    "\n",
    "results$`q-value < 0.05` <- results$q < 0.05\n",
    "results$CellType <- gsub('_', ' ', results$CellType, fixed = T)\n",
    "results$CellType <- gsub('PAT related', 'PAT-related', results$CellType, fixed = T)\n",
    "\n",
    "benames <- sort(as.character(clusters$subtype[!clusters$subtype %in% unique(results$CellType)]))\n",
    "malnames <- sort(unique(results$CellType)[!unique(results$CellType) %in% clusters$subtype & !unique(results$CellType) %in% clusters$subclass ])\n",
    "mis.names <- setNames(benames,malnames)\n",
    "results$CellType <- stringr::str_replace_all(results$CellType, mis.names)\n",
    "results <- results[!apply(is.na(results[,c('p','fold_change','sd_from_mean','q','hit.cells')]), 1, all),]\n",
    "\n",
    "\n",
    "results$Disease.source <- sapply(strsplit(results$list, '::', fixed=T),\n",
    "                                 function(x){if (length(x)>1) x[[1]] else ''})\n",
    "results$Disease.list <- sapply(strsplit(results$list, '::', fixed=T),\n",
    "                               function(x){if (length(x)>1) x[[2]] else x[[1]]})\n",
    "results$Disease.group <- ifelse(results$Disease.source == 'MAGMA', 'MAGMA', ifelse(results$Disease.source == 'DISGENET', 'DISGENET', 'ASD + DD + GWAS'))\n",
    "results$Disease.group <- factor(results$Disease.group, levels=c('ASD + DD + GWAS', 'MAGMA', 'DISGENET'))                     \n",
    "results$Disease.listname <- ifelse(results$Disease.source=='', results$Disease.list, paste(results$Disease.source, results$Disease.list, sep = '::'))\n",
    "results <- subset(results, !Disease.list %in% c('mixed gliomas'))\n",
    "results$Disease.list <- factor(results$Disease.list, levels=sort(unique(results$Disease.list), decreasing=T))\n",
    "\n",
    "# Export diseases\n",
    "\n",
    "disease.df <- data.frame(Disease.listname=unique(results$Disease.listname))\n",
    "disease.df$Disease.group <- sapply(strsplit(disease.df$Disease.listname, split='::', fixed=T), function(x){if (length(x)==2) x[1] else 'GWAS'})\n",
    "disease.df$Disease.name <- sapply(strsplit(disease.df$Disease.listname, split='::', fixed=T), function(x){x[length(x)]})\n",
    "disease.df <- disease.df[order(disease.df$Disease.name),]\n",
    "disease.df <- data.frame(do.call('rbind', split(disease.df, disease.df$Disease.group)[c('GWAS', 'MAGMA', 'DISGENET')]), row.names=NULL)\n",
    "\n",
    "disease.df\n",
    "write.csv(disease.df, 'data/DiseaseOrderFinal.csv')\n",
    "                                                                                                           \n",
    "                                                                                                           \n",
    "head(results)\n",
    "summary(results)"
   ]
  },
  {
   "cell_type": "markdown",
   "id": "6b8fc8da-252b-4f2a-a05a-02f588fe4dd7",
   "metadata": {},
   "source": [
    "# Heatmap\n"
   ]
  },
  {
   "cell_type": "code",
   "execution_count": null,
   "id": "12713a80-8a3c-4d09-a70b-69f2db5358cb",
   "metadata": {
    "tags": []
   },
   "outputs": [],
   "source": [
    "#### Per type (LEVEL 1)\n",
    "\n",
    "l1_f_res <- results[results$geneSizeControl == F &  results$annotLevel==1,]\n",
    "l1_f_res$CellType <- factor(l1_f_res$CellType, levels=levels(clusters$subclass)[levels(clusters$subclass) %in% unique(l1_f_res$CellType)])\n",
    "\n",
    "fig(10,10)\n",
    "l1_f_htmp <- ggplot(l1_f_res, aes(x=CellType, y=Disease.list,\n",
    "                                  fill=sd_from_mean,\n",
    "                                  alpha=`q-value < 0.05`\n",
    "                                 )) + \n",
    "    geom_tile(color='darkgrey') + \n",
    "    facet_grid(rows='Disease.group', space='free', scales='free') + \n",
    "    scale_alpha_manual(values=c('TRUE'=1, 'FALSE'=0)) + \n",
    "    labs(y= \"Disease\", x = \"Cell type\", fill='SD from mean') +\n",
    "    scale_fill_viridis(limits = c(min(ifelse(l1_f_res$`q-value < 0.05`, l1_f_res$sd_from_mean, NA), na.rm=T),NA)) + \n",
    "    theme_pubr(base_family='Arial', legend = 'right') + labs_pubr() + \n",
    "    theme(axis.text.x = element_text(angle = 90, vjust = 0.5, hjust=1)) + \n",
    "    ggtitle(label = 'EWCE results of cell types', subtitle='NOT controlling for GC content and gene length') +\n",
    "    theme(\n",
    "      panel.background = element_rect(fill = \"#F2F2F2\")) # , panel.grid.major = element_line(size = 0.5, linetype = 'solid', colour = \"darkgrey\"))\n",
    "\n",
    "\n",
    "fig(10,10)\n",
    "l1_f_htmp\n",
    "ggsave(l1_f_htmp, \n",
    "       filename =  'EWCE results of cell types - Not controlled.pdf', \n",
    "       width = 10, height = 10, useDingbats=FALSE)\n",
    "\n",
    "\n",
    "\n",
    "#### Per subtype (LEVEL 2)\n",
    "\n",
    "l2_f_res <- results[results$geneSizeControl == F &  results$annotLevel==2,]\n",
    "l2_f_res$CellType <- factor(l2_f_res$CellType, levels=levels(clusters$subtype)[levels(clusters$subtype) %in% unique(l2_f_res$CellType)])\n",
    "l2_f_res$Type <- clusters[ as.character(l2_f_res$CellType),'subclass']\n",
    "\n",
    "fig(25,13)\n",
    "l2_f_htmp <- ggplot(l2_f_res, aes(x=CellType, y=Disease.list, fill=sd_from_mean, alpha=`q-value < 0.05`)) + \n",
    "    geom_tile(color='darkgrey') + \n",
    "    scale_alpha_manual(values=c('TRUE'=1, 'FALSE'=0)) + \n",
    "    facet_grid(rows=vars(Disease.group), cols=vars(Type), space='free', scales='free') + \n",
    "    labs(y= \"Disease\", x = \"Cell subtype\", fill='SD from mean') +\n",
    "    scale_fill_viridis(limits = c(min(ifelse(l2_f_res$`q-value < 0.05`, l2_f_res$sd_from_mean, NA), na.rm=T),NA)) + \n",
    "    theme_pubr(base_family='Arial', legend = 'bottom') + labs_pubr() + \n",
    "    theme(axis.text.x = element_text(angle = 90, vjust = 0.5, hjust=1),\n",
    "          strip.text.x = element_text(angle = 90, vjust = 0.5, hjust=0.5)) +\n",
    "    ggtitle(label = 'EWCE results of cell subtypes', subtitle='NOT controlling for GC content and gene length') +\n",
    "    theme(\n",
    "      panel.background = element_rect(fill = \"#F2F2F2\")) # , panel.grid.major = element_line(size = 0.5, linetype = 'solid', colour = \"darkgrey\"))\n",
    "\n",
    "\n",
    "fig(26,13)\n",
    "l2_f_htmp\n",
    "ggsave(l2_f_htmp, \n",
    "       filename = 'EWCE results of cell subtypes - Not controlled.pdf', width = 26, height = 15, useDingbats=FALSE)"
   ]
  },
  {
   "cell_type": "markdown",
   "id": "586c76bf-88b0-4aeb-afae-6064940eea1b",
   "metadata": {},
   "source": [
    "# manhattan\n"
   ]
  },
  {
   "cell_type": "code",
   "execution_count": null,
   "id": "a5ecc623-a1ae-4d2b-b802-2fa24095aa03",
   "metadata": {},
   "outputs": [],
   "source": [
    "## Manhattan plots for EWCE results\n",
    "library(dplyr)\n",
    "library(ggplot2)\n",
    "\n",
    "ewce <- read.csv(file = \"EWCE_results.20000_reps.dsInf.csv\") %>%\n",
    "            mutate(CellType = gsub(\"_\", \" \", CellType)) %>%\n",
    "            filter(annotLevel == 2L & geneSizeControl == FALSE) %>%\n",
    "            mutate(CellType = gsub(\"NKX2 1\", \"NKX2-1\", CellType)) %>%\n",
    "            mutate(CellType = gsub(\"NKX6 2\", \"NKX6-2\", CellType)) %>%\n",
    "            mutate(CellType = gsub(\"PAT related\", \"PAT-related\", CellType)) %>%\n",
    "            mutate(mlogp = -log10(q)) %>%\n",
    "            filter(list != \"DISGENET::mixed gliomas\")\n",
    "ewce$mlogp[ewce$mlogp > 5] <- 5"
   ]
  },
  {
   "cell_type": "code",
   "execution_count": null,
   "id": "32a1413f-7f9b-4a21-9c67-537b8b69ef33",
   "metadata": {},
   "outputs": [],
   "source": [
    "## Load cell class information\n",
    "ord_tb <- read.table(\"raw/all.nhp.cbn.v6.txt\", sep=\"\\t\", stringsAsFactors=FALSE, header=TRUE) %>%\n",
    "                mutate(cluster = gsub(\"_\", \" \", cluster)) %>%\n",
    "                mutate(cluster = gsub(\"DLX1 ASCL1\", \"ASCL1 DLX1\", cluster)) %>%\n",
    "                mutate(cluster = gsub(\"InN ASCL1\", \"IPC ASCL1\", cluster)) %>%\n",
    "                filter(label != \"remove\") %>%\n",
    "                mutate(label = gsub(\"Mesenchymal\", \"Meschy\", label)) # %>%\n",
    "                # mutate(label = gsub('nIPC', \"enIPC\", label, fixed=T)) %>%\n",
    "                # mutate(label = gsub('InN IPC', \"inIPC\", label)) %>%\n",
    "                # mutate(label = gsub('^InN$', \"Inhibitory neurons\", label)) %>%\n",
    "                # mutate(label = gsub('Vascular', \"RB&Vascular\", label)) %>%\n",
    "                # mutate(label = gsub('^CR$', \"Cajal Retzius cells\", label)) %>%\n",
    "                # mutate(label = gsub(\"Others\", \"Early clusters\", label))\n",
    "unique(ord_tb$label)"
   ]
  },
  {
   "cell_type": "code",
   "execution_count": null,
   "id": "5bca6cfb-1ab3-4022-b440-978650fffb13",
   "metadata": {},
   "outputs": [],
   "source": [
    "ewce$class <- ord_tb$label[match(ewce$CellType, ord_tb$cluster)]\n",
    "# ewce$label <- ifelse(ewce$mlogp >= -log10(0.05), ewce$CellType, NA)\n",
    "ewce$label <- ifelse(ewce$q <= 0.05, ewce$CellType, NA)\n",
    "ewce$disease <- ewce$list\n",
    "ewce$size <- ifelse(ewce$mlogp >= -log10(0.05), 2.5, 1)"
   ]
  },
  {
   "cell_type": "code",
   "execution_count": null,
   "id": "293f8bc1-8b1f-4e42-951b-020189db31f9",
   "metadata": {},
   "outputs": [],
   "source": [
    "## This is the colors we used in MF1\n",
    "group_colors.sign <- c(`Patterning centers` = \"#821f44\", \n",
    "\t\t\t\t\t`dorsal NSC` = \"#f573ee\",\n",
    "\t\t\t\t\tenIPC = \"#7ca4f9\",\n",
    "\t\t\t\t\t`Excitatory neurons` = \"#2166ac\",\n",
    "\t\t\t\t\t`CR` = \"#bccf42\",\n",
    "\t\t\t\t\t`GE NSC` = \"#f1b6da\",\n",
    "\t\t\t\t\tinIPC = \"#7fe63e\",\n",
    "\t\t\t\t\t`Inhibitory neurons` = \"#0e9c23\",\n",
    "\t\t\t\t\tgIPC = \"#ffc277\",\n",
    "\t\t\t\t\tAstro = \"#e08214\",\n",
    "\t\t\t\t\t`OPC&Oligo` = \"#ad630a\",\n",
    "\t\t\t\t\tMes = \"#6aada3\",\n",
    "\t\t\t\t\tImmune = \"#7a7878\",\n",
    "\t\t\t\t\t`RB&Vas` = \"#525759\",\n",
    "\t\t\t\t\t`PAT-related subtypes` = \"#fa3980\")\n",
    "\n",
    "## For the disease main figure (MF7-A), I changed these non-significant subclasses to \"lightgrey(#D3D3D3)\"\n",
    "## Also for better contrasting, I changed the colors of \"Immune\" & \"CR(Cajal Retzius cells)\"\n",
    "## In case that some \"lightgrey\" cell types have significant scores in the updated dataset, maybe you can update their colors based on the above color codes.\n",
    "group_colors <- c(`Patterning centers` = \"#D3D3D3\", \n",
    "\t\t\t\t\t`dorsal NSC` = \"#D3D3D3\",\n",
    "\t\t\t\t\tenIPC = \"#7ca4f9\",\n",
    "\t\t\t\t\t`Excitatory neurons` = \"#2166ac\",\n",
    "\t\t\t\t\t`CR` = \"#AF9AE2\",\n",
    "\t\t\t\t\t`GE NSC` = \"#D3D3D3\",\n",
    "\t\t\t\t\tinIPC = \"#7fe63e\",\n",
    "\t\t\t\t\t`Inhibitory neurons` = \"#0e9c23\",\n",
    "\t\t\t\t\tgIPC = \"#ffc277\",\n",
    "\t\t\t\t\tAstro = \"#e08214\",\n",
    "\t\t\t\t\t`OPC&Oligo` = \"#ad630a\",\n",
    "\t\t\t\t\tMes = \"#D3D3D3\",\n",
    "\t\t\t\t\tImmune = \"#e05085\",\n",
    "\t\t\t\t\t`RB&Vas` = \"#D3D3D3\",\n",
    "\t\t\t\t\t`PAT-related subtypes` = \"#D3D3D3\")"
   ]
  },
  {
   "cell_type": "code",
   "execution_count": null,
   "id": "c6ce1891-356c-4869-a09f-b85e740620bf",
   "metadata": {},
   "outputs": [],
   "source": [
    "setNames(ifelse(names(group_colors) %in%unique(ewce$class[!is.na(ewce$label)]),\n",
    "                group_colors.sign[names(group_colors)],\n",
    "                '#D3D3D3'),\n",
    "                # group_colors),\n",
    "         names(group_colors)) -> group_colors\n",
    "group_colors"
   ]
  },
  {
   "cell_type": "code",
   "execution_count": null,
   "id": "e50f7d69-9966-4e74-87e2-0304367979d2",
   "metadata": {},
   "outputs": [],
   "source": [
    "## Define the disease order\n",
    "dis_df <- disease.df\n",
    "dis_ord <- dis_df$Disease.listname\n",
    "\n",
    "ewce$category <- strsplit(as.character(ewce$disease), \"::\", fixed = TRUE) %>%\n",
    "                    sapply(., \"[[\", 1)\n",
    "ewce$category[!grepl(\"DISGENET|MAGMA\", ewce$category)] <- \"SFARI + GWAS\"\n",
    "ewce$category <- factor(ewce$category, levels = c(\"SFARI + GWAS\", \"MAGMA\", \"DISGENET\"))\n",
    "ewce$disease <- factor(as.character(ewce$disease), levels = dis_ord)\n",
    "p <- ggplot(ewce, mapping = aes(x = disease, y = mlogp, label = label, color = class)) +\n",
    "            geom_jitter(aes(size = size), shape = 16, alpha = 0.9, position = position_jitter(seed = 1, width = 0.2)) +\n",
    "            scale_size_identity()+\n",
    "            scale_color_manual(values = group_colors) +\n",
    "            theme_classic() +\n",
    "            scale_x_discrete(breaks = dis_ord, labels = strsplit(dis_ord, \"::\", fixed = TRUE) %>% sapply(., function(x) rev(x)[1])) +\n",
    "            facet_grid(cols = vars(category), scales = \"free_x\", space = \"free_x\") +\n",
    "            theme(legend.position = \"bottom\", \n",
    "                \n",
    "                axis.text.x = element_text(angle = 90, hjust = 1, vjust = 0.5, size = rel(1.2)),\n",
    "                axis.line = element_line(size = 0.2), \n",
    "                axis.ticks = element_line(size = 0.2))\n",
    "                                                                                                         "
   ]
  },
  {
   "cell_type": "code",
   "execution_count": null,
   "id": "9953f29b-a49f-4294-9726-63a98bd9d133",
   "metadata": {},
   "outputs": [],
   "source": [
    "pdf(\"EWCE_Manhattan_v4.pdf\", 15, 6.4, useDingbats = FALSE)\n",
    "print(p)\n",
    "dev.off()"
   ]
  },
  {
   "cell_type": "code",
   "execution_count": null,
   "id": "417119e0-6619-4b14-9a6c-ab99bd6e0bde",
   "metadata": {},
   "outputs": [],
   "source": [
    "fig(10,10)\n",
    "p + geom_hline(yintercept = -log10(0.05))"
   ]
  },
  {
   "cell_type": "code",
   "execution_count": null,
   "id": "822c0ca1-eafa-4046-8865-00ba4c4766b8",
   "metadata": {},
   "outputs": [],
   "source": []
  }
 ],
 "metadata": {
  "kernelspec": {
   "display_name": "Portfolio (R)",
   "language": "R",
   "name": "portfolio-r"
  },
  "language_info": {
   "codemirror_mode": "r",
   "file_extension": ".r",
   "mimetype": "text/x-r-source",
   "name": "R",
   "pygments_lexer": "r",
   "version": "4.3.1"
  }
 },
 "nbformat": 4,
 "nbformat_minor": 5
}
