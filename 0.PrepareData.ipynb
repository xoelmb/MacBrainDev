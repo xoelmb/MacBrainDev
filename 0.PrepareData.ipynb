{
 "cells": [
  {
   "cell_type": "code",
   "execution_count": 1,
   "id": "9be2cbcc-7fbb-4cf8-9469-d02f00f98f9e",
   "metadata": {},
   "outputs": [
    {
     "name": "stderr",
     "output_type": "stream",
     "text": [
      "Warning message in dir.create(\"raw\"):\n",
      "“'raw' already exists”\n",
      "Warning message in dir.create(\"data\"):\n",
      "“'data' already exists”\n"
     ]
    }
   ],
   "source": [
    "wd <- '~/codebases/MacBrainDev/'\n",
    "setwd(wd)\n",
    "dir.create('raw')\n",
    "dir.create('data')"
   ]
  },
  {
   "cell_type": "markdown",
   "id": "31824081-c0ff-4a0c-ab6e-cd4ce06d749c",
   "metadata": {
    "tags": []
   },
   "source": [
    "# Diseases"
   ]
  },
  {
   "cell_type": "markdown",
   "id": "6f54548c-63dd-4323-aba6-7799cc8df9ce",
   "metadata": {
    "tags": []
   },
   "source": [
    "## Create table of disease-gene associations"
   ]
  },
  {
   "cell_type": "markdown",
   "id": "226e91a7-a41d-42c2-a9b0-51e18ea08848",
   "metadata": {
    "tags": []
   },
   "source": [
    "### Look-up diseases in directory"
   ]
  },
  {
   "cell_type": "code",
   "execution_count": 2,
   "id": "4ca5fc2b-ec03-49c7-a31b-e24d6c4c6485",
   "metadata": {},
   "outputs": [
    {
     "data": {
      "text/html": [
       "<style>\n",
       ".list-inline {list-style: none; margin:0; padding: 0}\n",
       ".list-inline>li {display: inline-block}\n",
       ".list-inline>li:not(:last-child)::after {content: \"\\00b7\"; padding: 0 .5ex}\n",
       "</style>\n",
       "<ol class=list-inline><li>'all_diseases_list.rds'</li><li>'AllDiseasesMAGMA_GeneLevel_181220.txt'</li><li>'ASD_CANCER.txt'</li><li>'ASD_HC65.txt'</li><li>'curated_gene_disease_associations.tsv'</li><li>'DD_genes.txt'</li><li>'GWAS_genes.txt'</li><li>'SFARI_DEVELOPMENT.txt'</li><li>'SFARI_Score2.txt'</li><li>'SFARI_Score3.txt'</li><li>'SFARI_Syndromic.txt'</li></ol>\n"
      ],
      "text/latex": [
       "\\begin{enumerate*}\n",
       "\\item 'all\\_diseases\\_list.rds'\n",
       "\\item 'AllDiseasesMAGMA\\_GeneLevel\\_181220.txt'\n",
       "\\item 'ASD\\_CANCER.txt'\n",
       "\\item 'ASD\\_HC65.txt'\n",
       "\\item 'curated\\_gene\\_disease\\_associations.tsv'\n",
       "\\item 'DD\\_genes.txt'\n",
       "\\item 'GWAS\\_genes.txt'\n",
       "\\item 'SFARI\\_DEVELOPMENT.txt'\n",
       "\\item 'SFARI\\_Score2.txt'\n",
       "\\item 'SFARI\\_Score3.txt'\n",
       "\\item 'SFARI\\_Syndromic.txt'\n",
       "\\end{enumerate*}\n"
      ],
      "text/markdown": [
       "1. 'all_diseases_list.rds'\n",
       "2. 'AllDiseasesMAGMA_GeneLevel_181220.txt'\n",
       "3. 'ASD_CANCER.txt'\n",
       "4. 'ASD_HC65.txt'\n",
       "5. 'curated_gene_disease_associations.tsv'\n",
       "6. 'DD_genes.txt'\n",
       "7. 'GWAS_genes.txt'\n",
       "8. 'SFARI_DEVELOPMENT.txt'\n",
       "9. 'SFARI_Score2.txt'\n",
       "10. 'SFARI_Score3.txt'\n",
       "11. 'SFARI_Syndromic.txt'\n",
       "\n",
       "\n"
      ],
      "text/plain": [
       " [1] \"all_diseases_list.rds\"                \n",
       " [2] \"AllDiseasesMAGMA_GeneLevel_181220.txt\"\n",
       " [3] \"ASD_CANCER.txt\"                       \n",
       " [4] \"ASD_HC65.txt\"                         \n",
       " [5] \"curated_gene_disease_associations.tsv\"\n",
       " [6] \"DD_genes.txt\"                         \n",
       " [7] \"GWAS_genes.txt\"                       \n",
       " [8] \"SFARI_DEVELOPMENT.txt\"                \n",
       " [9] \"SFARI_Score2.txt\"                     \n",
       "[10] \"SFARI_Score3.txt\"                     \n",
       "[11] \"SFARI_Syndromic.txt\"                  "
      ]
     },
     "metadata": {},
     "output_type": "display_data"
    }
   ],
   "source": [
    "diseases_dir <- 'raw/Disease_genes/'\n",
    "dir(diseases_dir)"
   ]
  },
  {
   "cell_type": "markdown",
   "id": "03f5337b-4215-4ac6-b8a0-4fa6203d796c",
   "metadata": {
    "tags": []
   },
   "source": [
    "### DISGENET"
   ]
  },
  {
   "cell_type": "markdown",
   "id": "1bdd0ea2-1ac7-4121-a8e6-b487121e5282",
   "metadata": {},
   "source": [
    "Diseases to include,"
   ]
  },
  {
   "cell_type": "code",
   "execution_count": 5,
   "id": "fb52f265-f6f9-447b-abf8-5c16f6590aa9",
   "metadata": {},
   "outputs": [],
   "source": [
    "disg.disnames.fname <- paste0('raw/Disgenet_forXoel.txt')\n",
    "disg.disnames <- read.table(disg.disnames.fname, sep='\\t', col.names=c('diseaseName', 'include'))\n",
    "\n",
    "disgenet_diseases <- disg.disnames$diseaseName[as.logical(disg.disnames$include)]"
   ]
  },
  {
   "cell_type": "markdown",
   "id": "94cf4114-9618-4838-8690-4c2301cb442e",
   "metadata": {},
   "source": [
    "Disgenet table"
   ]
  },
  {
   "cell_type": "code",
   "execution_count": 6,
   "id": "aaacb71e-444d-4958-b427-2990e30c7e85",
   "metadata": {},
   "outputs": [],
   "source": [
    "disgenet.fname <- paste0(diseases_dir, 'curated_gene_disease_associations.tsv')\n",
    "disgenet.min_genes <- 30\n",
    "\n",
    "disgenet <- read.csv(disgenet.fname, sep='\\t', row.names=NULL)\n",
    "disgenet[disgenet$diseaseName %in% c('Mixed oligoastrocytoma', 'oligodendroglioma'),'diseaseName'] <- 'M.Oligoastr+Oligodendrogliomas'\n",
    "\n",
    "disgenet <- disgenet[disgenet$diseaseName %in% c(disgenet_diseases, 'M.Oligoastr+Oligodendrogliomas'),]\n",
    "\n",
    "disgenet_genes <- lapply(split(disgenet$geneSymbol, disgenet$diseaseName), unique)\n",
    "names(disgenet_genes) <- paste0('DISGENET::', names(disgenet_genes))"
   ]
  },
  {
   "cell_type": "markdown",
   "id": "628e2987-0cfa-43b7-8789-2b8c9db5eb36",
   "metadata": {},
   "source": [
    "Meduloblastomas "
   ]
  },
  {
   "cell_type": "code",
   "execution_count": 7,
   "id": "ab7518dc-56c7-47a1-86ad-b2096c32f069",
   "metadata": {
    "tags": []
   },
   "outputs": [],
   "source": [
    "# Condense medulloblastomas\n",
    "medullo <- unique(unlist(disgenet_genes[grep('(M|m)edullo', names(disgenet_genes), fixed=F, value=T)]))\n",
    "disgenet_genes[grep('(M|m)edullo', names(disgenet_genes), fixed=F, value=T)] <- NULL\n",
    "disgenet_genes[['DISGENET::Medulloblastomas']] <- medullo"
   ]
  },
  {
   "cell_type": "markdown",
   "id": "7760b419-3b92-4561-89d5-95b1896e11ff",
   "metadata": {},
   "source": [
    "Minimum number of genes"
   ]
  },
  {
   "cell_type": "code",
   "execution_count": 8,
   "id": "1a2b555c-a29e-4ab0-b80c-8376006b4706",
   "metadata": {
    "tags": []
   },
   "outputs": [],
   "source": [
    "disgenet_genes <- disgenet_genes[sapply(disgenet_genes, length) > disgenet.min_genes]"
   ]
  },
  {
   "cell_type": "markdown",
   "id": "f6525809-0e2c-455c-b4f0-93f163c50e2e",
   "metadata": {},
   "source": [
    "Remove mixed gliomas"
   ]
  },
  {
   "cell_type": "code",
   "execution_count": 9,
   "id": "e21b07ad-bbcd-44f8-831f-c321d23fd43a",
   "metadata": {
    "tags": []
   },
   "outputs": [],
   "source": [
    "# Remove mixed gliomas\n",
    "disgenet_genes['DISGENET::mixed gliomas'] <- NULL"
   ]
  },
  {
   "cell_type": "markdown",
   "id": "54254d6b-11dd-4e9f-a9f2-94ecb31037d9",
   "metadata": {
    "tags": []
   },
   "source": [
    "### All other tables"
   ]
  },
  {
   "cell_type": "code",
   "execution_count": 10,
   "id": "846db460-5cba-4245-a700-6263c9c270b4",
   "metadata": {},
   "outputs": [],
   "source": [
    "dis_dfs <- setNames(lapply(grep('.txt', dir(diseases_dir), invert=F, value=T), function(x){read.table(paste0(diseases_dir,x))}),\n",
    "                    sapply(grep('.txt', dir(diseases_dir), invert=F, value=T), tools::file_path_sans_ext))\n",
    "\n",
    "dis_genes <- list()\n",
    "\n",
    "for (dis in names(dis_dfs)){\n",
    "    if (dis %in% c('ASD_CANCER','SFARI_DEVELOPMENT')){\n",
    "        next\n",
    "    }\n",
    "\n",
    "    if (ncol(dis_dfs[[dis]]) > 1){\n",
    "        colnames(dis_dfs[[dis]]) <- dis_dfs[[dis]][1,]\n",
    "        dis_dfs[[dis]]<- dis_dfs[[dis]][-1,]\n",
    "    } else {\n",
    "        dis_genes[[dis]] <- as.character(dis_dfs[[dis]][,1])\n",
    "        dis_dfs[[dis]] <- NULL\n",
    "    }\n",
    "}"
   ]
  },
  {
   "cell_type": "markdown",
   "id": "a9229685-ae49-4577-9512-5dc0b8ace482",
   "metadata": {},
   "source": [
    "DD"
   ]
  },
  {
   "cell_type": "code",
   "execution_count": 11,
   "id": "b9911072-35e4-4ac9-8f43-0bda5144cdcd",
   "metadata": {},
   "outputs": [],
   "source": [
    "names(dis_genes) <- gsub('DD_genes', 'DD', names(dis_genes), fixed=T)"
   ]
  },
  {
   "cell_type": "markdown",
   "id": "9805679e-40c6-455c-92e7-96d1c13534ed",
   "metadata": {},
   "source": [
    "GWAS"
   ]
  },
  {
   "cell_type": "code",
   "execution_count": 12,
   "id": "57962832-dbda-4067-93b3-f4ef8782ef08",
   "metadata": {},
   "outputs": [],
   "source": [
    "dis_dfs[['GWAS_genes']] <- dis_dfs[['GWAS_genes']][order(dis_dfs[['GWAS_genes']]$Dataset),]\n",
    "gwas_genes <- split(dis_dfs[['GWAS_genes']]$Gene, paste('GWAS', dis_dfs[['GWAS_genes']]$Dataset,\n",
    "                                                        sep='::'))\n",
    "dis_dfs[['GWAS_genes']] <- NULL"
   ]
  },
  {
   "cell_type": "markdown",
   "id": "9720bf82-d653-457e-8eee-5fcbaeb82763",
   "metadata": {},
   "source": [
    "MAGMA"
   ]
  },
  {
   "cell_type": "code",
   "execution_count": 13,
   "id": "8eed3d9d-017d-4778-9c8e-f108b64661ab",
   "metadata": {},
   "outputs": [],
   "source": [
    "rownames(dis_dfs[['AllDiseasesMAGMA_GeneLevel_181220']]) <- dis_dfs[['AllDiseasesMAGMA_GeneLevel_181220']]$GENE_SYMBOL\n",
    "dis_dfs[['AllDiseasesMAGMA_GeneLevel_181220']]$GENE_SYMBOL <- NULL\n",
    "dis_dfs[['AllDiseasesMAGMA_GeneLevel_181220']]$GENE <- NULL\n",
    "colnames(dis_dfs[['AllDiseasesMAGMA_GeneLevel_181220']]) <- paste('MAGMA', \n",
    "                                                                  colnames(dis_dfs[['AllDiseasesMAGMA_GeneLevel_181220']]),\n",
    "                                                                  sep='::')"
   ]
  },
  {
   "cell_type": "code",
   "execution_count": 14,
   "id": "12768897-dae7-48f7-afb6-f8fd4d25f95d",
   "metadata": {},
   "outputs": [],
   "source": [
    "max.pval <- 0.05\n",
    "top.magma <- 200"
   ]
  },
  {
   "cell_type": "code",
   "execution_count": 15,
   "id": "04466ce5-79ca-4bbc-8d95-22fd1aa00d45",
   "metadata": {},
   "outputs": [],
   "source": [
    "dis_dfs[['AllDiseasesMAGMA_GeneLevel_181220']] <- as.data.frame(apply(\n",
    "    dis_dfs[['AllDiseasesMAGMA_GeneLevel_181220']], \n",
    "    2,\n",
    "    as.numeric\n",
    "    ), row.names=rownames(dis_dfs[['AllDiseasesMAGMA_GeneLevel_181220']]))"
   ]
  },
  {
   "cell_type": "code",
   "execution_count": 16,
   "id": "1f6e5228-638b-42f0-a688-07e50b0d3dc0",
   "metadata": {},
   "outputs": [],
   "source": [
    "magma_genes <- lapply(\n",
    "    dis_dfs[['AllDiseasesMAGMA_GeneLevel_181220']], \n",
    "    function(x){\n",
    "        x<-setNames(x, rownames(dis_dfs[['AllDiseasesMAGMA_GeneLevel_181220']]))\n",
    "        x <- x[order(x, na.last = TRUE, decreasing = FALSE)]\n",
    "        x <- x[x < max.pval & !is.na(x)]\n",
    "        head(names(x), min(length(x), top.magma))\n",
    "    }\n",
    ")"
   ]
  },
  {
   "cell_type": "code",
   "execution_count": 17,
   "id": "592a79ec-2249-4ecb-9e9b-22ca1feba0eb",
   "metadata": {},
   "outputs": [],
   "source": [
    "dis_dfs[['AllDiseasesMAGMA_GeneLevel_181220']] <- NULL"
   ]
  },
  {
   "cell_type": "markdown",
   "id": "12dffed9-9082-47b4-8d7c-0a0ee0c131b8",
   "metadata": {
    "tags": []
   },
   "source": [
    "### Merge lists"
   ]
  },
  {
   "cell_type": "code",
   "execution_count": 18,
   "id": "c01fe5b1-3b0b-4a59-9df5-da72c4382510",
   "metadata": {},
   "outputs": [],
   "source": [
    "dis_genes <- dis_genes[sort(names(dis_genes))]\n",
    "disgenet_genes <- disgenet_genes[sort(names(disgenet_genes))]\n",
    "gwas_genes <- gwas_genes[sort(names(gwas_genes))]\n",
    "magma_genes <- magma_genes[sort(names(magma_genes))]"
   ]
  },
  {
   "cell_type": "code",
   "execution_count": 19,
   "id": "fc403d6f-1f25-482f-8ca7-7d17e9f31055",
   "metadata": {},
   "outputs": [
    {
     "name": "stdout",
     "output_type": "stream",
     "text": [
      "[1] \"### SFARI + ASD + DD\"\n",
      "[1] \"ASD_HC65\"        \"DD\"              \"SFARI_Score2\"    \"SFARI_Score3\"   \n",
      "[5] \"SFARI_Syndromic\"\n",
      "[1] \"### DISGENET\"\n",
      "[1] \"DISGENET::Giant Cell Glioblastoma\"       \n",
      "[2] \"DISGENET::Glioblastoma\"                  \n",
      "[3] \"DISGENET::Glioblastoma Multiforme\"       \n",
      "[4] \"DISGENET::Glioma\"                        \n",
      "[5] \"DISGENET::M.Oligoastr+Oligodendrogliomas\"\n",
      "[6] \"DISGENET::Malignant Glioma\"              \n",
      "[7] \"DISGENET::Medulloblastomas\"              \n",
      "[8] \"DISGENET::Neuroblastoma\"                 \n",
      "[1] \"### GWAS\"\n",
      " [1] \"GWAS::AD_2019\"     \"GWAS::ADHD_2019\"   \"GWAS::AN_2019\"    \n",
      " [4] \"GWAS::ASD_2019\"    \"GWAS::BD_2019\"     \"GWAS::IQ_2018\"    \n",
      " [7] \"GWAS::MDD_2018\"    \"GWAS::NEUROT_2018\" \"GWAS::PD_2014\"    \n",
      "[10] \"GWAS::SCZ_2020\"   \n",
      "[1] \"### MAGMA\"\n",
      " [1] \"MAGMA::AD_2019\"     \"MAGMA::ADHD_2019\"   \"MAGMA::AN_2019\"    \n",
      " [4] \"MAGMA::ASD_2019\"    \"MAGMA::BD_2019\"     \"MAGMA::IQ_2018\"    \n",
      " [7] \"MAGMA::MDD_2018\"    \"MAGMA::NEUROT_2018\" \"MAGMA::OCD_2018\"   \n",
      "[10] \"MAGMA::PD_2014\"     \"MAGMA::SCZ_2020\"    \"MAGMA::TS_2019\"    \n"
     ]
    }
   ],
   "source": [
    "print('### SFARI + ASD + DD')\n",
    "print(names(dis_genes))\n",
    "print('### DISGENET')\n",
    "print(names(disgenet_genes))\n",
    "print('### GWAS')\n",
    "print(names(gwas_genes))\n",
    "print('### MAGMA')\n",
    "print(names(magma_genes))"
   ]
  },
  {
   "cell_type": "code",
   "execution_count": 20,
   "id": "35208fd6-a009-4140-8cc2-919b77c330ae",
   "metadata": {
    "tags": []
   },
   "outputs": [
    {
     "name": "stdout",
     "output_type": "stream",
     "text": [
      "[1] \"All\"\n",
      " [1] \"ASD HC65\"                                \n",
      " [2] \"DD\"                                      \n",
      " [3] \"SFARI Score2\"                            \n",
      " [4] \"SFARI Score3\"                            \n",
      " [5] \"SFARI Syndromic\"                         \n",
      " [6] \"GWAS::AD 2019\"                           \n",
      " [7] \"GWAS::ADHD 2019\"                         \n",
      " [8] \"GWAS::AN 2019\"                           \n",
      " [9] \"GWAS::ASD 2019\"                          \n",
      "[10] \"GWAS::BD 2019\"                           \n",
      "[11] \"GWAS::IQ 2018\"                           \n",
      "[12] \"GWAS::MDD 2018\"                          \n",
      "[13] \"GWAS::NEUROT 2018\"                       \n",
      "[14] \"GWAS::PD 2014\"                           \n",
      "[15] \"GWAS::SCZ 2020\"                          \n",
      "[16] \"MAGMA::AD 2019\"                          \n",
      "[17] \"MAGMA::ADHD 2019\"                        \n",
      "[18] \"MAGMA::AN 2019\"                          \n",
      "[19] \"MAGMA::ASD 2019\"                         \n",
      "[20] \"MAGMA::BD 2019\"                          \n",
      "[21] \"MAGMA::IQ 2018\"                          \n",
      "[22] \"MAGMA::MDD 2018\"                         \n",
      "[23] \"MAGMA::NEUROT 2018\"                      \n",
      "[24] \"MAGMA::OCD 2018\"                         \n",
      "[25] \"MAGMA::PD 2014\"                          \n",
      "[26] \"MAGMA::SCZ 2020\"                         \n",
      "[27] \"MAGMA::TS 2019\"                          \n",
      "[28] \"DISGENET::Giant Cell Glioblastoma\"       \n",
      "[29] \"DISGENET::Glioblastoma\"                  \n",
      "[30] \"DISGENET::Glioblastoma Multiforme\"       \n",
      "[31] \"DISGENET::Glioma\"                        \n",
      "[32] \"DISGENET::M.Oligoastr+Oligodendrogliomas\"\n",
      "[33] \"DISGENET::Malignant Glioma\"              \n",
      "[34] \"DISGENET::Medulloblastomas\"              \n",
      "[35] \"DISGENET::Neuroblastoma\"                 \n"
     ]
    }
   ],
   "source": [
    "all_diseases <- c(dis_genes, gwas_genes, magma_genes, disgenet_genes)\n",
    "names(all_diseases) <- gsub('_', ' ', names(all_diseases), fixed=T)\n",
    "\n",
    "\n",
    "\n",
    "print('All')\n",
    "print(names(all_diseases))"
   ]
  },
  {
   "cell_type": "code",
   "execution_count": 21,
   "id": "ec40d366-f2a1-46ff-880c-65023ed04e33",
   "metadata": {},
   "outputs": [],
   "source": [
    "saveRDS(all_diseases, 'data/all_diseases_list.rds')"
   ]
  },
  {
   "cell_type": "code",
   "execution_count": 22,
   "id": "a977220d-53f2-4931-a24e-e7001b91c463",
   "metadata": {},
   "outputs": [
    {
     "data": {
      "text/html": [
       "<table class=\"dataframe\">\n",
       "<caption>A matrix: 6 × 35 of type chr</caption>\n",
       "<thead>\n",
       "\t<tr><th scope=col>ASD HC65</th><th scope=col>DD</th><th scope=col>SFARI Score2</th><th scope=col>SFARI Score3</th><th scope=col>SFARI Syndromic</th><th scope=col>GWAS::AD 2019</th><th scope=col>GWAS::ADHD 2019</th><th scope=col>GWAS::AN 2019</th><th scope=col>GWAS::ASD 2019</th><th scope=col>GWAS::BD 2019</th><th scope=col>⋯</th><th scope=col>MAGMA::SCZ 2020</th><th scope=col>MAGMA::TS 2019</th><th scope=col>DISGENET::Giant Cell Glioblastoma</th><th scope=col>DISGENET::Glioblastoma</th><th scope=col>DISGENET::Glioblastoma Multiforme</th><th scope=col>DISGENET::Glioma</th><th scope=col>DISGENET::M.Oligoastr+Oligodendrogliomas</th><th scope=col>DISGENET::Malignant Glioma</th><th scope=col>DISGENET::Medulloblastomas</th><th scope=col>DISGENET::Neuroblastoma</th></tr>\n",
       "</thead>\n",
       "<tbody>\n",
       "\t<tr><td>CHD8   </td><td>ARID1B </td><td>ACHE </td><td>ABAT  </td><td>ACTB   </td><td>PPOX   </td><td>ARTN      </td><td>SEMA3F  </td><td>C8orf74     </td><td>AC003102.1  </td><td>⋯</td><td>DPYD    </td><td>FLT3   </td><td>JAG1 </td><td>JAG1 </td><td>JAG1 </td><td>ACVR1 </td><td>ACVR1</td><td>ACVR1 </td><td>APC   </td><td>ALK   </td></tr>\n",
       "\t<tr><td>SCN2A  </td><td>ANKRD11</td><td>ADA  </td><td>ABCA10</td><td>ACTL6B </td><td>B4GALT3</td><td>ATP6V0B   </td><td>RBM5    </td><td>CADPS       </td><td>ACOT12      </td><td>⋯</td><td>CACNA1C </td><td>BCL7A  </td><td>APC  </td><td>APC  </td><td>APC  </td><td>ALK   </td><td>AR   </td><td>APOD  </td><td>ATOH1 </td><td>ATRX  </td></tr>\n",
       "\t<tr><td>ARID1B </td><td>DDX3X  </td><td>ADCY3</td><td>ABCA13</td><td>ACY1   </td><td>ADAMTS4</td><td>ATP6V1E1P1</td><td>RBM6    </td><td>KIZ         </td><td>ADAMTSL3    </td><td>⋯</td><td>PPP1R16B</td><td>CFAP99 </td><td>BCHE </td><td>BCHE </td><td>ATRX </td><td>APC   </td><td>BRAF </td><td>ATP1B2</td><td>BRCA2 </td><td>BARD1 </td></tr>\n",
       "\t<tr><td>NRXN1  </td><td>ADNP   </td><td>AGAP2</td><td>ABCA7 </td><td>AHI1   </td><td>NDUFS2 </td><td>B4GALT2   </td><td>ZMYND10 </td><td>KMT2E       </td><td>ADAMTSL4    </td><td>⋯</td><td>ARL6IP4 </td><td>GABRG1 </td><td>BMI1 </td><td>BMI1 </td><td>BCHE </td><td>APOD  </td><td>DTX1 </td><td>ATRX  </td><td>CCNE1 </td><td>BCHE  </td></tr>\n",
       "\t<tr><td>SYNGAP1</td><td>KMT2A  </td><td>AGO1 </td><td>ACE   </td><td>ALDH1A3</td><td>FCER1G </td><td>CCDC24    </td><td>CACNA2D2</td><td>LOC102723661</td><td>ADAMTSL4-AS1</td><td>⋯</td><td>CACNB2  </td><td>TMEM236</td><td>RUNX1</td><td>RUNX1</td><td>BMI1 </td><td>ATM   </td><td>ESR1 </td><td>BMI1  </td><td>CDK6  </td><td>CDKN2A</td></tr>\n",
       "\t<tr><td>DYRK1A </td><td>SYNGAP1</td><td>AGO4 </td><td>ACTN4 </td><td>ANKS1B </td><td>APOA2  </td><td>DUSP6     </td><td>CELSR3  </td><td>MACROD2     </td><td>ADCK2       </td><td>⋯</td><td>MAD1L1  </td><td>LMO3   </td><td>RUNX3</td><td>RUNX3</td><td>RUNX1</td><td>ATP1B2</td><td>ESR2 </td><td>BRAF  </td><td>CTNNB1</td><td>DBH   </td></tr>\n",
       "</tbody>\n",
       "</table>\n"
      ],
      "text/latex": [
       "A matrix: 6 × 35 of type chr\n",
       "\\begin{tabular}{lllllllllllllllllllll}\n",
       " ASD HC65 & DD & SFARI Score2 & SFARI Score3 & SFARI Syndromic & GWAS::AD 2019 & GWAS::ADHD 2019 & GWAS::AN 2019 & GWAS::ASD 2019 & GWAS::BD 2019 & ⋯ & MAGMA::SCZ 2020 & MAGMA::TS 2019 & DISGENET::Giant Cell Glioblastoma & DISGENET::Glioblastoma & DISGENET::Glioblastoma Multiforme & DISGENET::Glioma & DISGENET::M.Oligoastr+Oligodendrogliomas & DISGENET::Malignant Glioma & DISGENET::Medulloblastomas & DISGENET::Neuroblastoma\\\\\n",
       "\\hline\n",
       "\t CHD8    & ARID1B  & ACHE  & ABAT   & ACTB    & PPOX    & ARTN       & SEMA3F   & C8orf74      & AC003102.1   & ⋯ & DPYD     & FLT3    & JAG1  & JAG1  & JAG1  & ACVR1  & ACVR1 & ACVR1  & APC    & ALK   \\\\\n",
       "\t SCN2A   & ANKRD11 & ADA   & ABCA10 & ACTL6B  & B4GALT3 & ATP6V0B    & RBM5     & CADPS        & ACOT12       & ⋯ & CACNA1C  & BCL7A   & APC   & APC   & APC   & ALK    & AR    & APOD   & ATOH1  & ATRX  \\\\\n",
       "\t ARID1B  & DDX3X   & ADCY3 & ABCA13 & ACY1    & ADAMTS4 & ATP6V1E1P1 & RBM6     & KIZ          & ADAMTSL3     & ⋯ & PPP1R16B & CFAP99  & BCHE  & BCHE  & ATRX  & APC    & BRAF  & ATP1B2 & BRCA2  & BARD1 \\\\\n",
       "\t NRXN1   & ADNP    & AGAP2 & ABCA7  & AHI1    & NDUFS2  & B4GALT2    & ZMYND10  & KMT2E        & ADAMTSL4     & ⋯ & ARL6IP4  & GABRG1  & BMI1  & BMI1  & BCHE  & APOD   & DTX1  & ATRX   & CCNE1  & BCHE  \\\\\n",
       "\t SYNGAP1 & KMT2A   & AGO1  & ACE    & ALDH1A3 & FCER1G  & CCDC24     & CACNA2D2 & LOC102723661 & ADAMTSL4-AS1 & ⋯ & CACNB2   & TMEM236 & RUNX1 & RUNX1 & BMI1  & ATM    & ESR1  & BMI1   & CDK6   & CDKN2A\\\\\n",
       "\t DYRK1A  & SYNGAP1 & AGO4  & ACTN4  & ANKS1B  & APOA2   & DUSP6      & CELSR3   & MACROD2      & ADCK2        & ⋯ & MAD1L1   & LMO3    & RUNX3 & RUNX3 & RUNX1 & ATP1B2 & ESR2  & BRAF   & CTNNB1 & DBH   \\\\\n",
       "\\end{tabular}\n"
      ],
      "text/markdown": [
       "\n",
       "A matrix: 6 × 35 of type chr\n",
       "\n",
       "| ASD HC65 | DD | SFARI Score2 | SFARI Score3 | SFARI Syndromic | GWAS::AD 2019 | GWAS::ADHD 2019 | GWAS::AN 2019 | GWAS::ASD 2019 | GWAS::BD 2019 | ⋯ | MAGMA::SCZ 2020 | MAGMA::TS 2019 | DISGENET::Giant Cell Glioblastoma | DISGENET::Glioblastoma | DISGENET::Glioblastoma Multiforme | DISGENET::Glioma | DISGENET::M.Oligoastr+Oligodendrogliomas | DISGENET::Malignant Glioma | DISGENET::Medulloblastomas | DISGENET::Neuroblastoma |\n",
       "|---|---|---|---|---|---|---|---|---|---|---|---|---|---|---|---|---|---|---|---|---|\n",
       "| CHD8    | ARID1B  | ACHE  | ABAT   | ACTB    | PPOX    | ARTN       | SEMA3F   | C8orf74      | AC003102.1   | ⋯ | DPYD     | FLT3    | JAG1  | JAG1  | JAG1  | ACVR1  | ACVR1 | ACVR1  | APC    | ALK    |\n",
       "| SCN2A   | ANKRD11 | ADA   | ABCA10 | ACTL6B  | B4GALT3 | ATP6V0B    | RBM5     | CADPS        | ACOT12       | ⋯ | CACNA1C  | BCL7A   | APC   | APC   | APC   | ALK    | AR    | APOD   | ATOH1  | ATRX   |\n",
       "| ARID1B  | DDX3X   | ADCY3 | ABCA13 | ACY1    | ADAMTS4 | ATP6V1E1P1 | RBM6     | KIZ          | ADAMTSL3     | ⋯ | PPP1R16B | CFAP99  | BCHE  | BCHE  | ATRX  | APC    | BRAF  | ATP1B2 | BRCA2  | BARD1  |\n",
       "| NRXN1   | ADNP    | AGAP2 | ABCA7  | AHI1    | NDUFS2  | B4GALT2    | ZMYND10  | KMT2E        | ADAMTSL4     | ⋯ | ARL6IP4  | GABRG1  | BMI1  | BMI1  | BCHE  | APOD   | DTX1  | ATRX   | CCNE1  | BCHE   |\n",
       "| SYNGAP1 | KMT2A   | AGO1  | ACE    | ALDH1A3 | FCER1G  | CCDC24     | CACNA2D2 | LOC102723661 | ADAMTSL4-AS1 | ⋯ | CACNB2   | TMEM236 | RUNX1 | RUNX1 | BMI1  | ATM    | ESR1  | BMI1   | CDK6   | CDKN2A |\n",
       "| DYRK1A  | SYNGAP1 | AGO4  | ACTN4  | ANKS1B  | APOA2   | DUSP6      | CELSR3   | MACROD2      | ADCK2        | ⋯ | MAD1L1   | LMO3    | RUNX3 | RUNX3 | RUNX1 | ATP1B2 | ESR2  | BRAF   | CTNNB1 | DBH    |\n",
       "\n"
      ],
      "text/plain": [
       "     ASD HC65 DD      SFARI Score2 SFARI Score3 SFARI Syndromic GWAS::AD 2019\n",
       "[1,] CHD8     ARID1B  ACHE         ABAT         ACTB            PPOX         \n",
       "[2,] SCN2A    ANKRD11 ADA          ABCA10       ACTL6B          B4GALT3      \n",
       "[3,] ARID1B   DDX3X   ADCY3        ABCA13       ACY1            ADAMTS4      \n",
       "[4,] NRXN1    ADNP    AGAP2        ABCA7        AHI1            NDUFS2       \n",
       "[5,] SYNGAP1  KMT2A   AGO1         ACE          ALDH1A3         FCER1G       \n",
       "[6,] DYRK1A   SYNGAP1 AGO4         ACTN4        ANKS1B          APOA2        \n",
       "     GWAS::ADHD 2019 GWAS::AN 2019 GWAS::ASD 2019 GWAS::BD 2019 ⋯\n",
       "[1,] ARTN            SEMA3F        C8orf74        AC003102.1    ⋯\n",
       "[2,] ATP6V0B         RBM5          CADPS          ACOT12        ⋯\n",
       "[3,] ATP6V1E1P1      RBM6          KIZ            ADAMTSL3      ⋯\n",
       "[4,] B4GALT2         ZMYND10       KMT2E          ADAMTSL4      ⋯\n",
       "[5,] CCDC24          CACNA2D2      LOC102723661   ADAMTSL4-AS1  ⋯\n",
       "[6,] DUSP6           CELSR3        MACROD2        ADCK2         ⋯\n",
       "     MAGMA::SCZ 2020 MAGMA::TS 2019 DISGENET::Giant Cell Glioblastoma\n",
       "[1,] DPYD            FLT3           JAG1                             \n",
       "[2,] CACNA1C         BCL7A          APC                              \n",
       "[3,] PPP1R16B        CFAP99         BCHE                             \n",
       "[4,] ARL6IP4         GABRG1         BMI1                             \n",
       "[5,] CACNB2          TMEM236        RUNX1                            \n",
       "[6,] MAD1L1          LMO3           RUNX3                            \n",
       "     DISGENET::Glioblastoma DISGENET::Glioblastoma Multiforme DISGENET::Glioma\n",
       "[1,] JAG1                   JAG1                              ACVR1           \n",
       "[2,] APC                    APC                               ALK             \n",
       "[3,] BCHE                   ATRX                              APC             \n",
       "[4,] BMI1                   BCHE                              APOD            \n",
       "[5,] RUNX1                  BMI1                              ATM             \n",
       "[6,] RUNX3                  RUNX1                             ATP1B2          \n",
       "     DISGENET::M.Oligoastr+Oligodendrogliomas DISGENET::Malignant Glioma\n",
       "[1,] ACVR1                                    ACVR1                     \n",
       "[2,] AR                                       APOD                      \n",
       "[3,] BRAF                                     ATP1B2                    \n",
       "[4,] DTX1                                     ATRX                      \n",
       "[5,] ESR1                                     BMI1                      \n",
       "[6,] ESR2                                     BRAF                      \n",
       "     DISGENET::Medulloblastomas DISGENET::Neuroblastoma\n",
       "[1,] APC                        ALK                    \n",
       "[2,] ATOH1                      ATRX                   \n",
       "[3,] BRCA2                      BARD1                  \n",
       "[4,] CCNE1                      BCHE                   \n",
       "[5,] CDK6                       CDKN2A                 \n",
       "[6,] CTNNB1                     DBH                    "
      ]
     },
     "metadata": {},
     "output_type": "display_data"
    }
   ],
   "source": [
    "sapply(all_diseases, head)"
   ]
  },
  {
   "cell_type": "markdown",
   "id": "a11d046c-1c4b-48f7-ba10-1416c0a4f5c1",
   "metadata": {
    "tags": []
   },
   "source": [
    "## Order diseases"
   ]
  },
  {
   "cell_type": "markdown",
   "id": "79bfee74-5cfb-499d-9357-f66df744b3cb",
   "metadata": {
    "tags": []
   },
   "source": [
    "### Clustering"
   ]
  },
  {
   "cell_type": "code",
   "execution_count": 23,
   "id": "31dd408d-c905-473c-a142-5c2074124284",
   "metadata": {},
   "outputs": [],
   "source": [
    "order_diss <- function(dis.lists){\n",
    "    all.dis.genes <- unique(unlist(dis.lists))\n",
    "    dis.df <- t(data.frame(row.names=all.dis.genes, \n",
    "                           lapply(dis.lists, function(x){as.numeric(all.dis.genes %in% x)})))\n",
    "    eq_cols <- setNames(names(dis.lists), rownames(dis.df))\n",
    "    hc <- hclust(dist(dis.df, method = 'binary'))\n",
    "    return(dis.lists[eq_cols[hc$labels[hc$order]]])\n",
    "}"
   ]
  },
  {
   "cell_type": "code",
   "execution_count": 24,
   "id": "cc6de989-4888-48d7-a89a-be0cad5f85bb",
   "metadata": {},
   "outputs": [],
   "source": [
    "clustered_diseases <- order_diss(all_diseases)"
   ]
  },
  {
   "cell_type": "code",
   "execution_count": 25,
   "id": "e0051029-20c5-4013-8f1a-541c86925aab",
   "metadata": {},
   "outputs": [],
   "source": [
    "subclustered_diseases <- c(\n",
    "    order_diss(dis_genes),\n",
    "    order_diss(gwas_genes),\n",
    "    order_diss(magma_genes),\n",
    "    order_diss(disgenet_genes))\n",
    "\n",
    "names(subclustered_diseases) <- gsub('_', ' ', names(subclustered_diseases), fixed=T)"
   ]
  },
  {
   "cell_type": "markdown",
   "id": "e95bab1e-7eb6-4906-9e7b-c1fe2fde242f",
   "metadata": {
    "tags": []
   },
   "source": [
    "### Groups and palette"
   ]
  },
  {
   "cell_type": "code",
   "execution_count": 26,
   "id": "079f4f55-db28-4106-a11b-a11a53ddd964",
   "metadata": {},
   "outputs": [],
   "source": [
    "dis.groups <- c(setNames(rep('SFARI + GWAS', length(names(c(dis_genes, gwas_genes)))),\n",
    "         names(c(dis_genes, gwas_genes))),\n",
    "                setNames(rep('MAGMA', length(names(magma_genes))),\n",
    "                         names(magma_genes)),\n",
    "                setNames(rep('DISGENET', length(names(disgenet_genes))),\n",
    "                         names(disgenet_genes)))"
   ]
  },
  {
   "cell_type": "code",
   "execution_count": 27,
   "id": "0f932b2b-bd7e-4cb7-9d37-6d0a79ad32f6",
   "metadata": {},
   "outputs": [],
   "source": [
    "dis.class <- c(\"ASD HC65\" = 'ASD',\n",
    "\"DD\"='PSY',\n",
    "\"SFARI Score1\"='ASD', \n",
    "\"SFARI Score2\"='ASD', \n",
    "\"SFARI Score3\"='ASD', \n",
    "\"SFARI Syndromic\"='ASD',\n",
    "\"GWAS::ADHD 2019\"='PSY', \n",
    "\"GWAS::AD 2019\"='PSY', \n",
    "\"GWAS::AN 2019\"='PSY', \n",
    "\"GWAS::ASD 2019\"='ASD',\n",
    "\"GWAS::BD 2019\"='NDD',\n",
    "\"GWAS::IQ 2018\"='PSY',\n",
    "\"GWAS::MDD 2018\"='PSY',\n",
    "\"GWAS::NEUROT 2018\"='PSY',\n",
    "\"GWAS::PD 2014\"='NDD',\n",
    "\"GWAS::SCZ 2020\"='PSY',\n",
    "\"MAGMA::ASD 2019\"='ASD',\n",
    "\"MAGMA::ADHD 2019\"='PSY',\n",
    "\"MAGMA::SCZ 2020\"='PSY',\n",
    "\"MAGMA::BD 2019\"='NDD',\n",
    "\"MAGMA::OCD 2018\"='PSY',\n",
    "\"MAGMA::AN 2019\"='PSY',\n",
    "\"MAGMA::TS 2019\"='PSY',\n",
    "\"MAGMA::MDD 2018\"='PSY',\n",
    "\"MAGMA::NEUROT 2018\"='PSY',\n",
    "\"MAGMA::IQ 2018\"='PSY',\n",
    "\"MAGMA::AD 2019\"='PSY',\n",
    "\"MAGMA::PD 2014\"='PSY',\n",
    "\"DISGENET::Giant Cell Glioblastoma\"='CANCER 1',\n",
    "\"DISGENET::Glioblastoma\"='CANCER 1',\n",
    "\"DISGENET::Glioblastoma Multiforme\"='CANCER 1',\n",
    "\"DISGENET::Glioma\"='CANCER 1',\n",
    "\"DISGENET::M.Oligoastr+Oligodendrogliomas\"='CANCER 2',\n",
    "\"DISGENET::Malignant Glioma\"='CANCER 1',\n",
    "\"DISGENET::Neuroblastoma\"='CANCER 2',\n",
    "\"DISGENET::mixed gliomas\"='CANCER 1',\n",
    "\"DISGENET::Medulloblastomas\"='CANCER 2')\n",
    "\n",
    "library(RColorBrewer)\n",
    "class.cols <- setNames(brewer.pal(n = length(unique(dis.class)), name='Accent'), unique(dis.class))\n",
    "dis.class.cols <- setNames(class.cols[dis.class], names(dis.class))\n",
    "\n",
    "\n",
    "dis.class.cols <- dis.class.cols[unlist(unname(split(names(dis.class.cols), dis.class.cols)))]"
   ]
  },
  {
   "cell_type": "code",
   "execution_count": 28,
   "id": "d95eedb1-d845-4bce-a336-dca08435a294",
   "metadata": {},
   "outputs": [],
   "source": [
    "DiseasesOrdered <- list(\n",
    "    alphabetical=all_diseases,\n",
    "    clustered_together=clustered_diseases,\n",
    "    clustered_bygroup=subclustered_diseases,\n",
    "    groups=dis.groups,\n",
    "    class=dis.class,\n",
    "    class.colors=class.cols,\n",
    "    dis.class.colors=dis.class.cols\n",
    ")"
   ]
  },
  {
   "cell_type": "code",
   "execution_count": 29,
   "id": "3bb4a222-e91d-44a5-9012-d0e6f4b0d8c2",
   "metadata": {},
   "outputs": [],
   "source": [
    "saveRDS(DiseasesOrdered, 'data/DiseaseListsInfo.rds')"
   ]
  },
  {
   "cell_type": "markdown",
   "id": "a5e57b56-abbe-479d-b4a7-2f786451bff1",
   "metadata": {
    "tags": []
   },
   "source": [
    "# RNA Assay"
   ]
  },
  {
   "cell_type": "markdown",
   "id": "f28a9314-b1f5-4c82-b348-cf20d3672def",
   "metadata": {},
   "source": [
    "---\n",
    "title: Data description\n",
    "author: Shaojie Ma\n",
    "date: August 31, 2022\n",
    "---\n",
    "\n",
    "## Updated seurat object\n",
    "\n",
    "\n",
    "### Object name: All.MNN.v1.org.rds\n",
    "```R\n",
    "## Cell class\n",
    "object@meta.data$subclass\n",
    "\n",
    "## Cell subtype\n",
    "object@meta.data$subtype\n",
    "\n",
    "## Age\n",
    "object@meta.data$cbnage\n",
    "\n",
    "## Region information\n",
    "object@meta.data$lobe\n",
    "```\n",
    "\n",
    "\n",
    "### Subtype order\n",
    "Subtype order is stored in this file: all.nhp.cbn.v6.txt\n",
    "You will just need the \"cluster\" column and the current order is the cell type order.\n",
    "\n",
    "\n",
    "### Subtype Colors (for MF7-A)\n",
    "```R\n",
    "## This is the colors we used in MF1\n",
    "group_colors <- c(`Patterning centers` = \"#821f44\", \n",
    "\t\t\t\t\t`dorsal NSC` = \"#f573ee\",\n",
    "\t\t\t\t\tenIPC = \"#7ca4f9\",\n",
    "\t\t\t\t\t`Excitatory neurons` = \"#2166ac\",\n",
    "\t\t\t\t\t`CR` = \"#bccf42\",\n",
    "\t\t\t\t\t`GE NSC` = \"#f1b6da\",\n",
    "\t\t\t\t\tinIPC = \"#7fe63e\",\n",
    "\t\t\t\t\t`Inhibitory neurons` = \"#0e9c23\",\n",
    "\t\t\t\t\tgIPC = \"#ffc277\",\n",
    "\t\t\t\t\tAstro = \"#e08214\",\n",
    "\t\t\t\t\t`OPC&Oligo` = \"#ad630a\",\n",
    "\t\t\t\t\tMes = \"#6aada3\",\n",
    "\t\t\t\t\tImmune = \"#7a7878\",\n",
    "\t\t\t\t\t`RB&Vas` = \"#525759\",\n",
    "\t\t\t\t\t`PAT-related subtypes` = \"#fa3980\")\n",
    "\n",
    "## For the disease main figure (MF7-A), I changed these non-significant subclasses to \"lightgrey(#D3D3D3)\"\n",
    "## Also for better contrasting, I changed the colors of \"Immune\" & \"CR(Cajal Retzius cells)\"\n",
    "## In case that some \"lightgrey\" cell types have significant scores in the updated dataset, maybe you can update their colors based on the above color codes.\n",
    "group_colors <- c(`Patterning centers` = \"#D3D3D3\", \n",
    "\t\t\t\t\t`dorsal NSC` = \"#D3D3D3\",\n",
    "\t\t\t\t\tenIPC = \"#7ca4f9\",\n",
    "\t\t\t\t\t`Excitatory neurons` = \"#2166ac\",\n",
    "\t\t\t\t\t`CR` = \"#AF9AE2\",\n",
    "\t\t\t\t\t`GE NSC` = \"#D3D3D3\",\n",
    "\t\t\t\t\tinIPC = \"#7fe63e\",\n",
    "\t\t\t\t\t`Inhibitory neurons` = \"#0e9c23\",\n",
    "\t\t\t\t\tgIPC = \"#ffc277\",\n",
    "\t\t\t\t\tAstro = \"#e08214\",\n",
    "\t\t\t\t\t`OPC&Oligo` = \"#ad630a\",\n",
    "\t\t\t\t\tMes = \"#D3D3D3\",\n",
    "\t\t\t\t\tImmune = \"#e05085\",\n",
    "\t\t\t\t\t`RB&Vas` = \"#D3D3D3\",\n",
    "\t\t\t\t\t`PAT-related subtypes` = \"#D3D3D3\")\n",
    "```\n",
    "\n",
    "\n",
    "\n"
   ]
  },
  {
   "cell_type": "code",
   "execution_count": 28,
   "id": "ab8107f9-8ee6-44e0-95ce-a888436cd839",
   "metadata": {
    "scrolled": true,
    "tags": []
   },
   "outputs": [
    {
     "data": {
      "text/html": [
       "<table class=\"dataframe\">\n",
       "<caption>A data.table: 112 × 4</caption>\n",
       "<thead>\n",
       "\t<tr><th scope=col>cluster</th><th scope=col>subclass</th><th scope=col>label</th><th scope=col>sample</th></tr>\n",
       "\t<tr><th scope=col>&lt;chr&gt;</th><th scope=col>&lt;chr&gt;</th><th scope=col>&lt;chr&gt;</th><th scope=col>&lt;chr&gt;</th></tr>\n",
       "</thead>\n",
       "<tbody>\n",
       "\t<tr><td>PC FGF17            </td><td>rostral</td><td>Patterning centers</td><td>all</td></tr>\n",
       "\t<tr><td>PC SFRP1            </td><td>rostral</td><td>Patterning centers</td><td>all</td></tr>\n",
       "\t<tr><td>PC NKX2-1 LMO1      </td><td>rostral</td><td>Patterning centers</td><td>all</td></tr>\n",
       "\t<tr><td>PC NKX2-1 NKX6-2    </td><td>rostral</td><td>Patterning centers</td><td>all</td></tr>\n",
       "\t<tr><td>GE RG NKX2-1 DLK1   </td><td>ventral</td><td>Patterning centers</td><td>all</td></tr>\n",
       "\t<tr><td>GE RG NKX2-1 OLIG1  </td><td>ventral</td><td>Patterning centers</td><td>all</td></tr>\n",
       "\t<tr><td>PC NKX2-1 RAX       </td><td>caudal </td><td>Patterning centers</td><td>all</td></tr>\n",
       "\t<tr><td>PC RSPO3            </td><td>caudal </td><td>Patterning centers</td><td>all</td></tr>\n",
       "\t<tr><td>PC TTR              </td><td>caudal </td><td>Patterning centers</td><td>all</td></tr>\n",
       "\t<tr><td>PC SFRP2            </td><td>caudal </td><td>Patterning centers</td><td>all</td></tr>\n",
       "\t<tr><td>PC TCF7L2           </td><td>caudal </td><td>Patterning centers</td><td>all</td></tr>\n",
       "\t<tr><td>NESC RSPO3 DIRAS3   </td><td>early  </td><td>dorsal NSC        </td><td>all</td></tr>\n",
       "\t<tr><td>NESC RSPO3 TEX15    </td><td>early  </td><td>dorsal NSC        </td><td>all</td></tr>\n",
       "\t<tr><td>vRG HMGA2 CCND1     </td><td>early  </td><td>dorsal NSC        </td><td>all</td></tr>\n",
       "\t<tr><td>RGC FABP7 PMP22     </td><td>early  </td><td>dorsal NSC        </td><td>all</td></tr>\n",
       "\t<tr><td>vRG SAT1 STMN2      </td><td>late   </td><td>dorsal NSC        </td><td>all</td></tr>\n",
       "\t<tr><td>tRG CRYAB MEST      </td><td>late   </td><td>dorsal NSC        </td><td>all</td></tr>\n",
       "\t<tr><td>tRG CRYAB FNDC1     </td><td>late   </td><td>dorsal NSC        </td><td>all</td></tr>\n",
       "\t<tr><td>oRG HOPX TNC        </td><td>late   </td><td>dorsal NSC        </td><td>all</td></tr>\n",
       "\t<tr><td>oRG HOPX APOE       </td><td>late   </td><td>dorsal NSC        </td><td>all</td></tr>\n",
       "\t<tr><td>Ependymal FOXJ1     </td><td>late   </td><td>dorsal NSC        </td><td>all</td></tr>\n",
       "\t<tr><td>IPC EOMES VIM       </td><td>enIPC  </td><td>enIPC             </td><td>all</td></tr>\n",
       "\t<tr><td>IPC EOMES NEUROG1   </td><td>enIPC  </td><td>enIPC             </td><td>all</td></tr>\n",
       "\t<tr><td>IPC EOMES NHLH1 deep</td><td>enIPC  </td><td>enIPC             </td><td>all</td></tr>\n",
       "\t<tr><td>IPC EOMES NHLH1 up  </td><td>enIPC  </td><td>enIPC             </td><td>all</td></tr>\n",
       "\t<tr><td>ExN SOX5 PALMD      </td><td>deep   </td><td>Excitatory neurons</td><td>all</td></tr>\n",
       "\t<tr><td>ExN SOX5 ID2        </td><td>deep   </td><td>Excitatory neurons</td><td>all</td></tr>\n",
       "\t<tr><td>ExN SOX5 NR4A2 GRID2</td><td>deep   </td><td>Excitatory neurons</td><td>all</td></tr>\n",
       "\t<tr><td>ExN SOX5 SYT6       </td><td>deep   </td><td>Excitatory neurons</td><td>all</td></tr>\n",
       "\t<tr><td>ExN SOX5 KCNV1      </td><td>deep   </td><td>Excitatory neurons</td><td>all</td></tr>\n",
       "\t<tr><td>⋮</td><td>⋮</td><td>⋮</td><td>⋮</td></tr>\n",
       "\t<tr><td>gIPC EGFR             </td><td>gIPC                </td><td>gIPC                </td><td>all</td></tr>\n",
       "\t<tr><td>gIPC EGFR MKI67       </td><td>gIPC                </td><td>gIPC                </td><td>all</td></tr>\n",
       "\t<tr><td>aIPC IGFBP2           </td><td>gIPC                </td><td>gIPC                </td><td>all</td></tr>\n",
       "\t<tr><td>oIPC DLL1             </td><td>gIPC                </td><td>gIPC                </td><td>all</td></tr>\n",
       "\t<tr><td>Astro EGFR            </td><td>Astro               </td><td>Astro               </td><td>all</td></tr>\n",
       "\t<tr><td>Astro GFAP            </td><td>Astro               </td><td>Astro               </td><td>all</td></tr>\n",
       "\t<tr><td>Astro MFGE8           </td><td>Astro               </td><td>Astro               </td><td>all</td></tr>\n",
       "\t<tr><td><span style=white-space:pre-wrap>OPC PDGFRA            </span></td><td><span style=white-space:pre-wrap>OPC                 </span></td><td><span style=white-space:pre-wrap>OPC&amp;Oligo           </span></td><td>all</td></tr>\n",
       "\t<tr><td><span style=white-space:pre-wrap>OPC PDGFRA MKI67      </span></td><td><span style=white-space:pre-wrap>OPC                 </span></td><td><span style=white-space:pre-wrap>OPC&amp;Oligo           </span></td><td>all</td></tr>\n",
       "\t<tr><td><span style=white-space:pre-wrap>OPC PCDH15 COL9A1     </span></td><td><span style=white-space:pre-wrap>OPC                 </span></td><td><span style=white-space:pre-wrap>OPC&amp;Oligo           </span></td><td>all</td></tr>\n",
       "\t<tr><td><span style=white-space:pre-wrap>Oligo MBP PLP1        </span></td><td><span style=white-space:pre-wrap>Oligo               </span></td><td><span style=white-space:pre-wrap>OPC&amp;Oligo           </span></td><td>all</td></tr>\n",
       "\t<tr><td>Mesenchymal LUM CYTL1 </td><td>Mes                 </td><td>Mes                 </td><td>all</td></tr>\n",
       "\t<tr><td>Mesenchymal FOXD3 PLP1</td><td>Mes                 </td><td>Mes                 </td><td>all</td></tr>\n",
       "\t<tr><td>Microglia PTPRC C1QC  </td><td>Immune              </td><td>Immune              </td><td>all</td></tr>\n",
       "\t<tr><td>T PTPRC CD69          </td><td>Immune              </td><td>Immune              </td><td>all</td></tr>\n",
       "\t<tr><td><span style=white-space:pre-wrap>RB HBA1 HBE1          </span></td><td><span style=white-space:pre-wrap>RB                  </span></td><td><span style=white-space:pre-wrap>RB&amp;Vas              </span></td><td>all</td></tr>\n",
       "\t<tr><td><span style=white-space:pre-wrap>RB HBA1 SNCA          </span></td><td><span style=white-space:pre-wrap>RB                  </span></td><td><span style=white-space:pre-wrap>RB&amp;Vas              </span></td><td>all</td></tr>\n",
       "\t<tr><td>Endothelial CLDN5 FLT1</td><td><span style=white-space:pre-wrap>Endo                </span></td><td><span style=white-space:pre-wrap>RB&amp;Vas              </span></td><td>all</td></tr>\n",
       "\t<tr><td>Endothelial CLDN5 RGS5</td><td><span style=white-space:pre-wrap>Endo                </span></td><td><span style=white-space:pre-wrap>RB&amp;Vas              </span></td><td>all</td></tr>\n",
       "\t<tr><td><span style=white-space:pre-wrap>Pericyte GRM8         </span></td><td><span style=white-space:pre-wrap>Mural               </span></td><td><span style=white-space:pre-wrap>RB&amp;Vas              </span></td><td>all</td></tr>\n",
       "\t<tr><td><span style=white-space:pre-wrap>SMC ACTA2             </span></td><td><span style=white-space:pre-wrap>Mural               </span></td><td><span style=white-space:pre-wrap>RB&amp;Vas              </span></td><td>all</td></tr>\n",
       "\t<tr><td><span style=white-space:pre-wrap>VLMC PTGDS DSP        </span></td><td><span style=white-space:pre-wrap>VLMC                </span></td><td><span style=white-space:pre-wrap>RB&amp;Vas              </span></td><td>all</td></tr>\n",
       "\t<tr><td>Cls FGF17 LGI1        </td><td>PAT-related subtypes</td><td>PAT-related subtypes</td><td>all</td></tr>\n",
       "\t<tr><td>Cls LHX9 EBF1         </td><td>PAT-related subtypes</td><td>PAT-related subtypes</td><td>all</td></tr>\n",
       "\t<tr><td>Cls RSPO3 SOX1        </td><td>PAT-related subtypes</td><td>PAT-related subtypes</td><td>all</td></tr>\n",
       "\t<tr><td>Cls GSX2 B3GAT2       </td><td>PAT-related subtypes</td><td>PAT-related subtypes</td><td>all</td></tr>\n",
       "\t<tr><td>IPC FGF17             </td><td>PAT-related subtypes</td><td>PAT-related subtypes</td><td>all</td></tr>\n",
       "\t<tr><td>IPC TCF7L2            </td><td>PAT-related subtypes</td><td>PAT-related subtypes</td><td>all</td></tr>\n",
       "\t<tr><td>Neu TAGLN3 NRN1       </td><td>PAT-related subtypes</td><td>PAT-related subtypes</td><td>all</td></tr>\n",
       "\t<tr><td>Neu TAGLN3 ONECUT2    </td><td>PAT-related subtypes</td><td>PAT-related subtypes</td><td>all</td></tr>\n",
       "</tbody>\n",
       "</table>\n"
      ],
      "text/latex": [
       "A data.table: 112 × 4\n",
       "\\begin{tabular}{llll}\n",
       " cluster & subclass & label & sample\\\\\n",
       " <chr> & <chr> & <chr> & <chr>\\\\\n",
       "\\hline\n",
       "\t PC FGF17             & rostral & Patterning centers & all\\\\\n",
       "\t PC SFRP1             & rostral & Patterning centers & all\\\\\n",
       "\t PC NKX2-1 LMO1       & rostral & Patterning centers & all\\\\\n",
       "\t PC NKX2-1 NKX6-2     & rostral & Patterning centers & all\\\\\n",
       "\t GE RG NKX2-1 DLK1    & ventral & Patterning centers & all\\\\\n",
       "\t GE RG NKX2-1 OLIG1   & ventral & Patterning centers & all\\\\\n",
       "\t PC NKX2-1 RAX        & caudal  & Patterning centers & all\\\\\n",
       "\t PC RSPO3             & caudal  & Patterning centers & all\\\\\n",
       "\t PC TTR               & caudal  & Patterning centers & all\\\\\n",
       "\t PC SFRP2             & caudal  & Patterning centers & all\\\\\n",
       "\t PC TCF7L2            & caudal  & Patterning centers & all\\\\\n",
       "\t NESC RSPO3 DIRAS3    & early   & dorsal NSC         & all\\\\\n",
       "\t NESC RSPO3 TEX15     & early   & dorsal NSC         & all\\\\\n",
       "\t vRG HMGA2 CCND1      & early   & dorsal NSC         & all\\\\\n",
       "\t RGC FABP7 PMP22      & early   & dorsal NSC         & all\\\\\n",
       "\t vRG SAT1 STMN2       & late    & dorsal NSC         & all\\\\\n",
       "\t tRG CRYAB MEST       & late    & dorsal NSC         & all\\\\\n",
       "\t tRG CRYAB FNDC1      & late    & dorsal NSC         & all\\\\\n",
       "\t oRG HOPX TNC         & late    & dorsal NSC         & all\\\\\n",
       "\t oRG HOPX APOE        & late    & dorsal NSC         & all\\\\\n",
       "\t Ependymal FOXJ1      & late    & dorsal NSC         & all\\\\\n",
       "\t IPC EOMES VIM        & enIPC   & enIPC              & all\\\\\n",
       "\t IPC EOMES NEUROG1    & enIPC   & enIPC              & all\\\\\n",
       "\t IPC EOMES NHLH1 deep & enIPC   & enIPC              & all\\\\\n",
       "\t IPC EOMES NHLH1 up   & enIPC   & enIPC              & all\\\\\n",
       "\t ExN SOX5 PALMD       & deep    & Excitatory neurons & all\\\\\n",
       "\t ExN SOX5 ID2         & deep    & Excitatory neurons & all\\\\\n",
       "\t ExN SOX5 NR4A2 GRID2 & deep    & Excitatory neurons & all\\\\\n",
       "\t ExN SOX5 SYT6        & deep    & Excitatory neurons & all\\\\\n",
       "\t ExN SOX5 KCNV1       & deep    & Excitatory neurons & all\\\\\n",
       "\t ⋮ & ⋮ & ⋮ & ⋮\\\\\n",
       "\t gIPC EGFR              & gIPC                 & gIPC                 & all\\\\\n",
       "\t gIPC EGFR MKI67        & gIPC                 & gIPC                 & all\\\\\n",
       "\t aIPC IGFBP2            & gIPC                 & gIPC                 & all\\\\\n",
       "\t oIPC DLL1              & gIPC                 & gIPC                 & all\\\\\n",
       "\t Astro EGFR             & Astro                & Astro                & all\\\\\n",
       "\t Astro GFAP             & Astro                & Astro                & all\\\\\n",
       "\t Astro MFGE8            & Astro                & Astro                & all\\\\\n",
       "\t OPC PDGFRA             & OPC                  & OPC\\&Oligo            & all\\\\\n",
       "\t OPC PDGFRA MKI67       & OPC                  & OPC\\&Oligo            & all\\\\\n",
       "\t OPC PCDH15 COL9A1      & OPC                  & OPC\\&Oligo            & all\\\\\n",
       "\t Oligo MBP PLP1         & Oligo                & OPC\\&Oligo            & all\\\\\n",
       "\t Mesenchymal LUM CYTL1  & Mes                  & Mes                  & all\\\\\n",
       "\t Mesenchymal FOXD3 PLP1 & Mes                  & Mes                  & all\\\\\n",
       "\t Microglia PTPRC C1QC   & Immune               & Immune               & all\\\\\n",
       "\t T PTPRC CD69           & Immune               & Immune               & all\\\\\n",
       "\t RB HBA1 HBE1           & RB                   & RB\\&Vas               & all\\\\\n",
       "\t RB HBA1 SNCA           & RB                   & RB\\&Vas               & all\\\\\n",
       "\t Endothelial CLDN5 FLT1 & Endo                 & RB\\&Vas               & all\\\\\n",
       "\t Endothelial CLDN5 RGS5 & Endo                 & RB\\&Vas               & all\\\\\n",
       "\t Pericyte GRM8          & Mural                & RB\\&Vas               & all\\\\\n",
       "\t SMC ACTA2              & Mural                & RB\\&Vas               & all\\\\\n",
       "\t VLMC PTGDS DSP         & VLMC                 & RB\\&Vas               & all\\\\\n",
       "\t Cls FGF17 LGI1         & PAT-related subtypes & PAT-related subtypes & all\\\\\n",
       "\t Cls LHX9 EBF1          & PAT-related subtypes & PAT-related subtypes & all\\\\\n",
       "\t Cls RSPO3 SOX1         & PAT-related subtypes & PAT-related subtypes & all\\\\\n",
       "\t Cls GSX2 B3GAT2        & PAT-related subtypes & PAT-related subtypes & all\\\\\n",
       "\t IPC FGF17              & PAT-related subtypes & PAT-related subtypes & all\\\\\n",
       "\t IPC TCF7L2             & PAT-related subtypes & PAT-related subtypes & all\\\\\n",
       "\t Neu TAGLN3 NRN1        & PAT-related subtypes & PAT-related subtypes & all\\\\\n",
       "\t Neu TAGLN3 ONECUT2     & PAT-related subtypes & PAT-related subtypes & all\\\\\n",
       "\\end{tabular}\n"
      ],
      "text/markdown": [
       "\n",
       "A data.table: 112 × 4\n",
       "\n",
       "| cluster &lt;chr&gt; | subclass &lt;chr&gt; | label &lt;chr&gt; | sample &lt;chr&gt; |\n",
       "|---|---|---|---|\n",
       "| PC FGF17             | rostral | Patterning centers | all |\n",
       "| PC SFRP1             | rostral | Patterning centers | all |\n",
       "| PC NKX2-1 LMO1       | rostral | Patterning centers | all |\n",
       "| PC NKX2-1 NKX6-2     | rostral | Patterning centers | all |\n",
       "| GE RG NKX2-1 DLK1    | ventral | Patterning centers | all |\n",
       "| GE RG NKX2-1 OLIG1   | ventral | Patterning centers | all |\n",
       "| PC NKX2-1 RAX        | caudal  | Patterning centers | all |\n",
       "| PC RSPO3             | caudal  | Patterning centers | all |\n",
       "| PC TTR               | caudal  | Patterning centers | all |\n",
       "| PC SFRP2             | caudal  | Patterning centers | all |\n",
       "| PC TCF7L2            | caudal  | Patterning centers | all |\n",
       "| NESC RSPO3 DIRAS3    | early   | dorsal NSC         | all |\n",
       "| NESC RSPO3 TEX15     | early   | dorsal NSC         | all |\n",
       "| vRG HMGA2 CCND1      | early   | dorsal NSC         | all |\n",
       "| RGC FABP7 PMP22      | early   | dorsal NSC         | all |\n",
       "| vRG SAT1 STMN2       | late    | dorsal NSC         | all |\n",
       "| tRG CRYAB MEST       | late    | dorsal NSC         | all |\n",
       "| tRG CRYAB FNDC1      | late    | dorsal NSC         | all |\n",
       "| oRG HOPX TNC         | late    | dorsal NSC         | all |\n",
       "| oRG HOPX APOE        | late    | dorsal NSC         | all |\n",
       "| Ependymal FOXJ1      | late    | dorsal NSC         | all |\n",
       "| IPC EOMES VIM        | enIPC   | enIPC              | all |\n",
       "| IPC EOMES NEUROG1    | enIPC   | enIPC              | all |\n",
       "| IPC EOMES NHLH1 deep | enIPC   | enIPC              | all |\n",
       "| IPC EOMES NHLH1 up   | enIPC   | enIPC              | all |\n",
       "| ExN SOX5 PALMD       | deep    | Excitatory neurons | all |\n",
       "| ExN SOX5 ID2         | deep    | Excitatory neurons | all |\n",
       "| ExN SOX5 NR4A2 GRID2 | deep    | Excitatory neurons | all |\n",
       "| ExN SOX5 SYT6        | deep    | Excitatory neurons | all |\n",
       "| ExN SOX5 KCNV1       | deep    | Excitatory neurons | all |\n",
       "| ⋮ | ⋮ | ⋮ | ⋮ |\n",
       "| gIPC EGFR              | gIPC                 | gIPC                 | all |\n",
       "| gIPC EGFR MKI67        | gIPC                 | gIPC                 | all |\n",
       "| aIPC IGFBP2            | gIPC                 | gIPC                 | all |\n",
       "| oIPC DLL1              | gIPC                 | gIPC                 | all |\n",
       "| Astro EGFR             | Astro                | Astro                | all |\n",
       "| Astro GFAP             | Astro                | Astro                | all |\n",
       "| Astro MFGE8            | Astro                | Astro                | all |\n",
       "| OPC PDGFRA             | OPC                  | OPC&amp;Oligo            | all |\n",
       "| OPC PDGFRA MKI67       | OPC                  | OPC&amp;Oligo            | all |\n",
       "| OPC PCDH15 COL9A1      | OPC                  | OPC&amp;Oligo            | all |\n",
       "| Oligo MBP PLP1         | Oligo                | OPC&amp;Oligo            | all |\n",
       "| Mesenchymal LUM CYTL1  | Mes                  | Mes                  | all |\n",
       "| Mesenchymal FOXD3 PLP1 | Mes                  | Mes                  | all |\n",
       "| Microglia PTPRC C1QC   | Immune               | Immune               | all |\n",
       "| T PTPRC CD69           | Immune               | Immune               | all |\n",
       "| RB HBA1 HBE1           | RB                   | RB&amp;Vas               | all |\n",
       "| RB HBA1 SNCA           | RB                   | RB&amp;Vas               | all |\n",
       "| Endothelial CLDN5 FLT1 | Endo                 | RB&amp;Vas               | all |\n",
       "| Endothelial CLDN5 RGS5 | Endo                 | RB&amp;Vas               | all |\n",
       "| Pericyte GRM8          | Mural                | RB&amp;Vas               | all |\n",
       "| SMC ACTA2              | Mural                | RB&amp;Vas               | all |\n",
       "| VLMC PTGDS DSP         | VLMC                 | RB&amp;Vas               | all |\n",
       "| Cls FGF17 LGI1         | PAT-related subtypes | PAT-related subtypes | all |\n",
       "| Cls LHX9 EBF1          | PAT-related subtypes | PAT-related subtypes | all |\n",
       "| Cls RSPO3 SOX1         | PAT-related subtypes | PAT-related subtypes | all |\n",
       "| Cls GSX2 B3GAT2        | PAT-related subtypes | PAT-related subtypes | all |\n",
       "| IPC FGF17              | PAT-related subtypes | PAT-related subtypes | all |\n",
       "| IPC TCF7L2             | PAT-related subtypes | PAT-related subtypes | all |\n",
       "| Neu TAGLN3 NRN1        | PAT-related subtypes | PAT-related subtypes | all |\n",
       "| Neu TAGLN3 ONECUT2     | PAT-related subtypes | PAT-related subtypes | all |\n",
       "\n"
      ],
      "text/plain": [
       "    cluster                subclass             label                sample\n",
       "1   PC FGF17               rostral              Patterning centers   all   \n",
       "2   PC SFRP1               rostral              Patterning centers   all   \n",
       "3   PC NKX2-1 LMO1         rostral              Patterning centers   all   \n",
       "4   PC NKX2-1 NKX6-2       rostral              Patterning centers   all   \n",
       "5   GE RG NKX2-1 DLK1      ventral              Patterning centers   all   \n",
       "6   GE RG NKX2-1 OLIG1     ventral              Patterning centers   all   \n",
       "7   PC NKX2-1 RAX          caudal               Patterning centers   all   \n",
       "8   PC RSPO3               caudal               Patterning centers   all   \n",
       "9   PC TTR                 caudal               Patterning centers   all   \n",
       "10  PC SFRP2               caudal               Patterning centers   all   \n",
       "11  PC TCF7L2              caudal               Patterning centers   all   \n",
       "12  NESC RSPO3 DIRAS3      early                dorsal NSC           all   \n",
       "13  NESC RSPO3 TEX15       early                dorsal NSC           all   \n",
       "14  vRG HMGA2 CCND1        early                dorsal NSC           all   \n",
       "15  RGC FABP7 PMP22        early                dorsal NSC           all   \n",
       "16  vRG SAT1 STMN2         late                 dorsal NSC           all   \n",
       "17  tRG CRYAB MEST         late                 dorsal NSC           all   \n",
       "18  tRG CRYAB FNDC1        late                 dorsal NSC           all   \n",
       "19  oRG HOPX TNC           late                 dorsal NSC           all   \n",
       "20  oRG HOPX APOE          late                 dorsal NSC           all   \n",
       "21  Ependymal FOXJ1        late                 dorsal NSC           all   \n",
       "22  IPC EOMES VIM          enIPC                enIPC                all   \n",
       "23  IPC EOMES NEUROG1      enIPC                enIPC                all   \n",
       "24  IPC EOMES NHLH1 deep   enIPC                enIPC                all   \n",
       "25  IPC EOMES NHLH1 up     enIPC                enIPC                all   \n",
       "26  ExN SOX5 PALMD         deep                 Excitatory neurons   all   \n",
       "27  ExN SOX5 ID2           deep                 Excitatory neurons   all   \n",
       "28  ExN SOX5 NR4A2 GRID2   deep                 Excitatory neurons   all   \n",
       "29  ExN SOX5 SYT6          deep                 Excitatory neurons   all   \n",
       "30  ExN SOX5 KCNV1         deep                 Excitatory neurons   all   \n",
       "⋮   ⋮                      ⋮                    ⋮                    ⋮     \n",
       "83  gIPC EGFR              gIPC                 gIPC                 all   \n",
       "84  gIPC EGFR MKI67        gIPC                 gIPC                 all   \n",
       "85  aIPC IGFBP2            gIPC                 gIPC                 all   \n",
       "86  oIPC DLL1              gIPC                 gIPC                 all   \n",
       "87  Astro EGFR             Astro                Astro                all   \n",
       "88  Astro GFAP             Astro                Astro                all   \n",
       "89  Astro MFGE8            Astro                Astro                all   \n",
       "90  OPC PDGFRA             OPC                  OPC&Oligo            all   \n",
       "91  OPC PDGFRA MKI67       OPC                  OPC&Oligo            all   \n",
       "92  OPC PCDH15 COL9A1      OPC                  OPC&Oligo            all   \n",
       "93  Oligo MBP PLP1         Oligo                OPC&Oligo            all   \n",
       "94  Mesenchymal LUM CYTL1  Mes                  Mes                  all   \n",
       "95  Mesenchymal FOXD3 PLP1 Mes                  Mes                  all   \n",
       "96  Microglia PTPRC C1QC   Immune               Immune               all   \n",
       "97  T PTPRC CD69           Immune               Immune               all   \n",
       "98  RB HBA1 HBE1           RB                   RB&Vas               all   \n",
       "99  RB HBA1 SNCA           RB                   RB&Vas               all   \n",
       "100 Endothelial CLDN5 FLT1 Endo                 RB&Vas               all   \n",
       "101 Endothelial CLDN5 RGS5 Endo                 RB&Vas               all   \n",
       "102 Pericyte GRM8          Mural                RB&Vas               all   \n",
       "103 SMC ACTA2              Mural                RB&Vas               all   \n",
       "104 VLMC PTGDS DSP         VLMC                 RB&Vas               all   \n",
       "105 Cls FGF17 LGI1         PAT-related subtypes PAT-related subtypes all   \n",
       "106 Cls LHX9 EBF1          PAT-related subtypes PAT-related subtypes all   \n",
       "107 Cls RSPO3 SOX1         PAT-related subtypes PAT-related subtypes all   \n",
       "108 Cls GSX2 B3GAT2        PAT-related subtypes PAT-related subtypes all   \n",
       "109 IPC FGF17              PAT-related subtypes PAT-related subtypes all   \n",
       "110 IPC TCF7L2             PAT-related subtypes PAT-related subtypes all   \n",
       "111 Neu TAGLN3 NRN1        PAT-related subtypes PAT-related subtypes all   \n",
       "112 Neu TAGLN3 ONECUT2     PAT-related subtypes PAT-related subtypes all   "
      ]
     },
     "metadata": {},
     "output_type": "display_data"
    }
   ],
   "source": [
    "celltype.info <- data.table::fread('raw/all.nhp.cbn.v6.txt')\n",
    "celltype.info"
   ]
  },
  {
   "cell_type": "code",
   "execution_count": 29,
   "id": "99917342-819b-4060-b88d-8cad9af17128",
   "metadata": {},
   "outputs": [],
   "source": [
    "object <- readRDS('raw/All.MNN.v1.org.rds')"
   ]
  },
  {
   "cell_type": "code",
   "execution_count": 30,
   "id": "790b5cd5-156e-4547-8489-83e1c4971900",
   "metadata": {},
   "outputs": [
    {
     "name": "stderr",
     "output_type": "stream",
     "text": [
      "Loading required package: Seurat\n",
      "\n",
      "The legacy packages maptools, rgdal, and rgeos, underpinning the sp package,\n",
      "which was just loaded, will retire in October 2023.\n",
      "Please refer to R-spatial evolution reports for details, especially\n",
      "https://r-spatial.org/r/2023/05/15/evolution4.html.\n",
      "It may be desirable to make the sf package available;\n",
      "package maintainers should consider adding sf to Suggests:.\n",
      "The sp package is now running under evolution status 2\n",
      "     (status 2 uses the sf package in place of rgdal)\n",
      "\n",
      "Attaching SeuratObject\n",
      "\n"
     ]
    },
    {
     "data": {
      "text/plain": [
       "An object of class Seurat \n",
       "34619 features across 761529 samples within 1 assay \n",
       "Active assay: RNA (34619 features, 0 variable features)\n",
       " 2 dimensional reductions calculated: mnn, umap"
      ]
     },
     "metadata": {},
     "output_type": "display_data"
    }
   ],
   "source": [
    "object"
   ]
  },
  {
   "cell_type": "code",
   "execution_count": 31,
   "id": "e3b6c1a7-ecd5-40c3-931e-5e20e8a34c1b",
   "metadata": {},
   "outputs": [
    {
     "name": "stdout",
     "output_type": "stream",
     "text": [
      " chr [1:761529] \"PAT-related subtypes\" \"dorsal NSC\" \"CR\" ...\n",
      " chr [1:761529] \"Cls FGF17 LGI1\" \"RGC FABP7 PMP22\" \"IPC RSPO3 NHLH1\" ...\n",
      " chr [1:761529] \"E37\" \"E37\" \"E37\" \"E37\" \"E37\" \"E37\" \"E37\" \"E37\" \"E37\" \"E37\" ...\n",
      " chr [1:761529] \"FC\" \"FC\" \"FC\" \"FC\" \"FC\" \"FC\" \"FC\" \"FC\" \"FC\" \"FC\" \"FC\" \"FC\" ...\n"
     ]
    }
   ],
   "source": [
    "## Cell class\n",
    "str(object@meta.data$subclass)\n",
    "\n",
    "## Cell subtype\n",
    "str(object@meta.data$subtype)\n",
    "\n",
    "## Age\n",
    "str(object@meta.data$cbnage)\n",
    "\n",
    "## Region information\n",
    "str(object@meta.data$lobe)\n"
   ]
  },
  {
   "cell_type": "markdown",
   "id": "d485c24d-045b-4a6d-80ac-1e59568622a5",
   "metadata": {},
   "source": [
    "In object, subclass refers to label in the annotation, which is the subclass label.\n",
    "In object, subtype refers to cluster in the annotation."
   ]
  },
  {
   "cell_type": "code",
   "execution_count": 32,
   "id": "01841e03-9135-4efb-bf89-769feb2ed74d",
   "metadata": {},
   "outputs": [
    {
     "data": {
      "text/html": [
       "TRUE"
      ],
      "text/latex": [
       "TRUE"
      ],
      "text/markdown": [
       "TRUE"
      ],
      "text/plain": [
       "[1] TRUE"
      ]
     },
     "metadata": {},
     "output_type": "display_data"
    }
   ],
   "source": [
    "all(unique(object$subclass) %in% unique(celltype.info$label))"
   ]
  },
  {
   "cell_type": "code",
   "execution_count": 33,
   "id": "d9475645-a4a6-4258-9529-95a4e7850b42",
   "metadata": {},
   "outputs": [
    {
     "data": {
      "text/html": [
       "TRUE"
      ],
      "text/latex": [
       "TRUE"
      ],
      "text/markdown": [
       "TRUE"
      ],
      "text/plain": [
       "[1] TRUE"
      ]
     },
     "metadata": {},
     "output_type": "display_data"
    }
   ],
   "source": [
    "all(unique(object$subtype) %in% unique(celltype.info$cluster))"
   ]
  },
  {
   "cell_type": "code",
   "execution_count": 34,
   "id": "997ddbb5-172b-4378-aaed-9a67da24cb7e",
   "metadata": {},
   "outputs": [
    {
     "data": {
      "text/html": [
       "<style>\n",
       ".list-inline {list-style: none; margin:0; padding: 0}\n",
       ".list-inline>li {display: inline-block}\n",
       ".list-inline>li:not(:last-child)::after {content: \"\\00b7\"; padding: 0 .5ex}\n",
       "</style>\n",
       "<ol class=list-inline><li>'PAT-related subtypes'</li><li>'dorsal NSC'</li><li>'CR'</li><li>'Inhibitory neurons'</li><li>'Patterning centers'</li><li>'inIPC'</li><li>'Mes'</li><li>'enIPC'</li><li>'RB&amp;Vas'</li><li>'Excitatory neurons'</li><li>'Immune'</li><li>'OPC&amp;Oligo'</li><li>'Astro'</li><li>'gIPC'</li><li>'GE NSC'</li></ol>\n"
      ],
      "text/latex": [
       "\\begin{enumerate*}\n",
       "\\item 'PAT-related subtypes'\n",
       "\\item 'dorsal NSC'\n",
       "\\item 'CR'\n",
       "\\item 'Inhibitory neurons'\n",
       "\\item 'Patterning centers'\n",
       "\\item 'inIPC'\n",
       "\\item 'Mes'\n",
       "\\item 'enIPC'\n",
       "\\item 'RB\\&Vas'\n",
       "\\item 'Excitatory neurons'\n",
       "\\item 'Immune'\n",
       "\\item 'OPC\\&Oligo'\n",
       "\\item 'Astro'\n",
       "\\item 'gIPC'\n",
       "\\item 'GE NSC'\n",
       "\\end{enumerate*}\n"
      ],
      "text/markdown": [
       "1. 'PAT-related subtypes'\n",
       "2. 'dorsal NSC'\n",
       "3. 'CR'\n",
       "4. 'Inhibitory neurons'\n",
       "5. 'Patterning centers'\n",
       "6. 'inIPC'\n",
       "7. 'Mes'\n",
       "8. 'enIPC'\n",
       "9. 'RB&amp;Vas'\n",
       "10. 'Excitatory neurons'\n",
       "11. 'Immune'\n",
       "12. 'OPC&amp;Oligo'\n",
       "13. 'Astro'\n",
       "14. 'gIPC'\n",
       "15. 'GE NSC'\n",
       "\n",
       "\n"
      ],
      "text/plain": [
       " [1] \"PAT-related subtypes\" \"dorsal NSC\"           \"CR\"                  \n",
       " [4] \"Inhibitory neurons\"   \"Patterning centers\"   \"inIPC\"               \n",
       " [7] \"Mes\"                  \"enIPC\"                \"RB&Vas\"              \n",
       "[10] \"Excitatory neurons\"   \"Immune\"               \"OPC&Oligo\"           \n",
       "[13] \"Astro\"                \"gIPC\"                 \"GE NSC\"              "
      ]
     },
     "metadata": {},
     "output_type": "display_data"
    },
    {
     "data": {
      "text/html": [
       "<style>\n",
       ".list-inline {list-style: none; margin:0; padding: 0}\n",
       ".list-inline>li {display: inline-block}\n",
       ".list-inline>li:not(:last-child)::after {content: \"\\00b7\"; padding: 0 .5ex}\n",
       "</style>\n",
       "<ol class=list-inline><li>'Patterning centers'</li><li>'dorsal NSC'</li><li>'enIPC'</li><li>'Excitatory neurons'</li><li>'CR'</li><li>'GE NSC'</li><li>'inIPC'</li><li>'Inhibitory neurons'</li><li>'gIPC'</li><li>'Astro'</li><li>'OPC&amp;Oligo'</li><li>'Mes'</li><li>'Immune'</li><li>'RB&amp;Vas'</li><li>'PAT-related subtypes'</li></ol>\n"
      ],
      "text/latex": [
       "\\begin{enumerate*}\n",
       "\\item 'Patterning centers'\n",
       "\\item 'dorsal NSC'\n",
       "\\item 'enIPC'\n",
       "\\item 'Excitatory neurons'\n",
       "\\item 'CR'\n",
       "\\item 'GE NSC'\n",
       "\\item 'inIPC'\n",
       "\\item 'Inhibitory neurons'\n",
       "\\item 'gIPC'\n",
       "\\item 'Astro'\n",
       "\\item 'OPC\\&Oligo'\n",
       "\\item 'Mes'\n",
       "\\item 'Immune'\n",
       "\\item 'RB\\&Vas'\n",
       "\\item 'PAT-related subtypes'\n",
       "\\end{enumerate*}\n"
      ],
      "text/markdown": [
       "1. 'Patterning centers'\n",
       "2. 'dorsal NSC'\n",
       "3. 'enIPC'\n",
       "4. 'Excitatory neurons'\n",
       "5. 'CR'\n",
       "6. 'GE NSC'\n",
       "7. 'inIPC'\n",
       "8. 'Inhibitory neurons'\n",
       "9. 'gIPC'\n",
       "10. 'Astro'\n",
       "11. 'OPC&amp;Oligo'\n",
       "12. 'Mes'\n",
       "13. 'Immune'\n",
       "14. 'RB&amp;Vas'\n",
       "15. 'PAT-related subtypes'\n",
       "\n",
       "\n"
      ],
      "text/plain": [
       " [1] \"Patterning centers\"   \"dorsal NSC\"           \"enIPC\"               \n",
       " [4] \"Excitatory neurons\"   \"CR\"                   \"GE NSC\"              \n",
       " [7] \"inIPC\"                \"Inhibitory neurons\"   \"gIPC\"                \n",
       "[10] \"Astro\"                \"OPC&Oligo\"            \"Mes\"                 \n",
       "[13] \"Immune\"               \"RB&Vas\"               \"PAT-related subtypes\""
      ]
     },
     "metadata": {},
     "output_type": "display_data"
    }
   ],
   "source": [
    "unique(object$subclass)\n",
    "unique(celltype.info$label)"
   ]
  },
  {
   "cell_type": "code",
   "execution_count": 35,
   "id": "3a7e67ba-702b-426e-8270-ac3711604693",
   "metadata": {
    "scrolled": true,
    "tags": []
   },
   "outputs": [
    {
     "data": {
      "text/html": [
       "<style>\n",
       ".list-inline {list-style: none; margin:0; padding: 0}\n",
       ".list-inline>li {display: inline-block}\n",
       ".list-inline>li:not(:last-child)::after {content: \"\\00b7\"; padding: 0 .5ex}\n",
       "</style>\n",
       "<ol class=list-inline><li>'Cls FGF17 LGI1'</li><li>'RGC FABP7 PMP22'</li><li>'IPC RSPO3 NHLH1'</li><li>'InN SP8 MEIS2 RND3'</li><li>'PC NKX2-1 NKX6-2'</li><li>'PC FGF17'</li><li>'PC NKX2-1 LMO1'</li><li>'vRG HMGA2 CCND1'</li><li>'IPC RSPO3 NEUROG1'</li><li>'PC SFRP1'</li><li>'inIPC ASCL1 DLX1'</li><li>'NESC RSPO3 TEX15'</li><li>'InN LHX8 ZIC1'</li><li>'Mesenchymal LUM CYTL1'</li><li>'CR TP73'</li><li>'IPC FGF17'</li><li>'IPC EOMES NEUROG1'</li><li>'IPC EOMES NHLH1 deep'</li><li>'Cls GSX2 B3GAT2'</li><li>'RB HBA1 SNCA'</li><li>'SMC ACTA2'</li><li>'CR ETV1'</li><li>'Pericyte GRM8'</li><li>'Endothelial CLDN5 FLT1'</li><li>'ExN SOX5 PALMD'</li><li>'InN HMX1'</li><li>'InN GNRH1'</li><li>'NESC RSPO3 DIRAS3'</li><li>'RB HBA1 HBE1'</li><li>'Neu TAGLN3 ONECUT2'</li><li>'InN NKX2-1 CCND2'</li><li>'Mesenchymal FOXD3 PLP1'</li><li>'Cls RSPO3 SOX1'</li><li>'PC SFRP2'</li><li>'InN FOXP2 TSHZ1'</li><li>'Microglia PTPRC C1QC'</li><li>'VLMC PTGDS DSP'</li><li>'PC RSPO3'</li><li>'Cls LHX9 EBF1'</li><li>'PC TTR'</li><li>'InN SFRP2 MEIS2'</li><li>'InN LHX6 MAF'</li><li>'Neu TAGLN3 NRN1'</li><li>'inIPC ASCL1 SFRP2'</li><li>'IPC EOMES VIM'</li><li>'InN NR2F2 SP8'</li><li>'PC NKX2-1 RAX'</li><li>'InN SIX3 ZFHX3'</li><li>'PC TCF7L2'</li><li>'OPC PDGFRA'</li><li>'vRG SAT1 STMN2'</li><li>'InN LHX6 CRABP1'</li><li>'IPC TCF7L2'</li><li>'Endothelial CLDN5 RGS5'</li><li>'T PTPRC CD69'</li><li>'InN LHX6 DCN'</li><li>'oRG HOPX TNC'</li><li>'InN FOXP1 ISL1'</li><li>'InN LHX6 SST NPY'</li><li>'InN LHX6 SST RELN'</li><li>'ExN SOX5 ID2'</li><li>'ExN SOX5 SYT6'</li><li>'ExN SOX5 NR4A2 GRID2'</li><li>'ExN CUX2 ADRA2A'</li><li>'Astro GFAP'</li><li>'tRG CRYAB MEST'</li><li>'IPC EOMES NHLH1 up'</li><li>'ExN CUX2 PALMD'</li><li>'InN NR2F2 CRH'</li><li>'inIPC ASCL1 SP8'</li><li>'InN SP8 VIP'</li><li>'ExN SOX5 KCNV1'</li><li>'InN SP8 CRH'</li><li>'ExN CUX2 ACTN2'</li><li>'InN NR2F2 SP8 KIT'</li><li>'InN NR2F2 VIP'</li><li>'InN FOXP1 PENK'</li><li>'oRG HOPX APOE'</li><li>'InN LHX6 CCK'</li><li>'ExN SOX5 OPRK1 NR4A2'</li><li>'aIPC IGFBP2'</li><li>'InN NR2F2 LAMP5'</li><li>'Ependymal FOXJ1'</li><li>'InN LHX6 GUCY1A2'</li><li>'inIPC ASCL1 NKX2-1'</li><li>'GE CR ZFHX3'</li><li>'GE RG HMGA2 NR2F2'</li><li>'GE RG NKX2-1 OLIG1'</li><li>'GE RG HMGA2 NKX6-2'</li><li>'inIPC ASCL1 GADD45G'</li><li>'GE RG NKX2-1 DLK1'</li><li>'inIPC ASCL1 GSX1'</li><li>'GE Ependymal FOXJ1'</li><li>'inIPC ASCL1 GPX1'</li><li>'GE RG HOPX NRG1'</li><li>'GE RG CRYAB'</li><li>'GE RG STMN2 SOX5'</li><li>'Astro MFGE8'</li><li>'InN ZIC1 ZIC2'</li><li>'GE RG HOPX STMN1'</li><li>'gIPC EGFR MKI67'</li><li>'Oligo MBP PLP1'</li><li>'InN SP8 PAX6'</li><li>'oIPC DLL1'</li><li>'gIPC EGFR'</li><li>'OPC PDGFRA MKI67'</li><li>'ExN SOX5 OPRK1 SULF1'</li><li>'inIPC DLX1 NR2F2'</li><li>'tRG CRYAB FNDC1'</li><li>'ExN TSHZ2 NR4A3'</li><li>'OPC PCDH15 COL9A1'</li><li>'Astro EGFR'</li></ol>\n"
      ],
      "text/latex": [
       "\\begin{enumerate*}\n",
       "\\item 'Cls FGF17 LGI1'\n",
       "\\item 'RGC FABP7 PMP22'\n",
       "\\item 'IPC RSPO3 NHLH1'\n",
       "\\item 'InN SP8 MEIS2 RND3'\n",
       "\\item 'PC NKX2-1 NKX6-2'\n",
       "\\item 'PC FGF17'\n",
       "\\item 'PC NKX2-1 LMO1'\n",
       "\\item 'vRG HMGA2 CCND1'\n",
       "\\item 'IPC RSPO3 NEUROG1'\n",
       "\\item 'PC SFRP1'\n",
       "\\item 'inIPC ASCL1 DLX1'\n",
       "\\item 'NESC RSPO3 TEX15'\n",
       "\\item 'InN LHX8 ZIC1'\n",
       "\\item 'Mesenchymal LUM CYTL1'\n",
       "\\item 'CR TP73'\n",
       "\\item 'IPC FGF17'\n",
       "\\item 'IPC EOMES NEUROG1'\n",
       "\\item 'IPC EOMES NHLH1 deep'\n",
       "\\item 'Cls GSX2 B3GAT2'\n",
       "\\item 'RB HBA1 SNCA'\n",
       "\\item 'SMC ACTA2'\n",
       "\\item 'CR ETV1'\n",
       "\\item 'Pericyte GRM8'\n",
       "\\item 'Endothelial CLDN5 FLT1'\n",
       "\\item 'ExN SOX5 PALMD'\n",
       "\\item 'InN HMX1'\n",
       "\\item 'InN GNRH1'\n",
       "\\item 'NESC RSPO3 DIRAS3'\n",
       "\\item 'RB HBA1 HBE1'\n",
       "\\item 'Neu TAGLN3 ONECUT2'\n",
       "\\item 'InN NKX2-1 CCND2'\n",
       "\\item 'Mesenchymal FOXD3 PLP1'\n",
       "\\item 'Cls RSPO3 SOX1'\n",
       "\\item 'PC SFRP2'\n",
       "\\item 'InN FOXP2 TSHZ1'\n",
       "\\item 'Microglia PTPRC C1QC'\n",
       "\\item 'VLMC PTGDS DSP'\n",
       "\\item 'PC RSPO3'\n",
       "\\item 'Cls LHX9 EBF1'\n",
       "\\item 'PC TTR'\n",
       "\\item 'InN SFRP2 MEIS2'\n",
       "\\item 'InN LHX6 MAF'\n",
       "\\item 'Neu TAGLN3 NRN1'\n",
       "\\item 'inIPC ASCL1 SFRP2'\n",
       "\\item 'IPC EOMES VIM'\n",
       "\\item 'InN NR2F2 SP8'\n",
       "\\item 'PC NKX2-1 RAX'\n",
       "\\item 'InN SIX3 ZFHX3'\n",
       "\\item 'PC TCF7L2'\n",
       "\\item 'OPC PDGFRA'\n",
       "\\item 'vRG SAT1 STMN2'\n",
       "\\item 'InN LHX6 CRABP1'\n",
       "\\item 'IPC TCF7L2'\n",
       "\\item 'Endothelial CLDN5 RGS5'\n",
       "\\item 'T PTPRC CD69'\n",
       "\\item 'InN LHX6 DCN'\n",
       "\\item 'oRG HOPX TNC'\n",
       "\\item 'InN FOXP1 ISL1'\n",
       "\\item 'InN LHX6 SST NPY'\n",
       "\\item 'InN LHX6 SST RELN'\n",
       "\\item 'ExN SOX5 ID2'\n",
       "\\item 'ExN SOX5 SYT6'\n",
       "\\item 'ExN SOX5 NR4A2 GRID2'\n",
       "\\item 'ExN CUX2 ADRA2A'\n",
       "\\item 'Astro GFAP'\n",
       "\\item 'tRG CRYAB MEST'\n",
       "\\item 'IPC EOMES NHLH1 up'\n",
       "\\item 'ExN CUX2 PALMD'\n",
       "\\item 'InN NR2F2 CRH'\n",
       "\\item 'inIPC ASCL1 SP8'\n",
       "\\item 'InN SP8 VIP'\n",
       "\\item 'ExN SOX5 KCNV1'\n",
       "\\item 'InN SP8 CRH'\n",
       "\\item 'ExN CUX2 ACTN2'\n",
       "\\item 'InN NR2F2 SP8 KIT'\n",
       "\\item 'InN NR2F2 VIP'\n",
       "\\item 'InN FOXP1 PENK'\n",
       "\\item 'oRG HOPX APOE'\n",
       "\\item 'InN LHX6 CCK'\n",
       "\\item 'ExN SOX5 OPRK1 NR4A2'\n",
       "\\item 'aIPC IGFBP2'\n",
       "\\item 'InN NR2F2 LAMP5'\n",
       "\\item 'Ependymal FOXJ1'\n",
       "\\item 'InN LHX6 GUCY1A2'\n",
       "\\item 'inIPC ASCL1 NKX2-1'\n",
       "\\item 'GE CR ZFHX3'\n",
       "\\item 'GE RG HMGA2 NR2F2'\n",
       "\\item 'GE RG NKX2-1 OLIG1'\n",
       "\\item 'GE RG HMGA2 NKX6-2'\n",
       "\\item 'inIPC ASCL1 GADD45G'\n",
       "\\item 'GE RG NKX2-1 DLK1'\n",
       "\\item 'inIPC ASCL1 GSX1'\n",
       "\\item 'GE Ependymal FOXJ1'\n",
       "\\item 'inIPC ASCL1 GPX1'\n",
       "\\item 'GE RG HOPX NRG1'\n",
       "\\item 'GE RG CRYAB'\n",
       "\\item 'GE RG STMN2 SOX5'\n",
       "\\item 'Astro MFGE8'\n",
       "\\item 'InN ZIC1 ZIC2'\n",
       "\\item 'GE RG HOPX STMN1'\n",
       "\\item 'gIPC EGFR MKI67'\n",
       "\\item 'Oligo MBP PLP1'\n",
       "\\item 'InN SP8 PAX6'\n",
       "\\item 'oIPC DLL1'\n",
       "\\item 'gIPC EGFR'\n",
       "\\item 'OPC PDGFRA MKI67'\n",
       "\\item 'ExN SOX5 OPRK1 SULF1'\n",
       "\\item 'inIPC DLX1 NR2F2'\n",
       "\\item 'tRG CRYAB FNDC1'\n",
       "\\item 'ExN TSHZ2 NR4A3'\n",
       "\\item 'OPC PCDH15 COL9A1'\n",
       "\\item 'Astro EGFR'\n",
       "\\end{enumerate*}\n"
      ],
      "text/markdown": [
       "1. 'Cls FGF17 LGI1'\n",
       "2. 'RGC FABP7 PMP22'\n",
       "3. 'IPC RSPO3 NHLH1'\n",
       "4. 'InN SP8 MEIS2 RND3'\n",
       "5. 'PC NKX2-1 NKX6-2'\n",
       "6. 'PC FGF17'\n",
       "7. 'PC NKX2-1 LMO1'\n",
       "8. 'vRG HMGA2 CCND1'\n",
       "9. 'IPC RSPO3 NEUROG1'\n",
       "10. 'PC SFRP1'\n",
       "11. 'inIPC ASCL1 DLX1'\n",
       "12. 'NESC RSPO3 TEX15'\n",
       "13. 'InN LHX8 ZIC1'\n",
       "14. 'Mesenchymal LUM CYTL1'\n",
       "15. 'CR TP73'\n",
       "16. 'IPC FGF17'\n",
       "17. 'IPC EOMES NEUROG1'\n",
       "18. 'IPC EOMES NHLH1 deep'\n",
       "19. 'Cls GSX2 B3GAT2'\n",
       "20. 'RB HBA1 SNCA'\n",
       "21. 'SMC ACTA2'\n",
       "22. 'CR ETV1'\n",
       "23. 'Pericyte GRM8'\n",
       "24. 'Endothelial CLDN5 FLT1'\n",
       "25. 'ExN SOX5 PALMD'\n",
       "26. 'InN HMX1'\n",
       "27. 'InN GNRH1'\n",
       "28. 'NESC RSPO3 DIRAS3'\n",
       "29. 'RB HBA1 HBE1'\n",
       "30. 'Neu TAGLN3 ONECUT2'\n",
       "31. 'InN NKX2-1 CCND2'\n",
       "32. 'Mesenchymal FOXD3 PLP1'\n",
       "33. 'Cls RSPO3 SOX1'\n",
       "34. 'PC SFRP2'\n",
       "35. 'InN FOXP2 TSHZ1'\n",
       "36. 'Microglia PTPRC C1QC'\n",
       "37. 'VLMC PTGDS DSP'\n",
       "38. 'PC RSPO3'\n",
       "39. 'Cls LHX9 EBF1'\n",
       "40. 'PC TTR'\n",
       "41. 'InN SFRP2 MEIS2'\n",
       "42. 'InN LHX6 MAF'\n",
       "43. 'Neu TAGLN3 NRN1'\n",
       "44. 'inIPC ASCL1 SFRP2'\n",
       "45. 'IPC EOMES VIM'\n",
       "46. 'InN NR2F2 SP8'\n",
       "47. 'PC NKX2-1 RAX'\n",
       "48. 'InN SIX3 ZFHX3'\n",
       "49. 'PC TCF7L2'\n",
       "50. 'OPC PDGFRA'\n",
       "51. 'vRG SAT1 STMN2'\n",
       "52. 'InN LHX6 CRABP1'\n",
       "53. 'IPC TCF7L2'\n",
       "54. 'Endothelial CLDN5 RGS5'\n",
       "55. 'T PTPRC CD69'\n",
       "56. 'InN LHX6 DCN'\n",
       "57. 'oRG HOPX TNC'\n",
       "58. 'InN FOXP1 ISL1'\n",
       "59. 'InN LHX6 SST NPY'\n",
       "60. 'InN LHX6 SST RELN'\n",
       "61. 'ExN SOX5 ID2'\n",
       "62. 'ExN SOX5 SYT6'\n",
       "63. 'ExN SOX5 NR4A2 GRID2'\n",
       "64. 'ExN CUX2 ADRA2A'\n",
       "65. 'Astro GFAP'\n",
       "66. 'tRG CRYAB MEST'\n",
       "67. 'IPC EOMES NHLH1 up'\n",
       "68. 'ExN CUX2 PALMD'\n",
       "69. 'InN NR2F2 CRH'\n",
       "70. 'inIPC ASCL1 SP8'\n",
       "71. 'InN SP8 VIP'\n",
       "72. 'ExN SOX5 KCNV1'\n",
       "73. 'InN SP8 CRH'\n",
       "74. 'ExN CUX2 ACTN2'\n",
       "75. 'InN NR2F2 SP8 KIT'\n",
       "76. 'InN NR2F2 VIP'\n",
       "77. 'InN FOXP1 PENK'\n",
       "78. 'oRG HOPX APOE'\n",
       "79. 'InN LHX6 CCK'\n",
       "80. 'ExN SOX5 OPRK1 NR4A2'\n",
       "81. 'aIPC IGFBP2'\n",
       "82. 'InN NR2F2 LAMP5'\n",
       "83. 'Ependymal FOXJ1'\n",
       "84. 'InN LHX6 GUCY1A2'\n",
       "85. 'inIPC ASCL1 NKX2-1'\n",
       "86. 'GE CR ZFHX3'\n",
       "87. 'GE RG HMGA2 NR2F2'\n",
       "88. 'GE RG NKX2-1 OLIG1'\n",
       "89. 'GE RG HMGA2 NKX6-2'\n",
       "90. 'inIPC ASCL1 GADD45G'\n",
       "91. 'GE RG NKX2-1 DLK1'\n",
       "92. 'inIPC ASCL1 GSX1'\n",
       "93. 'GE Ependymal FOXJ1'\n",
       "94. 'inIPC ASCL1 GPX1'\n",
       "95. 'GE RG HOPX NRG1'\n",
       "96. 'GE RG CRYAB'\n",
       "97. 'GE RG STMN2 SOX5'\n",
       "98. 'Astro MFGE8'\n",
       "99. 'InN ZIC1 ZIC2'\n",
       "100. 'GE RG HOPX STMN1'\n",
       "101. 'gIPC EGFR MKI67'\n",
       "102. 'Oligo MBP PLP1'\n",
       "103. 'InN SP8 PAX6'\n",
       "104. 'oIPC DLL1'\n",
       "105. 'gIPC EGFR'\n",
       "106. 'OPC PDGFRA MKI67'\n",
       "107. 'ExN SOX5 OPRK1 SULF1'\n",
       "108. 'inIPC DLX1 NR2F2'\n",
       "109. 'tRG CRYAB FNDC1'\n",
       "110. 'ExN TSHZ2 NR4A3'\n",
       "111. 'OPC PCDH15 COL9A1'\n",
       "112. 'Astro EGFR'\n",
       "\n",
       "\n"
      ],
      "text/plain": [
       "  [1] \"Cls FGF17 LGI1\"         \"RGC FABP7 PMP22\"        \"IPC RSPO3 NHLH1\"       \n",
       "  [4] \"InN SP8 MEIS2 RND3\"     \"PC NKX2-1 NKX6-2\"       \"PC FGF17\"              \n",
       "  [7] \"PC NKX2-1 LMO1\"         \"vRG HMGA2 CCND1\"        \"IPC RSPO3 NEUROG1\"     \n",
       " [10] \"PC SFRP1\"               \"inIPC ASCL1 DLX1\"       \"NESC RSPO3 TEX15\"      \n",
       " [13] \"InN LHX8 ZIC1\"          \"Mesenchymal LUM CYTL1\"  \"CR TP73\"               \n",
       " [16] \"IPC FGF17\"              \"IPC EOMES NEUROG1\"      \"IPC EOMES NHLH1 deep\"  \n",
       " [19] \"Cls GSX2 B3GAT2\"        \"RB HBA1 SNCA\"           \"SMC ACTA2\"             \n",
       " [22] \"CR ETV1\"                \"Pericyte GRM8\"          \"Endothelial CLDN5 FLT1\"\n",
       " [25] \"ExN SOX5 PALMD\"         \"InN HMX1\"               \"InN GNRH1\"             \n",
       " [28] \"NESC RSPO3 DIRAS3\"      \"RB HBA1 HBE1\"           \"Neu TAGLN3 ONECUT2\"    \n",
       " [31] \"InN NKX2-1 CCND2\"       \"Mesenchymal FOXD3 PLP1\" \"Cls RSPO3 SOX1\"        \n",
       " [34] \"PC SFRP2\"               \"InN FOXP2 TSHZ1\"        \"Microglia PTPRC C1QC\"  \n",
       " [37] \"VLMC PTGDS DSP\"         \"PC RSPO3\"               \"Cls LHX9 EBF1\"         \n",
       " [40] \"PC TTR\"                 \"InN SFRP2 MEIS2\"        \"InN LHX6 MAF\"          \n",
       " [43] \"Neu TAGLN3 NRN1\"        \"inIPC ASCL1 SFRP2\"      \"IPC EOMES VIM\"         \n",
       " [46] \"InN NR2F2 SP8\"          \"PC NKX2-1 RAX\"          \"InN SIX3 ZFHX3\"        \n",
       " [49] \"PC TCF7L2\"              \"OPC PDGFRA\"             \"vRG SAT1 STMN2\"        \n",
       " [52] \"InN LHX6 CRABP1\"        \"IPC TCF7L2\"             \"Endothelial CLDN5 RGS5\"\n",
       " [55] \"T PTPRC CD69\"           \"InN LHX6 DCN\"           \"oRG HOPX TNC\"          \n",
       " [58] \"InN FOXP1 ISL1\"         \"InN LHX6 SST NPY\"       \"InN LHX6 SST RELN\"     \n",
       " [61] \"ExN SOX5 ID2\"           \"ExN SOX5 SYT6\"          \"ExN SOX5 NR4A2 GRID2\"  \n",
       " [64] \"ExN CUX2 ADRA2A\"        \"Astro GFAP\"             \"tRG CRYAB MEST\"        \n",
       " [67] \"IPC EOMES NHLH1 up\"     \"ExN CUX2 PALMD\"         \"InN NR2F2 CRH\"         \n",
       " [70] \"inIPC ASCL1 SP8\"        \"InN SP8 VIP\"            \"ExN SOX5 KCNV1\"        \n",
       " [73] \"InN SP8 CRH\"            \"ExN CUX2 ACTN2\"         \"InN NR2F2 SP8 KIT\"     \n",
       " [76] \"InN NR2F2 VIP\"          \"InN FOXP1 PENK\"         \"oRG HOPX APOE\"         \n",
       " [79] \"InN LHX6 CCK\"           \"ExN SOX5 OPRK1 NR4A2\"   \"aIPC IGFBP2\"           \n",
       " [82] \"InN NR2F2 LAMP5\"        \"Ependymal FOXJ1\"        \"InN LHX6 GUCY1A2\"      \n",
       " [85] \"inIPC ASCL1 NKX2-1\"     \"GE CR ZFHX3\"            \"GE RG HMGA2 NR2F2\"     \n",
       " [88] \"GE RG NKX2-1 OLIG1\"     \"GE RG HMGA2 NKX6-2\"     \"inIPC ASCL1 GADD45G\"   \n",
       " [91] \"GE RG NKX2-1 DLK1\"      \"inIPC ASCL1 GSX1\"       \"GE Ependymal FOXJ1\"    \n",
       " [94] \"inIPC ASCL1 GPX1\"       \"GE RG HOPX NRG1\"        \"GE RG CRYAB\"           \n",
       " [97] \"GE RG STMN2 SOX5\"       \"Astro MFGE8\"            \"InN ZIC1 ZIC2\"         \n",
       "[100] \"GE RG HOPX STMN1\"       \"gIPC EGFR MKI67\"        \"Oligo MBP PLP1\"        \n",
       "[103] \"InN SP8 PAX6\"           \"oIPC DLL1\"              \"gIPC EGFR\"             \n",
       "[106] \"OPC PDGFRA MKI67\"       \"ExN SOX5 OPRK1 SULF1\"   \"inIPC DLX1 NR2F2\"      \n",
       "[109] \"tRG CRYAB FNDC1\"        \"ExN TSHZ2 NR4A3\"        \"OPC PCDH15 COL9A1\"     \n",
       "[112] \"Astro EGFR\"            "
      ]
     },
     "metadata": {},
     "output_type": "display_data"
    },
    {
     "data": {
      "text/html": [
       "<style>\n",
       ".list-inline {list-style: none; margin:0; padding: 0}\n",
       ".list-inline>li {display: inline-block}\n",
       ".list-inline>li:not(:last-child)::after {content: \"\\00b7\"; padding: 0 .5ex}\n",
       "</style>\n",
       "<ol class=list-inline><li>'PC FGF17'</li><li>'PC SFRP1'</li><li>'PC NKX2-1 LMO1'</li><li>'PC NKX2-1 NKX6-2'</li><li>'GE RG NKX2-1 DLK1'</li><li>'GE RG NKX2-1 OLIG1'</li><li>'PC NKX2-1 RAX'</li><li>'PC RSPO3'</li><li>'PC TTR'</li><li>'PC SFRP2'</li><li>'PC TCF7L2'</li><li>'NESC RSPO3 DIRAS3'</li><li>'NESC RSPO3 TEX15'</li><li>'vRG HMGA2 CCND1'</li><li>'RGC FABP7 PMP22'</li><li>'vRG SAT1 STMN2'</li><li>'tRG CRYAB MEST'</li><li>'tRG CRYAB FNDC1'</li><li>'oRG HOPX TNC'</li><li>'oRG HOPX APOE'</li><li>'Ependymal FOXJ1'</li><li>'IPC EOMES VIM'</li><li>'IPC EOMES NEUROG1'</li><li>'IPC EOMES NHLH1 deep'</li><li>'IPC EOMES NHLH1 up'</li><li>'ExN SOX5 PALMD'</li><li>'ExN SOX5 ID2'</li><li>'ExN SOX5 NR4A2 GRID2'</li><li>'ExN SOX5 SYT6'</li><li>'ExN SOX5 KCNV1'</li><li>'ExN SOX5 OPRK1 NR4A2'</li><li>'ExN SOX5 OPRK1 SULF1'</li><li>'ExN CUX2 PALMD'</li><li>'ExN CUX2 ADRA2A'</li><li>'ExN CUX2 ACTN2'</li><li>'ExN TSHZ2 NR4A3'</li><li>'IPC RSPO3 NEUROG1'</li><li>'IPC RSPO3 NHLH1'</li><li>'CR ETV1'</li><li>'CR TP73'</li><li>'GE CR ZFHX3'</li><li>'GE RG HMGA2 NKX6-2'</li><li>'GE RG HMGA2 NR2F2'</li><li>'GE RG HOPX STMN1'</li><li>'GE RG HOPX NRG1'</li><li>'GE RG STMN2 SOX5'</li><li>'GE RG CRYAB'</li><li>'GE Ependymal FOXJ1'</li><li>'inIPC ASCL1 DLX1'</li><li>'inIPC ASCL1 SFRP2'</li><li>'inIPC ASCL1 GSX1'</li><li>'inIPC ASCL1 GADD45G'</li><li>'inIPC ASCL1 GPX1'</li><li>'inIPC ASCL1 SP8'</li><li>'inIPC ASCL1 NKX2-1'</li><li>'inIPC DLX1 NR2F2'</li><li>'InN NKX2-1 CCND2'</li><li>'InN LHX8 ZIC1'</li><li>'InN LHX6 CCK'</li><li>'InN LHX6 CRABP1'</li><li>'InN LHX6 MAF'</li><li>'InN LHX6 SST RELN'</li><li>'InN LHX6 SST NPY'</li><li>'InN LHX6 DCN'</li><li>'InN LHX6 GUCY1A2'</li><li>'InN HMX1'</li><li>'InN NR2F2 CRH'</li><li>'InN NR2F2 LAMP5'</li><li>'InN NR2F2 VIP'</li><li>'InN NR2F2 SP8 KIT'</li><li>'InN NR2F2 SP8'</li><li>'InN SP8 CRH'</li><li>'InN SP8 VIP'</li><li>'InN SP8 MEIS2 RND3'</li><li>'InN SP8 PAX6'</li><li>'InN ZIC1 ZIC2'</li><li>'InN GNRH1'</li><li>'InN SFRP2 MEIS2'</li><li>'InN SIX3 ZFHX3'</li><li>'InN FOXP1 ISL1'</li><li>'InN FOXP1 PENK'</li><li>'InN FOXP2 TSHZ1'</li><li>'gIPC EGFR'</li><li>'gIPC EGFR MKI67'</li><li>'aIPC IGFBP2'</li><li>'oIPC DLL1'</li><li>'Astro EGFR'</li><li>'Astro GFAP'</li><li>'Astro MFGE8'</li><li>'OPC PDGFRA'</li><li>'OPC PDGFRA MKI67'</li><li>'OPC PCDH15 COL9A1'</li><li>'Oligo MBP PLP1'</li><li>'Mesenchymal LUM CYTL1'</li><li>'Mesenchymal FOXD3 PLP1'</li><li>'Microglia PTPRC C1QC'</li><li>'T PTPRC CD69'</li><li>'RB HBA1 HBE1'</li><li>'RB HBA1 SNCA'</li><li>'Endothelial CLDN5 FLT1'</li><li>'Endothelial CLDN5 RGS5'</li><li>'Pericyte GRM8'</li><li>'SMC ACTA2'</li><li>'VLMC PTGDS DSP'</li><li>'Cls FGF17 LGI1'</li><li>'Cls LHX9 EBF1'</li><li>'Cls RSPO3 SOX1'</li><li>'Cls GSX2 B3GAT2'</li><li>'IPC FGF17'</li><li>'IPC TCF7L2'</li><li>'Neu TAGLN3 NRN1'</li><li>'Neu TAGLN3 ONECUT2'</li></ol>\n"
      ],
      "text/latex": [
       "\\begin{enumerate*}\n",
       "\\item 'PC FGF17'\n",
       "\\item 'PC SFRP1'\n",
       "\\item 'PC NKX2-1 LMO1'\n",
       "\\item 'PC NKX2-1 NKX6-2'\n",
       "\\item 'GE RG NKX2-1 DLK1'\n",
       "\\item 'GE RG NKX2-1 OLIG1'\n",
       "\\item 'PC NKX2-1 RAX'\n",
       "\\item 'PC RSPO3'\n",
       "\\item 'PC TTR'\n",
       "\\item 'PC SFRP2'\n",
       "\\item 'PC TCF7L2'\n",
       "\\item 'NESC RSPO3 DIRAS3'\n",
       "\\item 'NESC RSPO3 TEX15'\n",
       "\\item 'vRG HMGA2 CCND1'\n",
       "\\item 'RGC FABP7 PMP22'\n",
       "\\item 'vRG SAT1 STMN2'\n",
       "\\item 'tRG CRYAB MEST'\n",
       "\\item 'tRG CRYAB FNDC1'\n",
       "\\item 'oRG HOPX TNC'\n",
       "\\item 'oRG HOPX APOE'\n",
       "\\item 'Ependymal FOXJ1'\n",
       "\\item 'IPC EOMES VIM'\n",
       "\\item 'IPC EOMES NEUROG1'\n",
       "\\item 'IPC EOMES NHLH1 deep'\n",
       "\\item 'IPC EOMES NHLH1 up'\n",
       "\\item 'ExN SOX5 PALMD'\n",
       "\\item 'ExN SOX5 ID2'\n",
       "\\item 'ExN SOX5 NR4A2 GRID2'\n",
       "\\item 'ExN SOX5 SYT6'\n",
       "\\item 'ExN SOX5 KCNV1'\n",
       "\\item 'ExN SOX5 OPRK1 NR4A2'\n",
       "\\item 'ExN SOX5 OPRK1 SULF1'\n",
       "\\item 'ExN CUX2 PALMD'\n",
       "\\item 'ExN CUX2 ADRA2A'\n",
       "\\item 'ExN CUX2 ACTN2'\n",
       "\\item 'ExN TSHZ2 NR4A3'\n",
       "\\item 'IPC RSPO3 NEUROG1'\n",
       "\\item 'IPC RSPO3 NHLH1'\n",
       "\\item 'CR ETV1'\n",
       "\\item 'CR TP73'\n",
       "\\item 'GE CR ZFHX3'\n",
       "\\item 'GE RG HMGA2 NKX6-2'\n",
       "\\item 'GE RG HMGA2 NR2F2'\n",
       "\\item 'GE RG HOPX STMN1'\n",
       "\\item 'GE RG HOPX NRG1'\n",
       "\\item 'GE RG STMN2 SOX5'\n",
       "\\item 'GE RG CRYAB'\n",
       "\\item 'GE Ependymal FOXJ1'\n",
       "\\item 'inIPC ASCL1 DLX1'\n",
       "\\item 'inIPC ASCL1 SFRP2'\n",
       "\\item 'inIPC ASCL1 GSX1'\n",
       "\\item 'inIPC ASCL1 GADD45G'\n",
       "\\item 'inIPC ASCL1 GPX1'\n",
       "\\item 'inIPC ASCL1 SP8'\n",
       "\\item 'inIPC ASCL1 NKX2-1'\n",
       "\\item 'inIPC DLX1 NR2F2'\n",
       "\\item 'InN NKX2-1 CCND2'\n",
       "\\item 'InN LHX8 ZIC1'\n",
       "\\item 'InN LHX6 CCK'\n",
       "\\item 'InN LHX6 CRABP1'\n",
       "\\item 'InN LHX6 MAF'\n",
       "\\item 'InN LHX6 SST RELN'\n",
       "\\item 'InN LHX6 SST NPY'\n",
       "\\item 'InN LHX6 DCN'\n",
       "\\item 'InN LHX6 GUCY1A2'\n",
       "\\item 'InN HMX1'\n",
       "\\item 'InN NR2F2 CRH'\n",
       "\\item 'InN NR2F2 LAMP5'\n",
       "\\item 'InN NR2F2 VIP'\n",
       "\\item 'InN NR2F2 SP8 KIT'\n",
       "\\item 'InN NR2F2 SP8'\n",
       "\\item 'InN SP8 CRH'\n",
       "\\item 'InN SP8 VIP'\n",
       "\\item 'InN SP8 MEIS2 RND3'\n",
       "\\item 'InN SP8 PAX6'\n",
       "\\item 'InN ZIC1 ZIC2'\n",
       "\\item 'InN GNRH1'\n",
       "\\item 'InN SFRP2 MEIS2'\n",
       "\\item 'InN SIX3 ZFHX3'\n",
       "\\item 'InN FOXP1 ISL1'\n",
       "\\item 'InN FOXP1 PENK'\n",
       "\\item 'InN FOXP2 TSHZ1'\n",
       "\\item 'gIPC EGFR'\n",
       "\\item 'gIPC EGFR MKI67'\n",
       "\\item 'aIPC IGFBP2'\n",
       "\\item 'oIPC DLL1'\n",
       "\\item 'Astro EGFR'\n",
       "\\item 'Astro GFAP'\n",
       "\\item 'Astro MFGE8'\n",
       "\\item 'OPC PDGFRA'\n",
       "\\item 'OPC PDGFRA MKI67'\n",
       "\\item 'OPC PCDH15 COL9A1'\n",
       "\\item 'Oligo MBP PLP1'\n",
       "\\item 'Mesenchymal LUM CYTL1'\n",
       "\\item 'Mesenchymal FOXD3 PLP1'\n",
       "\\item 'Microglia PTPRC C1QC'\n",
       "\\item 'T PTPRC CD69'\n",
       "\\item 'RB HBA1 HBE1'\n",
       "\\item 'RB HBA1 SNCA'\n",
       "\\item 'Endothelial CLDN5 FLT1'\n",
       "\\item 'Endothelial CLDN5 RGS5'\n",
       "\\item 'Pericyte GRM8'\n",
       "\\item 'SMC ACTA2'\n",
       "\\item 'VLMC PTGDS DSP'\n",
       "\\item 'Cls FGF17 LGI1'\n",
       "\\item 'Cls LHX9 EBF1'\n",
       "\\item 'Cls RSPO3 SOX1'\n",
       "\\item 'Cls GSX2 B3GAT2'\n",
       "\\item 'IPC FGF17'\n",
       "\\item 'IPC TCF7L2'\n",
       "\\item 'Neu TAGLN3 NRN1'\n",
       "\\item 'Neu TAGLN3 ONECUT2'\n",
       "\\end{enumerate*}\n"
      ],
      "text/markdown": [
       "1. 'PC FGF17'\n",
       "2. 'PC SFRP1'\n",
       "3. 'PC NKX2-1 LMO1'\n",
       "4. 'PC NKX2-1 NKX6-2'\n",
       "5. 'GE RG NKX2-1 DLK1'\n",
       "6. 'GE RG NKX2-1 OLIG1'\n",
       "7. 'PC NKX2-1 RAX'\n",
       "8. 'PC RSPO3'\n",
       "9. 'PC TTR'\n",
       "10. 'PC SFRP2'\n",
       "11. 'PC TCF7L2'\n",
       "12. 'NESC RSPO3 DIRAS3'\n",
       "13. 'NESC RSPO3 TEX15'\n",
       "14. 'vRG HMGA2 CCND1'\n",
       "15. 'RGC FABP7 PMP22'\n",
       "16. 'vRG SAT1 STMN2'\n",
       "17. 'tRG CRYAB MEST'\n",
       "18. 'tRG CRYAB FNDC1'\n",
       "19. 'oRG HOPX TNC'\n",
       "20. 'oRG HOPX APOE'\n",
       "21. 'Ependymal FOXJ1'\n",
       "22. 'IPC EOMES VIM'\n",
       "23. 'IPC EOMES NEUROG1'\n",
       "24. 'IPC EOMES NHLH1 deep'\n",
       "25. 'IPC EOMES NHLH1 up'\n",
       "26. 'ExN SOX5 PALMD'\n",
       "27. 'ExN SOX5 ID2'\n",
       "28. 'ExN SOX5 NR4A2 GRID2'\n",
       "29. 'ExN SOX5 SYT6'\n",
       "30. 'ExN SOX5 KCNV1'\n",
       "31. 'ExN SOX5 OPRK1 NR4A2'\n",
       "32. 'ExN SOX5 OPRK1 SULF1'\n",
       "33. 'ExN CUX2 PALMD'\n",
       "34. 'ExN CUX2 ADRA2A'\n",
       "35. 'ExN CUX2 ACTN2'\n",
       "36. 'ExN TSHZ2 NR4A3'\n",
       "37. 'IPC RSPO3 NEUROG1'\n",
       "38. 'IPC RSPO3 NHLH1'\n",
       "39. 'CR ETV1'\n",
       "40. 'CR TP73'\n",
       "41. 'GE CR ZFHX3'\n",
       "42. 'GE RG HMGA2 NKX6-2'\n",
       "43. 'GE RG HMGA2 NR2F2'\n",
       "44. 'GE RG HOPX STMN1'\n",
       "45. 'GE RG HOPX NRG1'\n",
       "46. 'GE RG STMN2 SOX5'\n",
       "47. 'GE RG CRYAB'\n",
       "48. 'GE Ependymal FOXJ1'\n",
       "49. 'inIPC ASCL1 DLX1'\n",
       "50. 'inIPC ASCL1 SFRP2'\n",
       "51. 'inIPC ASCL1 GSX1'\n",
       "52. 'inIPC ASCL1 GADD45G'\n",
       "53. 'inIPC ASCL1 GPX1'\n",
       "54. 'inIPC ASCL1 SP8'\n",
       "55. 'inIPC ASCL1 NKX2-1'\n",
       "56. 'inIPC DLX1 NR2F2'\n",
       "57. 'InN NKX2-1 CCND2'\n",
       "58. 'InN LHX8 ZIC1'\n",
       "59. 'InN LHX6 CCK'\n",
       "60. 'InN LHX6 CRABP1'\n",
       "61. 'InN LHX6 MAF'\n",
       "62. 'InN LHX6 SST RELN'\n",
       "63. 'InN LHX6 SST NPY'\n",
       "64. 'InN LHX6 DCN'\n",
       "65. 'InN LHX6 GUCY1A2'\n",
       "66. 'InN HMX1'\n",
       "67. 'InN NR2F2 CRH'\n",
       "68. 'InN NR2F2 LAMP5'\n",
       "69. 'InN NR2F2 VIP'\n",
       "70. 'InN NR2F2 SP8 KIT'\n",
       "71. 'InN NR2F2 SP8'\n",
       "72. 'InN SP8 CRH'\n",
       "73. 'InN SP8 VIP'\n",
       "74. 'InN SP8 MEIS2 RND3'\n",
       "75. 'InN SP8 PAX6'\n",
       "76. 'InN ZIC1 ZIC2'\n",
       "77. 'InN GNRH1'\n",
       "78. 'InN SFRP2 MEIS2'\n",
       "79. 'InN SIX3 ZFHX3'\n",
       "80. 'InN FOXP1 ISL1'\n",
       "81. 'InN FOXP1 PENK'\n",
       "82. 'InN FOXP2 TSHZ1'\n",
       "83. 'gIPC EGFR'\n",
       "84. 'gIPC EGFR MKI67'\n",
       "85. 'aIPC IGFBP2'\n",
       "86. 'oIPC DLL1'\n",
       "87. 'Astro EGFR'\n",
       "88. 'Astro GFAP'\n",
       "89. 'Astro MFGE8'\n",
       "90. 'OPC PDGFRA'\n",
       "91. 'OPC PDGFRA MKI67'\n",
       "92. 'OPC PCDH15 COL9A1'\n",
       "93. 'Oligo MBP PLP1'\n",
       "94. 'Mesenchymal LUM CYTL1'\n",
       "95. 'Mesenchymal FOXD3 PLP1'\n",
       "96. 'Microglia PTPRC C1QC'\n",
       "97. 'T PTPRC CD69'\n",
       "98. 'RB HBA1 HBE1'\n",
       "99. 'RB HBA1 SNCA'\n",
       "100. 'Endothelial CLDN5 FLT1'\n",
       "101. 'Endothelial CLDN5 RGS5'\n",
       "102. 'Pericyte GRM8'\n",
       "103. 'SMC ACTA2'\n",
       "104. 'VLMC PTGDS DSP'\n",
       "105. 'Cls FGF17 LGI1'\n",
       "106. 'Cls LHX9 EBF1'\n",
       "107. 'Cls RSPO3 SOX1'\n",
       "108. 'Cls GSX2 B3GAT2'\n",
       "109. 'IPC FGF17'\n",
       "110. 'IPC TCF7L2'\n",
       "111. 'Neu TAGLN3 NRN1'\n",
       "112. 'Neu TAGLN3 ONECUT2'\n",
       "\n",
       "\n"
      ],
      "text/plain": [
       "  [1] \"PC FGF17\"               \"PC SFRP1\"               \"PC NKX2-1 LMO1\"        \n",
       "  [4] \"PC NKX2-1 NKX6-2\"       \"GE RG NKX2-1 DLK1\"      \"GE RG NKX2-1 OLIG1\"    \n",
       "  [7] \"PC NKX2-1 RAX\"          \"PC RSPO3\"               \"PC TTR\"                \n",
       " [10] \"PC SFRP2\"               \"PC TCF7L2\"              \"NESC RSPO3 DIRAS3\"     \n",
       " [13] \"NESC RSPO3 TEX15\"       \"vRG HMGA2 CCND1\"        \"RGC FABP7 PMP22\"       \n",
       " [16] \"vRG SAT1 STMN2\"         \"tRG CRYAB MEST\"         \"tRG CRYAB FNDC1\"       \n",
       " [19] \"oRG HOPX TNC\"           \"oRG HOPX APOE\"          \"Ependymal FOXJ1\"       \n",
       " [22] \"IPC EOMES VIM\"          \"IPC EOMES NEUROG1\"      \"IPC EOMES NHLH1 deep\"  \n",
       " [25] \"IPC EOMES NHLH1 up\"     \"ExN SOX5 PALMD\"         \"ExN SOX5 ID2\"          \n",
       " [28] \"ExN SOX5 NR4A2 GRID2\"   \"ExN SOX5 SYT6\"          \"ExN SOX5 KCNV1\"        \n",
       " [31] \"ExN SOX5 OPRK1 NR4A2\"   \"ExN SOX5 OPRK1 SULF1\"   \"ExN CUX2 PALMD\"        \n",
       " [34] \"ExN CUX2 ADRA2A\"        \"ExN CUX2 ACTN2\"         \"ExN TSHZ2 NR4A3\"       \n",
       " [37] \"IPC RSPO3 NEUROG1\"      \"IPC RSPO3 NHLH1\"        \"CR ETV1\"               \n",
       " [40] \"CR TP73\"                \"GE CR ZFHX3\"            \"GE RG HMGA2 NKX6-2\"    \n",
       " [43] \"GE RG HMGA2 NR2F2\"      \"GE RG HOPX STMN1\"       \"GE RG HOPX NRG1\"       \n",
       " [46] \"GE RG STMN2 SOX5\"       \"GE RG CRYAB\"            \"GE Ependymal FOXJ1\"    \n",
       " [49] \"inIPC ASCL1 DLX1\"       \"inIPC ASCL1 SFRP2\"      \"inIPC ASCL1 GSX1\"      \n",
       " [52] \"inIPC ASCL1 GADD45G\"    \"inIPC ASCL1 GPX1\"       \"inIPC ASCL1 SP8\"       \n",
       " [55] \"inIPC ASCL1 NKX2-1\"     \"inIPC DLX1 NR2F2\"       \"InN NKX2-1 CCND2\"      \n",
       " [58] \"InN LHX8 ZIC1\"          \"InN LHX6 CCK\"           \"InN LHX6 CRABP1\"       \n",
       " [61] \"InN LHX6 MAF\"           \"InN LHX6 SST RELN\"      \"InN LHX6 SST NPY\"      \n",
       " [64] \"InN LHX6 DCN\"           \"InN LHX6 GUCY1A2\"       \"InN HMX1\"              \n",
       " [67] \"InN NR2F2 CRH\"          \"InN NR2F2 LAMP5\"        \"InN NR2F2 VIP\"         \n",
       " [70] \"InN NR2F2 SP8 KIT\"      \"InN NR2F2 SP8\"          \"InN SP8 CRH\"           \n",
       " [73] \"InN SP8 VIP\"            \"InN SP8 MEIS2 RND3\"     \"InN SP8 PAX6\"          \n",
       " [76] \"InN ZIC1 ZIC2\"          \"InN GNRH1\"              \"InN SFRP2 MEIS2\"       \n",
       " [79] \"InN SIX3 ZFHX3\"         \"InN FOXP1 ISL1\"         \"InN FOXP1 PENK\"        \n",
       " [82] \"InN FOXP2 TSHZ1\"        \"gIPC EGFR\"              \"gIPC EGFR MKI67\"       \n",
       " [85] \"aIPC IGFBP2\"            \"oIPC DLL1\"              \"Astro EGFR\"            \n",
       " [88] \"Astro GFAP\"             \"Astro MFGE8\"            \"OPC PDGFRA\"            \n",
       " [91] \"OPC PDGFRA MKI67\"       \"OPC PCDH15 COL9A1\"      \"Oligo MBP PLP1\"        \n",
       " [94] \"Mesenchymal LUM CYTL1\"  \"Mesenchymal FOXD3 PLP1\" \"Microglia PTPRC C1QC\"  \n",
       " [97] \"T PTPRC CD69\"           \"RB HBA1 HBE1\"           \"RB HBA1 SNCA\"          \n",
       "[100] \"Endothelial CLDN5 FLT1\" \"Endothelial CLDN5 RGS5\" \"Pericyte GRM8\"         \n",
       "[103] \"SMC ACTA2\"              \"VLMC PTGDS DSP\"         \"Cls FGF17 LGI1\"        \n",
       "[106] \"Cls LHX9 EBF1\"          \"Cls RSPO3 SOX1\"         \"Cls GSX2 B3GAT2\"       \n",
       "[109] \"IPC FGF17\"              \"IPC TCF7L2\"             \"Neu TAGLN3 NRN1\"       \n",
       "[112] \"Neu TAGLN3 ONECUT2\"    "
      ]
     },
     "metadata": {},
     "output_type": "display_data"
    }
   ],
   "source": [
    "unique(object$subtype)\n",
    "unique(celltype.info$cluster)"
   ]
  },
  {
   "cell_type": "code",
   "execution_count": 36,
   "id": "3dc5c947-7504-4ffe-b6d6-3f353b052e6c",
   "metadata": {},
   "outputs": [],
   "source": [
    "object$subclass <- factor(object$subclass,\n",
    "                          levels=unique(celltype.info$label))"
   ]
  },
  {
   "cell_type": "code",
   "execution_count": 37,
   "id": "52181a0a-8e8d-4c6f-8a86-c69be3d126a2",
   "metadata": {},
   "outputs": [],
   "source": [
    "object$subtype <- factor(object$subtype,\n",
    "                         unique(celltype.info$cluster))"
   ]
  },
  {
   "cell_type": "code",
   "execution_count": 38,
   "id": "8526117c-e020-49eb-9f61-275487e8361a",
   "metadata": {},
   "outputs": [],
   "source": [
    "saveRDS(object = object, \n",
    "        file = 'data/All.MNN.v1.org.fct.rds')"
   ]
  },
  {
   "cell_type": "code",
   "execution_count": 39,
   "id": "be98d822-d0e7-41a2-b322-9247b5e620eb",
   "metadata": {},
   "outputs": [
    {
     "data": {
      "text/html": [
       "TRUE"
      ],
      "text/latex": [
       "TRUE"
      ],
      "text/markdown": [
       "TRUE"
      ],
      "text/plain": [
       "[1] TRUE"
      ]
     },
     "metadata": {},
     "output_type": "display_data"
    }
   ],
   "source": [
    "file.exists('data/All.MNN.v1.org.fct.rds')"
   ]
  }
 ],
 "metadata": {
  "kernelspec": {
   "display_name": "Portfolio (R)",
   "language": "R",
   "name": "portfolio-r"
  },
  "language_info": {
   "codemirror_mode": "r",
   "file_extension": ".r",
   "mimetype": "text/x-r-source",
   "name": "R",
   "pygments_lexer": "r",
   "version": "4.3.1"
  }
 },
 "nbformat": 4,
 "nbformat_minor": 5
}
