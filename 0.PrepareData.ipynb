{
 "cells": [
  {
   "cell_type": "code",
   "execution_count": null,
   "id": "9be2cbcc-7fbb-4cf8-9469-d02f00f98f9e",
   "metadata": {},
   "outputs": [],
   "source": [
    "wd <- '~/codebases/MacBrainDev/'\n",
    "setwd(wd)\n",
    "dir.create('raw')\n",
    "dir.create('data')"
   ]
  },
  {
   "cell_type": "markdown",
   "id": "31824081-c0ff-4a0c-ab6e-cd4ce06d749c",
   "metadata": {
    "tags": []
   },
   "source": [
    "# Diseases"
   ]
  },
  {
   "cell_type": "markdown",
   "id": "6f54548c-63dd-4323-aba6-7799cc8df9ce",
   "metadata": {
    "tags": []
   },
   "source": [
    "## Create table of disease-gene associations"
   ]
  },
  {
   "cell_type": "markdown",
   "id": "226e91a7-a41d-42c2-a9b0-51e18ea08848",
   "metadata": {
    "tags": []
   },
   "source": [
    "### Look-up diseases in directory"
   ]
  },
  {
   "cell_type": "code",
   "execution_count": null,
   "id": "4ca5fc2b-ec03-49c7-a31b-e24d6c4c6485",
   "metadata": {},
   "outputs": [],
   "source": [
    "diseases_dir <- 'raw/Disease_genes/'\n",
    "dir(diseases_dir)"
   ]
  },
  {
   "cell_type": "markdown",
   "id": "03f5337b-4215-4ac6-b8a0-4fa6203d796c",
   "metadata": {
    "tags": []
   },
   "source": [
    "### DISGENET"
   ]
  },
  {
   "cell_type": "markdown",
   "id": "1bdd0ea2-1ac7-4121-a8e6-b487121e5282",
   "metadata": {},
   "source": [
    "Diseases to include,"
   ]
  },
  {
   "cell_type": "code",
   "execution_count": null,
   "id": "fb52f265-f6f9-447b-abf8-5c16f6590aa9",
   "metadata": {},
   "outputs": [],
   "source": [
    "disg.disnames.fname <- paste0('raw/Disgenet_forXoel.txt')\n",
    "disg.disnames <- read.table(disg.disnames.fname, sep='\\t', col.names=c('diseaseName', 'include'))\n",
    "\n",
    "disgenet_diseases <- disg.disnames$diseaseName[as.logical(disg.disnames$include)]"
   ]
  },
  {
   "cell_type": "markdown",
   "id": "94cf4114-9618-4838-8690-4c2301cb442e",
   "metadata": {},
   "source": [
    "Disgenet table"
   ]
  },
  {
   "cell_type": "code",
   "execution_count": null,
   "id": "aaacb71e-444d-4958-b427-2990e30c7e85",
   "metadata": {},
   "outputs": [],
   "source": [
    "disgenet.fname <- paste0(diseases_dir, 'curated_gene_disease_associations.tsv')\n",
    "disgenet.min_genes <- 30\n",
    "\n",
    "disgenet <- read.csv(disgenet.fname, sep='\\t', row.names=NULL)\n",
    "disgenet[disgenet$diseaseName %in% c('Mixed oligoastrocytoma', 'oligodendroglioma'),'diseaseName'] <- 'M.Oligoastr+Oligodendrogliomas'\n",
    "\n",
    "disgenet <- disgenet[disgenet$diseaseName %in% c(disgenet_diseases, 'M.Oligoastr+Oligodendrogliomas'),]\n",
    "\n",
    "disgenet_genes <- lapply(split(disgenet$geneSymbol, disgenet$diseaseName), unique)\n",
    "names(disgenet_genes) <- paste0('DISGENET::', names(disgenet_genes))"
   ]
  },
  {
   "cell_type": "markdown",
   "id": "628e2987-0cfa-43b7-8789-2b8c9db5eb36",
   "metadata": {},
   "source": [
    "Meduloblastomas "
   ]
  },
  {
   "cell_type": "code",
   "execution_count": null,
   "id": "ab7518dc-56c7-47a1-86ad-b2096c32f069",
   "metadata": {
    "tags": []
   },
   "outputs": [],
   "source": [
    "# Condense medulloblastomas\n",
    "medullo <- unique(unlist(disgenet_genes[grep('(M|m)edullo', names(disgenet_genes), fixed=F, value=T)]))\n",
    "disgenet_genes[grep('(M|m)edullo', names(disgenet_genes), fixed=F, value=T)] <- NULL\n",
    "disgenet_genes[['DISGENET::Medulloblastomas']] <- medullo"
   ]
  },
  {
   "cell_type": "markdown",
   "id": "7760b419-3b92-4561-89d5-95b1896e11ff",
   "metadata": {},
   "source": [
    "Minimum number of genes"
   ]
  },
  {
   "cell_type": "code",
   "execution_count": null,
   "id": "1a2b555c-a29e-4ab0-b80c-8376006b4706",
   "metadata": {
    "tags": []
   },
   "outputs": [],
   "source": [
    "disgenet_genes <- disgenet_genes[sapply(disgenet_genes, length) > disgenet.min_genes]"
   ]
  },
  {
   "cell_type": "markdown",
   "id": "f6525809-0e2c-455c-b4f0-93f163c50e2e",
   "metadata": {},
   "source": [
    "Remove mixed gliomas"
   ]
  },
  {
   "cell_type": "code",
   "execution_count": null,
   "id": "e21b07ad-bbcd-44f8-831f-c321d23fd43a",
   "metadata": {
    "tags": []
   },
   "outputs": [],
   "source": [
    "# Remove mixed gliomas\n",
    "disgenet_genes['DISGENET::mixed gliomas'] <- NULL"
   ]
  },
  {
   "cell_type": "markdown",
   "id": "54254d6b-11dd-4e9f-a9f2-94ecb31037d9",
   "metadata": {
    "tags": []
   },
   "source": [
    "### All other tables"
   ]
  },
  {
   "cell_type": "code",
   "execution_count": null,
   "id": "846db460-5cba-4245-a700-6263c9c270b4",
   "metadata": {},
   "outputs": [],
   "source": [
    "dis_dfs <- setNames(lapply(grep('.txt', dir(diseases_dir), invert=F, value=T), function(x){read.table(paste0(diseases_dir,x))}),\n",
    "                    sapply(grep('.txt', dir(diseases_dir), invert=F, value=T), tools::file_path_sans_ext))\n",
    "\n",
    "dis_genes <- list()\n",
    "\n",
    "for (dis in names(dis_dfs)){\n",
    "    if (dis %in% c('ASD_CANCER','SFARI_DEVELOPMENT')){\n",
    "        next\n",
    "    }\n",
    "\n",
    "    if (ncol(dis_dfs[[dis]]) > 1){\n",
    "        colnames(dis_dfs[[dis]]) <- dis_dfs[[dis]][1,]\n",
    "        dis_dfs[[dis]]<- dis_dfs[[dis]][-1,]\n",
    "    } else {\n",
    "        dis_genes[[dis]] <- as.character(dis_dfs[[dis]][,1])\n",
    "        dis_dfs[[dis]] <- NULL\n",
    "    }\n",
    "}"
   ]
  },
  {
   "cell_type": "markdown",
   "id": "a9229685-ae49-4577-9512-5dc0b8ace482",
   "metadata": {},
   "source": [
    "DD"
   ]
  },
  {
   "cell_type": "code",
   "execution_count": null,
   "id": "b9911072-35e4-4ac9-8f43-0bda5144cdcd",
   "metadata": {},
   "outputs": [],
   "source": [
    "names(dis_genes) <- gsub('DD_genes', 'DD', names(dis_genes), fixed=T)"
   ]
  },
  {
   "cell_type": "markdown",
   "id": "9805679e-40c6-455c-92e7-96d1c13534ed",
   "metadata": {},
   "source": [
    "GWAS"
   ]
  },
  {
   "cell_type": "code",
   "execution_count": null,
   "id": "57962832-dbda-4067-93b3-f4ef8782ef08",
   "metadata": {},
   "outputs": [],
   "source": [
    "dis_dfs[['GWAS_genes']] <- dis_dfs[['GWAS_genes']][order(dis_dfs[['GWAS_genes']]$Dataset),]\n",
    "gwas_genes <- split(dis_dfs[['GWAS_genes']]$Gene, paste('GWAS', dis_dfs[['GWAS_genes']]$Dataset,\n",
    "                                                        sep='::'))\n",
    "dis_dfs[['GWAS_genes']] <- NULL"
   ]
  },
  {
   "cell_type": "markdown",
   "id": "9720bf82-d653-457e-8eee-5fcbaeb82763",
   "metadata": {},
   "source": [
    "MAGMA"
   ]
  },
  {
   "cell_type": "code",
   "execution_count": null,
   "id": "8eed3d9d-017d-4778-9c8e-f108b64661ab",
   "metadata": {},
   "outputs": [],
   "source": [
    "rownames(dis_dfs[['AllDiseasesMAGMA_GeneLevel_181220']]) <- dis_dfs[['AllDiseasesMAGMA_GeneLevel_181220']]$GENE_SYMBOL\n",
    "dis_dfs[['AllDiseasesMAGMA_GeneLevel_181220']]$GENE_SYMBOL <- NULL\n",
    "dis_dfs[['AllDiseasesMAGMA_GeneLevel_181220']]$GENE <- NULL\n",
    "colnames(dis_dfs[['AllDiseasesMAGMA_GeneLevel_181220']]) <- paste('MAGMA', \n",
    "                                                                  colnames(dis_dfs[['AllDiseasesMAGMA_GeneLevel_181220']]),\n",
    "                                                                  sep='::')"
   ]
  },
  {
   "cell_type": "code",
   "execution_count": null,
   "id": "12768897-dae7-48f7-afb6-f8fd4d25f95d",
   "metadata": {},
   "outputs": [],
   "source": [
    "max.pval <- 0.05\n",
    "top.magma <- 200"
   ]
  },
  {
   "cell_type": "code",
   "execution_count": null,
   "id": "04466ce5-79ca-4bbc-8d95-22fd1aa00d45",
   "metadata": {},
   "outputs": [],
   "source": [
    "dis_dfs[['AllDiseasesMAGMA_GeneLevel_181220']] <- as.data.frame(apply(\n",
    "    dis_dfs[['AllDiseasesMAGMA_GeneLevel_181220']], \n",
    "    2,\n",
    "    as.numeric\n",
    "    ), row.names=rownames(dis_dfs[['AllDiseasesMAGMA_GeneLevel_181220']]))"
   ]
  },
  {
   "cell_type": "code",
   "execution_count": null,
   "id": "1f6e5228-638b-42f0-a688-07e50b0d3dc0",
   "metadata": {},
   "outputs": [],
   "source": [
    "magma_genes <- lapply(\n",
    "    dis_dfs[['AllDiseasesMAGMA_GeneLevel_181220']], \n",
    "    function(x){\n",
    "        x<-setNames(x, rownames(dis_dfs[['AllDiseasesMAGMA_GeneLevel_181220']]))\n",
    "        x <- x[order(x, na.last = TRUE, decreasing = FALSE)]\n",
    "        x <- x[x < max.pval & !is.na(x)]\n",
    "        head(names(x), min(length(x), top.magma))\n",
    "    }\n",
    ")"
   ]
  },
  {
   "cell_type": "code",
   "execution_count": null,
   "id": "592a79ec-2249-4ecb-9e9b-22ca1feba0eb",
   "metadata": {},
   "outputs": [],
   "source": [
    "dis_dfs[['AllDiseasesMAGMA_GeneLevel_181220']] <- NULL"
   ]
  },
  {
   "cell_type": "markdown",
   "id": "12dffed9-9082-47b4-8d7c-0a0ee0c131b8",
   "metadata": {
    "tags": []
   },
   "source": [
    "### Merge lists"
   ]
  },
  {
   "cell_type": "code",
   "execution_count": null,
   "id": "c01fe5b1-3b0b-4a59-9df5-da72c4382510",
   "metadata": {},
   "outputs": [],
   "source": [
    "dis_genes <- dis_genes[sort(names(dis_genes))]\n",
    "disgenet_genes <- disgenet_genes[sort(names(disgenet_genes))]\n",
    "gwas_genes <- gwas_genes[sort(names(gwas_genes))]\n",
    "magma_genes <- magma_genes[sort(names(magma_genes))]"
   ]
  },
  {
   "cell_type": "code",
   "execution_count": null,
   "id": "fc403d6f-1f25-482f-8ca7-7d17e9f31055",
   "metadata": {},
   "outputs": [],
   "source": [
    "print('### SFARI + ASD + DD')\n",
    "print(names(dis_genes))\n",
    "print('### DISGENET')\n",
    "print(names(disgenet_genes))\n",
    "print('### GWAS')\n",
    "print(names(gwas_genes))\n",
    "print('### MAGMA')\n",
    "print(names(magma_genes))"
   ]
  },
  {
   "cell_type": "code",
   "execution_count": null,
   "id": "35208fd6-a009-4140-8cc2-919b77c330ae",
   "metadata": {
    "tags": []
   },
   "outputs": [],
   "source": [
    "all_diseases <- c(dis_genes, gwas_genes, magma_genes, disgenet_genes)\n",
    "names(all_diseases) <- gsub('_', ' ', names(all_diseases), fixed=T)\n",
    "\n",
    "\n",
    "\n",
    "print('All')\n",
    "print(names(all_diseases))"
   ]
  },
  {
   "cell_type": "code",
   "execution_count": null,
   "id": "ec40d366-f2a1-46ff-880c-65023ed04e33",
   "metadata": {},
   "outputs": [],
   "source": [
    "saveRDS(all_diseases, 'data/all_diseases_list.rds')"
   ]
  },
  {
   "cell_type": "code",
   "execution_count": null,
   "id": "a977220d-53f2-4931-a24e-e7001b91c463",
   "metadata": {},
   "outputs": [],
   "source": [
    "sapply(all_diseases, head)"
   ]
  },
  {
   "cell_type": "markdown",
   "id": "a11d046c-1c4b-48f7-ba10-1416c0a4f5c1",
   "metadata": {
    "tags": []
   },
   "source": [
    "## Order diseases"
   ]
  },
  {
   "cell_type": "markdown",
   "id": "79bfee74-5cfb-499d-9357-f66df744b3cb",
   "metadata": {
    "tags": []
   },
   "source": [
    "### Clustering"
   ]
  },
  {
   "cell_type": "code",
   "execution_count": null,
   "id": "31dd408d-c905-473c-a142-5c2074124284",
   "metadata": {},
   "outputs": [],
   "source": [
    "order_diss <- function(dis.lists){\n",
    "    all.dis.genes <- unique(unlist(dis.lists))\n",
    "    dis.df <- t(data.frame(row.names=all.dis.genes, \n",
    "                           lapply(dis.lists, function(x){as.numeric(all.dis.genes %in% x)})))\n",
    "    eq_cols <- setNames(names(dis.lists), rownames(dis.df))\n",
    "    hc <- hclust(dist(dis.df, method = 'binary'))\n",
    "    return(dis.lists[eq_cols[hc$labels[hc$order]]])\n",
    "}"
   ]
  },
  {
   "cell_type": "code",
   "execution_count": null,
   "id": "cc6de989-4888-48d7-a89a-be0cad5f85bb",
   "metadata": {},
   "outputs": [],
   "source": [
    "clustered_diseases <- order_diss(all_diseases)"
   ]
  },
  {
   "cell_type": "code",
   "execution_count": null,
   "id": "e0051029-20c5-4013-8f1a-541c86925aab",
   "metadata": {},
   "outputs": [],
   "source": [
    "subclustered_diseases <- c(\n",
    "    order_diss(dis_genes),\n",
    "    order_diss(gwas_genes),\n",
    "    order_diss(magma_genes),\n",
    "    order_diss(disgenet_genes))\n",
    "\n",
    "names(subclustered_diseases) <- gsub('_', ' ', names(subclustered_diseases), fixed=T)"
   ]
  },
  {
   "cell_type": "markdown",
   "id": "e95bab1e-7eb6-4906-9e7b-c1fe2fde242f",
   "metadata": {
    "tags": []
   },
   "source": [
    "### Groups and palette"
   ]
  },
  {
   "cell_type": "code",
   "execution_count": null,
   "id": "079f4f55-db28-4106-a11b-a11a53ddd964",
   "metadata": {},
   "outputs": [],
   "source": [
    "dis.groups <- c(setNames(rep('SFARI + GWAS', length(names(c(dis_genes, gwas_genes)))),\n",
    "         names(c(dis_genes, gwas_genes))),\n",
    "                setNames(rep('MAGMA', length(names(magma_genes))),\n",
    "                         names(magma_genes)),\n",
    "                setNames(rep('DISGENET', length(names(disgenet_genes))),\n",
    "                         names(disgenet_genes)))"
   ]
  },
  {
   "cell_type": "code",
   "execution_count": null,
   "id": "0f932b2b-bd7e-4cb7-9d37-6d0a79ad32f6",
   "metadata": {},
   "outputs": [],
   "source": [
    "dis.class <- c(\"ASD HC65\" = 'ASD',\n",
    "\"DD\"='PSY',\n",
    "\"SFARI Score1\"='ASD', \n",
    "\"SFARI Score2\"='ASD', \n",
    "\"SFARI Score3\"='ASD', \n",
    "\"SFARI Syndromic\"='ASD',\n",
    "\"GWAS::ADHD 2019\"='PSY', \n",
    "\"GWAS::AD 2019\"='PSY', \n",
    "\"GWAS::AN 2019\"='PSY', \n",
    "\"GWAS::ASD 2019\"='ASD',\n",
    "\"GWAS::BD 2019\"='NDD',\n",
    "\"GWAS::IQ 2018\"='PSY',\n",
    "\"GWAS::MDD 2018\"='PSY',\n",
    "\"GWAS::NEUROT 2018\"='PSY',\n",
    "\"GWAS::PD 2014\"='NDD',\n",
    "\"GWAS::SCZ 2020\"='PSY',\n",
    "\"MAGMA::ASD 2019\"='ASD',\n",
    "\"MAGMA::ADHD 2019\"='PSY',\n",
    "\"MAGMA::SCZ 2020\"='PSY',\n",
    "\"MAGMA::BD 2019\"='NDD',\n",
    "\"MAGMA::OCD 2018\"='PSY',\n",
    "\"MAGMA::AN 2019\"='PSY',\n",
    "\"MAGMA::TS 2019\"='PSY',\n",
    "\"MAGMA::MDD 2018\"='PSY',\n",
    "\"MAGMA::NEUROT 2018\"='PSY',\n",
    "\"MAGMA::IQ 2018\"='PSY',\n",
    "\"MAGMA::AD 2019\"='PSY',\n",
    "\"MAGMA::PD 2014\"='PSY',\n",
    "\"DISGENET::Giant Cell Glioblastoma\"='CANCER 1',\n",
    "\"DISGENET::Glioblastoma\"='CANCER 1',\n",
    "\"DISGENET::Glioblastoma Multiforme\"='CANCER 1',\n",
    "\"DISGENET::Glioma\"='CANCER 1',\n",
    "\"DISGENET::M.Oligoastr+Oligodendrogliomas\"='CANCER 2',\n",
    "\"DISGENET::Malignant Glioma\"='CANCER 1',\n",
    "\"DISGENET::Neuroblastoma\"='CANCER 2',\n",
    "\"DISGENET::mixed gliomas\"='CANCER 1',\n",
    "\"DISGENET::Medulloblastomas\"='CANCER 2')\n",
    "\n",
    "library(RColorBrewer)\n",
    "class.cols <- setNames(brewer.pal(n = length(unique(dis.class)), name='Accent'), unique(dis.class))\n",
    "dis.class.cols <- setNames(class.cols[dis.class], names(dis.class))\n",
    "\n",
    "\n",
    "dis.class.cols <- dis.class.cols[unlist(unname(split(names(dis.class.cols), dis.class.cols)))]"
   ]
  },
  {
   "cell_type": "code",
   "execution_count": null,
   "id": "d95eedb1-d845-4bce-a336-dca08435a294",
   "metadata": {},
   "outputs": [],
   "source": [
    "DiseasesOrdered <- list(\n",
    "    alphabetical=all_diseases,\n",
    "    clustered_together=clustered_diseases,\n",
    "    clustered_bygroup=subclustered_diseases,\n",
    "    groups=dis.groups,\n",
    "    class=dis.class,\n",
    "    class.colors=class.cols,\n",
    "    dis.class.colors=dis.class.cols\n",
    ")"
   ]
  },
  {
   "cell_type": "code",
   "execution_count": null,
   "id": "3bb4a222-e91d-44a5-9012-d0e6f4b0d8c2",
   "metadata": {},
   "outputs": [],
   "source": [
    "saveRDS(DiseasesOrdered, 'data/DiseaseListsInfo.rds')"
   ]
  },
  {
   "cell_type": "markdown",
   "id": "a5e57b56-abbe-479d-b4a7-2f786451bff1",
   "metadata": {
    "tags": []
   },
   "source": [
    "# RNA Assay"
   ]
  },
  {
   "cell_type": "markdown",
   "id": "f28a9314-b1f5-4c82-b348-cf20d3672def",
   "metadata": {},
   "source": [
    "---\n",
    "title: Data description\n",
    "author: Shaojie Ma\n",
    "date: August 31, 2022\n",
    "---\n",
    "\n",
    "## Updated seurat object\n",
    "\n",
    "\n",
    "### Object name: All.MNN.v1.org.rds\n",
    "```R\n",
    "## Cell class\n",
    "object@meta.data$subclass\n",
    "\n",
    "## Cell subtype\n",
    "object@meta.data$subtype\n",
    "\n",
    "## Age\n",
    "object@meta.data$cbnage\n",
    "\n",
    "## Region information\n",
    "object@meta.data$lobe\n",
    "```\n",
    "\n",
    "\n",
    "### Subtype order\n",
    "Subtype order is stored in this file: all.nhp.cbn.v6.txt\n",
    "You will just need the \"cluster\" column and the current order is the cell type order.\n",
    "\n",
    "\n",
    "### Subtype Colors (for MF7-A)\n",
    "```R\n",
    "## This is the colors we used in MF1\n",
    "group_colors <- c(`Patterning centers` = \"#821f44\", \n",
    "\t\t\t\t\t`dorsal NSC` = \"#f573ee\",\n",
    "\t\t\t\t\tenIPC = \"#7ca4f9\",\n",
    "\t\t\t\t\t`Excitatory neurons` = \"#2166ac\",\n",
    "\t\t\t\t\t`CR` = \"#bccf42\",\n",
    "\t\t\t\t\t`GE NSC` = \"#f1b6da\",\n",
    "\t\t\t\t\tinIPC = \"#7fe63e\",\n",
    "\t\t\t\t\t`Inhibitory neurons` = \"#0e9c23\",\n",
    "\t\t\t\t\tgIPC = \"#ffc277\",\n",
    "\t\t\t\t\tAstro = \"#e08214\",\n",
    "\t\t\t\t\t`OPC&Oligo` = \"#ad630a\",\n",
    "\t\t\t\t\tMes = \"#6aada3\",\n",
    "\t\t\t\t\tImmune = \"#7a7878\",\n",
    "\t\t\t\t\t`RB&Vas` = \"#525759\",\n",
    "\t\t\t\t\t`PAT-related subtypes` = \"#fa3980\")\n",
    "\n",
    "## For the disease main figure (MF7-A), I changed these non-significant subclasses to \"lightgrey(#D3D3D3)\"\n",
    "## Also for better contrasting, I changed the colors of \"Immune\" & \"CR(Cajal Retzius cells)\"\n",
    "## In case that some \"lightgrey\" cell types have significant scores in the updated dataset, maybe you can update their colors based on the above color codes.\n",
    "group_colors <- c(`Patterning centers` = \"#D3D3D3\", \n",
    "\t\t\t\t\t`dorsal NSC` = \"#D3D3D3\",\n",
    "\t\t\t\t\tenIPC = \"#7ca4f9\",\n",
    "\t\t\t\t\t`Excitatory neurons` = \"#2166ac\",\n",
    "\t\t\t\t\t`CR` = \"#AF9AE2\",\n",
    "\t\t\t\t\t`GE NSC` = \"#D3D3D3\",\n",
    "\t\t\t\t\tinIPC = \"#7fe63e\",\n",
    "\t\t\t\t\t`Inhibitory neurons` = \"#0e9c23\",\n",
    "\t\t\t\t\tgIPC = \"#ffc277\",\n",
    "\t\t\t\t\tAstro = \"#e08214\",\n",
    "\t\t\t\t\t`OPC&Oligo` = \"#ad630a\",\n",
    "\t\t\t\t\tMes = \"#D3D3D3\",\n",
    "\t\t\t\t\tImmune = \"#e05085\",\n",
    "\t\t\t\t\t`RB&Vas` = \"#D3D3D3\",\n",
    "\t\t\t\t\t`PAT-related subtypes` = \"#D3D3D3\")\n",
    "```\n",
    "\n",
    "\n",
    "\n"
   ]
  },
  {
   "cell_type": "code",
   "execution_count": null,
   "id": "ab8107f9-8ee6-44e0-95ce-a888436cd839",
   "metadata": {
    "scrolled": true,
    "tags": []
   },
   "outputs": [],
   "source": [
    "celltype.info <- data.table::fread('raw/all.nhp.cbn.v6.txt')\n",
    "celltype.info"
   ]
  },
  {
   "cell_type": "code",
   "execution_count": null,
   "id": "99917342-819b-4060-b88d-8cad9af17128",
   "metadata": {},
   "outputs": [],
   "source": [
    "object <- readRDS('raw/All.MNN.v1.org.rds')"
   ]
  },
  {
   "cell_type": "code",
   "execution_count": null,
   "id": "790b5cd5-156e-4547-8489-83e1c4971900",
   "metadata": {},
   "outputs": [],
   "source": [
    "object"
   ]
  },
  {
   "cell_type": "code",
   "execution_count": null,
   "id": "e3b6c1a7-ecd5-40c3-931e-5e20e8a34c1b",
   "metadata": {},
   "outputs": [],
   "source": [
    "## Cell class\n",
    "str(object@meta.data$subclass)\n",
    "\n",
    "## Cell subtype\n",
    "str(object@meta.data$subtype)\n",
    "\n",
    "## Age\n",
    "str(object@meta.data$cbnage)\n",
    "\n",
    "## Region information\n",
    "str(object@meta.data$lobe)\n"
   ]
  },
  {
   "cell_type": "markdown",
   "id": "d485c24d-045b-4a6d-80ac-1e59568622a5",
   "metadata": {},
   "source": [
    "In object, subclass refers to label in the annotation, which is the subclass label.\n",
    "In object, subtype refers to cluster in the annotation."
   ]
  },
  {
   "cell_type": "code",
   "execution_count": null,
   "id": "01841e03-9135-4efb-bf89-769feb2ed74d",
   "metadata": {},
   "outputs": [],
   "source": [
    "all(unique(object$subclass) %in% unique(celltype.info$label))"
   ]
  },
  {
   "cell_type": "code",
   "execution_count": null,
   "id": "d9475645-a4a6-4258-9529-95a4e7850b42",
   "metadata": {},
   "outputs": [],
   "source": [
    "all(unique(object$subtype) %in% unique(celltype.info$cluster))"
   ]
  },
  {
   "cell_type": "code",
   "execution_count": null,
   "id": "997ddbb5-172b-4378-aaed-9a67da24cb7e",
   "metadata": {},
   "outputs": [],
   "source": [
    "unique(object$subclass)\n",
    "unique(celltype.info$label)"
   ]
  },
  {
   "cell_type": "code",
   "execution_count": null,
   "id": "3a7e67ba-702b-426e-8270-ac3711604693",
   "metadata": {
    "scrolled": true,
    "tags": []
   },
   "outputs": [],
   "source": [
    "unique(object$subtype)\n",
    "unique(celltype.info$cluster)"
   ]
  },
  {
   "cell_type": "code",
   "execution_count": null,
   "id": "3dc5c947-7504-4ffe-b6d6-3f353b052e6c",
   "metadata": {},
   "outputs": [],
   "source": [
    "object$subclass <- factor(object$subclass,\n",
    "                          levels=unique(celltype.info$label))"
   ]
  },
  {
   "cell_type": "code",
   "execution_count": null,
   "id": "52181a0a-8e8d-4c6f-8a86-c69be3d126a2",
   "metadata": {},
   "outputs": [],
   "source": [
    "object$subtype <- factor(object$subtype,\n",
    "                         unique(celltype.info$cluster))"
   ]
  },
  {
   "cell_type": "code",
   "execution_count": null,
   "id": "8526117c-e020-49eb-9f61-275487e8361a",
   "metadata": {},
   "outputs": [],
   "source": [
    "saveRDS(object = object, \n",
    "        file = 'data/All.MNN.v1.org.fct.rds')"
   ]
  },
  {
   "cell_type": "code",
   "execution_count": null,
   "id": "be98d822-d0e7-41a2-b322-9247b5e620eb",
   "metadata": {},
   "outputs": [],
   "source": [
    "file.exists('data/All.MNN.v1.org.fct.rds')"
   ]
  }
 ],
 "metadata": {
  "kernelspec": {
   "display_name": "Portfolio (R)",
   "language": "R",
   "name": "portfolio-r"
  },
  "language_info": {
   "codemirror_mode": "r",
   "file_extension": ".r",
   "mimetype": "text/x-r-source",
   "name": "R",
   "pygments_lexer": "r",
   "version": "4.3.1"
  }
 },
 "nbformat": 4,
 "nbformat_minor": 5
}
